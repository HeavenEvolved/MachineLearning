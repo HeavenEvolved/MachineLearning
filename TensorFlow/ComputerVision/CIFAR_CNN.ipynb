{
  "cells": [
    {
      "cell_type": "markdown",
      "metadata": {
        "id": "As2DJnPztU6n"
      },
      "source": [
        "# **Imports**"
      ]
    },
    {
      "cell_type": "code",
      "execution_count": null,
      "metadata": {
        "colab": {
          "base_uri": "https://localhost:8080/"
        },
        "id": "PLVwgaRctU6u",
        "outputId": "74ee421b-cf36-4fe6-9140-ca4872ccc098"
      },
      "outputs": [
        {
          "name": "stdout",
          "output_type": "stream",
          "text": [
            "Colab only includes TensorFlow 2.x; %tensorflow_version has no effect.\n"
          ]
        }
      ],
      "source": [
        "import os\n",
        "os.environ['TF_CPP_MIN_LOG_LEVEL'] = '2'\n",
        "\n",
        "%tensorflow_version 2.x\n",
        "import tensorflow as tf\n",
        "\n",
        "from tensorflow.keras import datasets, layers, models, regularizers # type: ignore\n",
        "\n",
        "import numpy as np\n",
        "\n",
        "import matplotlib.pyplot as plt\n",
        "\n",
        "from keras.preprocessing import image\n",
        "from keras.preprocessing.image import ImageDataGenerator"
      ]
    },
    {
      "cell_type": "code",
      "execution_count": null,
      "metadata": {
        "colab": {
          "base_uri": "https://localhost:8080/"
        },
        "id": "Cbdw1Xl8RA23",
        "outputId": "f6a9047f-ea32-41f2-f9ed-16edce745ecc"
      },
      "outputs": [
        {
          "data": {
            "text/plain": [
              "[PhysicalDevice(name='/physical_device:CPU:0', device_type='CPU'),\n",
              " PhysicalDevice(name='/physical_device:GPU:0', device_type='GPU')]"
            ]
          },
          "execution_count": 2,
          "metadata": {},
          "output_type": "execute_result"
        }
      ],
      "source": [
        "tf.config.list_physical_devices(device_type=None)"
      ]
    },
    {
      "cell_type": "markdown",
      "metadata": {
        "id": "ZM05UUfxtU6x"
      },
      "source": [
        "## **Importing CIFAR Dataset**"
      ]
    },
    {
      "cell_type": "code",
      "execution_count": null,
      "metadata": {
        "colab": {
          "base_uri": "https://localhost:8080/"
        },
        "id": "hxJcLkn8tU6y",
        "outputId": "bcd8b129-dd2b-407e-d1de-84bb215b8df5"
      },
      "outputs": [
        {
          "name": "stdout",
          "output_type": "stream",
          "text": [
            "Downloading data from https://www.cs.toronto.edu/~kriz/cifar-10-python.tar.gz\n",
            "170498071/170498071 [==============================] - 2s 0us/step\n"
          ]
        }
      ],
      "source": [
        "# This has 60,000 32x32 color images with 10 classes and 6000 images for each class.\n",
        "\n",
        "(train_images, train_labels), (test_images, test_labels) = datasets.cifar10.load_data()"
      ]
    },
    {
      "cell_type": "markdown",
      "metadata": {
        "id": "PbsqzhWltU61"
      },
      "source": [
        "### **Normalizing Data**"
      ]
    },
    {
      "cell_type": "code",
      "execution_count": null,
      "metadata": {
        "id": "SGGsqayctU62"
      },
      "outputs": [],
      "source": [
        "train_images = train_images / 255.0\n",
        "\n",
        "test_images = test_images / 255.0"
      ]
    },
    {
      "cell_type": "code",
      "execution_count": null,
      "metadata": {
        "colab": {
          "base_uri": "https://localhost:8080/"
        },
        "id": "mRJIuVUy-84X",
        "outputId": "7c938ea7-f576-4a4c-9e25-dc061154b5bd"
      },
      "outputs": [
        {
          "data": {
            "text/plain": [
              "(50000, 32, 32, 3)"
            ]
          },
          "execution_count": 5,
          "metadata": {},
          "output_type": "execute_result"
        }
      ],
      "source": [
        "train_images.shape"
      ]
    },
    {
      "cell_type": "markdown",
      "metadata": {
        "id": "nqwF4LRStU68"
      },
      "source": [
        "## **Class Names**"
      ]
    },
    {
      "cell_type": "code",
      "execution_count": null,
      "metadata": {
        "id": "UYR19VnqtU6-"
      },
      "outputs": [],
      "source": [
        "class_names = ['airplane', 'automobile', 'bird', 'cat', 'deer', 'dog', 'frog', 'horse', 'ship', 'truck']"
      ]
    },
    {
      "cell_type": "markdown",
      "metadata": {
        "id": "68VP1hfItU6_"
      },
      "source": [
        "## **Show Image**"
      ]
    },
    {
      "cell_type": "code",
      "execution_count": null,
      "metadata": {
        "colab": {
          "base_uri": "https://localhost:8080/",
          "height": 280
        },
        "id": "Q2TLxtPjtU7C",
        "outputId": "b3762945-144c-4fb6-b03c-a964a402bfc8"
      },
      "outputs": [
        {
          "data": {
            "image/png": "[encoded data removed]",
            "text/plain": [
              "<Figure size 432x288 with 1 Axes>"
            ]
          },
          "metadata": {
            "needs_background": "light"
          },
          "output_type": "display_data"
        }
      ],
      "source": [
        "img_selector = 2\n",
        "\n",
        "plt.imshow(train_images[img_selector], cmap= plt.cm.binary)\n",
        "\n",
        "plt.xlabel(class_names[train_labels[img_selector][0]])\n",
        "\n",
        "plt.show()"
      ]
    },
    {
      "cell_type": "markdown",
      "metadata": {
        "id": "P6X6XOCytU7F"
      },
      "source": [
        "# **Building Model**"
      ]
    },
    {
      "cell_type": "code",
      "execution_count": null,
      "metadata": {
        "id": "fHRAUnnatU7J"
      },
      "outputs": [],
      "source": [
        "model = models.Sequential()"
      ]
    },
    {
      "cell_type": "markdown",
      "metadata": {
        "id": "qFzT3Y-stU7N"
      },
      "source": [
        "## **Convoluted Layers**"
      ]
    },
    {
      "cell_type": "code",
      "execution_count": null,
      "metadata": {
        "id": "O4lHRg0ZtU7N"
      },
      "outputs": [],
      "source": [
        "model.add(layers.Conv2D(32, (3, 3), activation= 'relu', input_shape= (32, 32, 3)))\n",
        "model.add(layers.Dropout(0.5))\n",
        "model.add(layers.MaxPooling2D((2, 2)))\n",
        "\n",
        "model.add(layers.Conv2D(64, (3, 3), padding= 'same', kernel_regularizer= regularizers.l2(0.01), activation= 'relu'))\n",
        "model.add(layers.Dropout(0.5))\n",
        "model.add(layers.MaxPooling2D((2, 2)))\n",
        "\n",
        "model.add(layers.Conv2D(64, (3, 3), padding= 'same', kernel_regularizer= regularizers.l2(0.01), activation= 'relu'))\n",
        "model.add(layers.BatchNormalization())\n",
        "model.add(layers.Dropout(0.5))\n"
      ]
    },
    {
      "cell_type": "code",
      "execution_count": null,
      "metadata": {
        "colab": {
          "base_uri": "https://localhost:8080/"
        },
        "id": "SR1GMj1xtU7O",
        "outputId": "5be7c2e5-079e-4259-a937-6875c4a825b5"
      },
      "outputs": [
        {
          "name": "stdout",
          "output_type": "stream",
          "text": [
            "Model: \"sequential\"\n",
            "_________________________________________________________________\n",
            " Layer (type)                Output Shape              Param #   \n",
            "=================================================================\n",
            " conv2d (Conv2D)             (None, 30, 30, 32)        896       \n",
            "                                                                 \n",
            " dropout (Dropout)           (None, 30, 30, 32)        0         \n",
            "                                                                 \n",
            " max_pooling2d (MaxPooling2D  (None, 15, 15, 32)       0         \n",
            " )                                                               \n",
            "                                                                 \n",
            " conv2d_1 (Conv2D)           (None, 15, 15, 64)        18496     \n",
            "                                                                 \n",
            " dropout_1 (Dropout)         (None, 15, 15, 64)        0         \n",
            "                                                                 \n",
            " max_pooling2d_1 (MaxPooling  (None, 7, 7, 64)         0         \n",
            " 2D)                                                             \n",
            "                                                                 \n",
            " conv2d_2 (Conv2D)           (None, 7, 7, 64)          36928     \n",
            "                                                                 \n",
            " batch_normalization (BatchN  (None, 7, 7, 64)         256       \n",
            " ormalization)                                                   \n",
            "                                                                 \n",
            " dropout_2 (Dropout)         (None, 7, 7, 64)          0         \n",
            "                                                                 \n",
            "=================================================================\n",
            "Total params: 56,576\n",
            "Trainable params: 56,448\n",
            "Non-trainable params: 128\n",
            "_________________________________________________________________\n"
          ]
        }
      ],
      "source": [
        "model.summary()"
      ]
    },
    {
      "cell_type": "markdown",
      "metadata": {
        "id": "Y5gEl01-tU7P"
      },
      "source": [
        "## **Dense Layers**"
      ]
    },
    {
      "cell_type": "code",
      "execution_count": null,
      "metadata": {
        "id": "Y6YMZNyytU7Q"
      },
      "outputs": [],
      "source": [
        "model.add(layers.Flatten())\n",
        "model.add(layers.Dense(128, activation= 'relu', kernel_regularizer= regularizers.l2(0.01)))\n",
        "model.add(layers.Dense(64, activation='relu', kernel_regularizer= regularizers.l2(0.01)))\n",
        "model.add(layers.Dense(32, activation= 'relu', kernel_regularizer= regularizers.l2(0.01)))\n",
        "model.add(layers.Dense(10, activation= 'relu'))\n"
      ]
    },
    {
      "cell_type": "code",
      "execution_count": null,
      "metadata": {
        "colab": {
          "base_uri": "https://localhost:8080/"
        },
        "id": "zFoYqOWutU7S",
        "outputId": "02fb0dbb-fec7-40a2-f9de-d705da2ce223"
      },
      "outputs": [
        {
          "name": "stdout",
          "output_type": "stream",
          "text": [
            "Model: \"sequential\"\n",
            "_________________________________________________________________\n",
            " Layer (type)                Output Shape              Param #   \n",
            "=================================================================\n",
            " conv2d (Conv2D)             (None, 30, 30, 32)        896       \n",
            "                                                                 \n",
            " dropout (Dropout)           (None, 30, 30, 32)        0         \n",
            "                                                                 \n",
            " max_pooling2d (MaxPooling2D  (None, 15, 15, 32)       0         \n",
            " )                                                               \n",
            "                                                                 \n",
            " conv2d_1 (Conv2D)           (None, 15, 15, 64)        18496     \n",
            "                                                                 \n",
            " dropout_1 (Dropout)         (None, 15, 15, 64)        0         \n",
            "                                                                 \n",
            " max_pooling2d_1 (MaxPooling  (None, 7, 7, 64)         0         \n",
            " 2D)                                                             \n",
            "                                                                 \n",
            " conv2d_2 (Conv2D)           (None, 7, 7, 64)          36928     \n",
            "                                                                 \n",
            " batch_normalization (BatchN  (None, 7, 7, 64)         256       \n",
            " ormalization)                                                   \n",
            "                                                                 \n",
            " dropout_2 (Dropout)         (None, 7, 7, 64)          0         \n",
            "                                                                 \n",
            " flatten (Flatten)           (None, 3136)              0         \n",
            "                                                                 \n",
            " dense (Dense)               (None, 128)               401536    \n",
            "                                                                 \n",
            " dense_1 (Dense)             (None, 64)                8256      \n",
            "                                                                 \n",
            " dense_2 (Dense)             (None, 32)                2080      \n",
            "                                                                 \n",
            " dense_3 (Dense)             (None, 10)                330       \n",
            "                                                                 \n",
            "=================================================================\n",
            "Total params: 468,778\n",
            "Trainable params: 468,650\n",
            "Non-trainable params: 128\n",
            "_________________________________________________________________\n"
          ]
        }
      ],
      "source": [
        "model.summary()"
      ]
    },
    {
      "cell_type": "markdown",
      "metadata": {
        "id": "0iZEiJeG2Dsp"
      },
      "source": [
        "Model: \"sequential\"\n",
        "_________________________________________________________________\n",
        " Layer (type)                Output Shape              Param #   \n",
        "=================================================================\n",
        " conv2d (Conv2D)             (None, 30, 30, 32)        896       \n",
        "                                                                 \n",
        " max_pooling2d (MaxPooling2D  (None, 15, 15, 32)       0         \n",
        " )                                                               \n",
        "                                                                 \n",
        " conv2d_1 (Conv2D)           (None, 13, 13, 64)        18496     \n",
        "                                                                 \n",
        " max_pooling2d_1 (MaxPooling  (None, 6, 6, 64)         0         \n",
        " 2D)                                                             \n",
        "                                                                 \n",
        " conv2d_2 (Conv2D)           (None, 4, 4, 64)          36928     \n",
        "                                                                 \n",
        " flatten (Flatten)           (None, 1024)              0         \n",
        "                                                                 \n",
        " dense (Dense)               (None, 200)               205000    \n",
        "                                                                 \n",
        " dense_1 (Dense)             (None, 100)               20100     \n",
        "                                                                 \n",
        " dense_2 (Dense)             (None, 50)                5050      \n",
        "                                                                 \n",
        " dense_3 (Dense)             (None, 10)                510       \n",
        "                                                                 \n",
        "=================================================================\n",
        "Total params: 286,980\n",
        "Trainable params: 286,980\n",
        "Non-trainable params: 0\n",
        "_________________________________________________________________"
      ]
    },
    {
      "cell_type": "markdown",
      "metadata": {
        "id": "1FYoZ4mxtU7W"
      },
      "source": [
        "# **Compile Model**"
      ]
    },
    {
      "cell_type": "code",
      "execution_count": null,
      "metadata": {
        "colab": {
          "base_uri": "https://localhost:8080/"
        },
        "id": "uA6olU1rtU7X",
        "outputId": "8ecb3782-cbf0-4b4c-bc3b-4de12a7fc0cc"
      },
      "outputs": [
        {
          "name": "stdout",
          "output_type": "stream",
          "text": [
            "Epoch 1/200\n"
          ]
        },
        {
          "name": "stderr",
          "output_type": "stream",
          "text": [
            "/usr/local/lib/python3.7/dist-packages/tensorflow/python/util/dispatch.py:1082: UserWarning: \"`sparse_categorical_crossentropy` received `from_logits=True`, but the `output` argument was produced by a sigmoid or softmax activation and thus does not represent logits. Was this intended?\"\n",
            "  return dispatch_target(*args, **kwargs)\n"
          ]
        },
        {
          "name": "stdout",
          "output_type": "stream",
          "text": [
            "25/25 [==============================] - 12s 123ms/step - loss: 5.9115 - accuracy: 0.2353 - val_loss: 5.0724 - val_accuracy: 0.2862\n",
            "Epoch 2/200\n",
            "25/25 [==============================] - 2s 89ms/step - loss: 3.9031 - accuracy: 0.3894 - val_loss: 3.9407 - val_accuracy: 0.3327\n",
            "Epoch 3/200\n",
            "25/25 [==============================] - 2s 90ms/step - loss: 2.9089 - accuracy: 0.4692 - val_loss: 3.4084 - val_accuracy: 0.3003\n",
            "Epoch 4/200\n",
            "25/25 [==============================] - 2s 90ms/step - loss: 2.3920 - accuracy: 0.5254 - val_loss: 3.1349 - val_accuracy: 0.2451\n",
            "Epoch 5/200\n",
            "25/25 [==============================] - 2s 90ms/step - loss: 2.0821 - accuracy: 0.5639 - val_loss: 2.9697 - val_accuracy: 0.2018\n",
            "Epoch 6/200\n",
            "25/25 [==============================] - 2s 90ms/step - loss: 1.8634 - accuracy: 0.5962 - val_loss: 2.8594 - val_accuracy: 0.2369\n",
            "Epoch 7/200\n",
            "25/25 [==============================] - 2s 90ms/step - loss: 1.7172 - accuracy: 0.6204 - val_loss: 2.7782 - val_accuracy: 0.2616\n",
            "Epoch 8/200\n",
            "25/25 [==============================] - 2s 90ms/step - loss: 1.6004 - accuracy: 0.6391 - val_loss: 2.6758 - val_accuracy: 0.2396\n",
            "Epoch 9/200\n",
            "25/25 [==============================] - 2s 90ms/step - loss: 1.5153 - accuracy: 0.6546 - val_loss: 2.6102 - val_accuracy: 0.2147\n",
            "Epoch 10/200\n",
            "25/25 [==============================] - 2s 89ms/step - loss: 1.4568 - accuracy: 0.6622 - val_loss: 2.5474 - val_accuracy: 0.2523\n",
            "Epoch 11/200\n",
            "25/25 [==============================] - 2s 90ms/step - loss: 1.4037 - accuracy: 0.6704 - val_loss: 2.5284 - val_accuracy: 0.2182\n",
            "Epoch 12/200\n",
            "25/25 [==============================] - 2s 91ms/step - loss: 1.3523 - accuracy: 0.6831 - val_loss: 2.4599 - val_accuracy: 0.2473\n",
            "Epoch 13/200\n",
            "25/25 [==============================] - 2s 90ms/step - loss: 1.3168 - accuracy: 0.6915 - val_loss: 2.3772 - val_accuracy: 0.3000\n",
            "Epoch 14/200\n",
            "25/25 [==============================] - 2s 90ms/step - loss: 1.2914 - accuracy: 0.6935 - val_loss: 2.3153 - val_accuracy: 0.3192\n",
            "Epoch 15/200\n",
            "25/25 [==============================] - 2s 90ms/step - loss: 1.2674 - accuracy: 0.6990 - val_loss: 2.3996 - val_accuracy: 0.2474\n",
            "Epoch 16/200\n",
            "25/25 [==============================] - 2s 91ms/step - loss: 1.2455 - accuracy: 0.7044 - val_loss: 2.2137 - val_accuracy: 0.3806\n",
            "Epoch 17/200\n",
            "25/25 [==============================] - 2s 91ms/step - loss: 1.2318 - accuracy: 0.7069 - val_loss: 2.1249 - val_accuracy: 0.3702\n",
            "Epoch 18/200\n",
            "25/25 [==============================] - 2s 91ms/step - loss: 1.2114 - accuracy: 0.7119 - val_loss: 2.2275 - val_accuracy: 0.3046\n",
            "Epoch 19/200\n",
            "25/25 [==============================] - 2s 89ms/step - loss: 1.1912 - accuracy: 0.7168 - val_loss: 2.0969 - val_accuracy: 0.3687\n",
            "Epoch 20/200\n",
            "25/25 [==============================] - 2s 91ms/step - loss: 1.1753 - accuracy: 0.7188 - val_loss: 2.1832 - val_accuracy: 0.3156\n",
            "Epoch 21/200\n",
            "25/25 [==============================] - 2s 90ms/step - loss: 1.1571 - accuracy: 0.7240 - val_loss: 2.0214 - val_accuracy: 0.3866\n",
            "Epoch 22/200\n",
            "25/25 [==============================] - 2s 90ms/step - loss: 1.1519 - accuracy: 0.7267 - val_loss: 2.2036 - val_accuracy: 0.3165\n",
            "Epoch 23/200\n",
            "25/25 [==============================] - 2s 91ms/step - loss: 1.1453 - accuracy: 0.7289 - val_loss: 2.1124 - val_accuracy: 0.3265\n",
            "Epoch 24/200\n",
            "25/25 [==============================] - 3s 102ms/step - loss: 1.1330 - accuracy: 0.7299 - val_loss: 1.8484 - val_accuracy: 0.4342\n",
            "Epoch 25/200\n",
            "25/25 [==============================] - 2s 95ms/step - loss: 1.1287 - accuracy: 0.7313 - val_loss: 2.1472 - val_accuracy: 0.3540\n",
            "Epoch 26/200\n",
            "25/25 [==============================] - 2s 91ms/step - loss: 1.1220 - accuracy: 0.7339 - val_loss: 2.3584 - val_accuracy: 0.2894\n",
            "Epoch 27/200\n",
            "25/25 [==============================] - 2s 95ms/step - loss: 1.1150 - accuracy: 0.7369 - val_loss: 1.9818 - val_accuracy: 0.4039\n",
            "Epoch 28/200\n",
            "25/25 [==============================] - 2s 91ms/step - loss: 1.1091 - accuracy: 0.7355 - val_loss: 1.9971 - val_accuracy: 0.3913\n",
            "Epoch 29/200\n",
            "25/25 [==============================] - 2s 90ms/step - loss: 1.0997 - accuracy: 0.7379 - val_loss: 2.4240 - val_accuracy: 0.3193\n",
            "Epoch 30/200\n",
            "25/25 [==============================] - 2s 91ms/step - loss: 1.0926 - accuracy: 0.7410 - val_loss: 2.2155 - val_accuracy: 0.3409\n",
            "Epoch 31/200\n",
            "25/25 [==============================] - 2s 90ms/step - loss: 1.0859 - accuracy: 0.7405 - val_loss: 2.0420 - val_accuracy: 0.3851\n",
            "Epoch 32/200\n",
            "25/25 [==============================] - 2s 90ms/step - loss: 1.0770 - accuracy: 0.7463 - val_loss: 2.2839 - val_accuracy: 0.3439\n",
            "Epoch 33/200\n",
            "25/25 [==============================] - 2s 91ms/step - loss: 1.0674 - accuracy: 0.7481 - val_loss: 2.4189 - val_accuracy: 0.3352\n",
            "Epoch 34/200\n",
            "25/25 [==============================] - 2s 91ms/step - loss: 1.0634 - accuracy: 0.7489 - val_loss: 2.2903 - val_accuracy: 0.3601\n",
            "Epoch 35/200\n",
            "25/25 [==============================] - 2s 93ms/step - loss: 1.0714 - accuracy: 0.7452 - val_loss: 2.5666 - val_accuracy: 0.3110\n",
            "Epoch 36/200\n",
            "25/25 [==============================] - 2s 96ms/step - loss: 1.0588 - accuracy: 0.7512 - val_loss: 2.2541 - val_accuracy: 0.3809\n",
            "Epoch 37/200\n",
            "25/25 [==============================] - 2s 91ms/step - loss: 1.0591 - accuracy: 0.7495 - val_loss: 2.4408 - val_accuracy: 0.3399\n",
            "Epoch 38/200\n",
            "25/25 [==============================] - 2s 91ms/step - loss: 1.0447 - accuracy: 0.7544 - val_loss: 2.3178 - val_accuracy: 0.3567\n",
            "Epoch 39/200\n",
            "25/25 [==============================] - 2s 92ms/step - loss: 1.0494 - accuracy: 0.7538 - val_loss: 2.1773 - val_accuracy: 0.3685\n",
            "Epoch 40/200\n",
            "25/25 [==============================] - 2s 90ms/step - loss: 1.0428 - accuracy: 0.7545 - val_loss: 1.8805 - val_accuracy: 0.4754\n",
            "Epoch 41/200\n",
            "25/25 [==============================] - 2s 93ms/step - loss: 1.0383 - accuracy: 0.7582 - val_loss: 2.2625 - val_accuracy: 0.3717\n",
            "Epoch 42/200\n",
            "25/25 [==============================] - 2s 93ms/step - loss: 1.0383 - accuracy: 0.7585 - val_loss: 2.3332 - val_accuracy: 0.3546\n",
            "Epoch 43/200\n",
            "25/25 [==============================] - 2s 92ms/step - loss: 1.0303 - accuracy: 0.7610 - val_loss: 2.5179 - val_accuracy: 0.3420\n",
            "Epoch 44/200\n",
            "25/25 [==============================] - 2s 93ms/step - loss: 1.0235 - accuracy: 0.7625 - val_loss: 2.5362 - val_accuracy: 0.3274\n",
            "Epoch 45/200\n",
            "25/25 [==============================] - 2s 93ms/step - loss: 1.0244 - accuracy: 0.7605 - val_loss: 2.3812 - val_accuracy: 0.3557\n",
            "Epoch 46/200\n",
            "25/25 [==============================] - 2s 91ms/step - loss: 1.0161 - accuracy: 0.7637 - val_loss: 3.0504 - val_accuracy: 0.2557\n",
            "Epoch 47/200\n",
            "25/25 [==============================] - 2s 92ms/step - loss: 1.0212 - accuracy: 0.7624 - val_loss: 3.2041 - val_accuracy: 0.2488\n",
            "Epoch 48/200\n",
            "25/25 [==============================] - 2s 92ms/step - loss: 1.0117 - accuracy: 0.7660 - val_loss: 2.4760 - val_accuracy: 0.3651\n",
            "Epoch 49/200\n",
            "25/25 [==============================] - 2s 92ms/step - loss: 1.0093 - accuracy: 0.7665 - val_loss: 2.5457 - val_accuracy: 0.3397\n",
            "Epoch 50/200\n",
            "25/25 [==============================] - 2s 92ms/step - loss: 1.0060 - accuracy: 0.7670 - val_loss: 2.6837 - val_accuracy: 0.3045\n",
            "Epoch 51/200\n",
            "25/25 [==============================] - 2s 91ms/step - loss: 1.0051 - accuracy: 0.7663 - val_loss: 2.1835 - val_accuracy: 0.4139\n",
            "Epoch 52/200\n",
            "25/25 [==============================] - 2s 93ms/step - loss: 1.0069 - accuracy: 0.7675 - val_loss: 2.3852 - val_accuracy: 0.3438\n",
            "Epoch 53/200\n",
            "25/25 [==============================] - 2s 91ms/step - loss: 0.9968 - accuracy: 0.7691 - val_loss: 2.2719 - val_accuracy: 0.3726\n",
            "Epoch 54/200\n",
            "25/25 [==============================] - 2s 90ms/step - loss: 0.9981 - accuracy: 0.7704 - val_loss: 2.1786 - val_accuracy: 0.4057\n",
            "Epoch 55/200\n",
            "25/25 [==============================] - 2s 92ms/step - loss: 0.9869 - accuracy: 0.7738 - val_loss: 2.5061 - val_accuracy: 0.3220\n",
            "Epoch 56/200\n",
            "25/25 [==============================] - 2s 91ms/step - loss: 0.9860 - accuracy: 0.7748 - val_loss: 2.1324 - val_accuracy: 0.4127\n",
            "Epoch 57/200\n",
            "25/25 [==============================] - 2s 91ms/step - loss: 0.9862 - accuracy: 0.7725 - val_loss: 1.9927 - val_accuracy: 0.4491\n",
            "Epoch 58/200\n",
            "25/25 [==============================] - 2s 92ms/step - loss: 0.9810 - accuracy: 0.7771 - val_loss: 2.3279 - val_accuracy: 0.3745\n",
            "Epoch 59/200\n",
            "25/25 [==============================] - 2s 91ms/step - loss: 0.9776 - accuracy: 0.7786 - val_loss: 2.2331 - val_accuracy: 0.4058\n",
            "Epoch 60/200\n",
            "25/25 [==============================] - 2s 91ms/step - loss: 0.9853 - accuracy: 0.7725 - val_loss: 2.4566 - val_accuracy: 0.3593\n",
            "Epoch 61/200\n",
            "25/25 [==============================] - 2s 92ms/step - loss: 0.9832 - accuracy: 0.7742 - val_loss: 2.0544 - val_accuracy: 0.4413\n",
            "Epoch 62/200\n",
            "25/25 [==============================] - 2s 91ms/step - loss: 0.9818 - accuracy: 0.7765 - val_loss: 2.2453 - val_accuracy: 0.3695\n",
            "Epoch 63/200\n",
            "25/25 [==============================] - 2s 91ms/step - loss: 0.9723 - accuracy: 0.7770 - val_loss: 2.3414 - val_accuracy: 0.3623\n",
            "Epoch 64/200\n",
            "25/25 [==============================] - 2s 91ms/step - loss: 0.9690 - accuracy: 0.7813 - val_loss: 2.3747 - val_accuracy: 0.3597\n",
            "Epoch 65/200\n",
            "25/25 [==============================] - 2s 94ms/step - loss: 0.9651 - accuracy: 0.7808 - val_loss: 2.2670 - val_accuracy: 0.3986\n",
            "Epoch 66/200\n",
            "25/25 [==============================] - 2s 92ms/step - loss: 0.9570 - accuracy: 0.7844 - val_loss: 2.4199 - val_accuracy: 0.3672\n",
            "Epoch 67/200\n",
            "25/25 [==============================] - 2s 91ms/step - loss: 0.9622 - accuracy: 0.7807 - val_loss: 2.2902 - val_accuracy: 0.3742\n",
            "Epoch 68/200\n",
            "25/25 [==============================] - 2s 92ms/step - loss: 0.9579 - accuracy: 0.7820 - val_loss: 2.5150 - val_accuracy: 0.3483\n",
            "Epoch 69/200\n",
            "25/25 [==============================] - 2s 91ms/step - loss: 0.9623 - accuracy: 0.7806 - val_loss: 1.8911 - val_accuracy: 0.4724\n",
            "Epoch 70/200\n",
            "25/25 [==============================] - 2s 92ms/step - loss: 0.9500 - accuracy: 0.7871 - val_loss: 2.3086 - val_accuracy: 0.3924\n",
            "Epoch 71/200\n",
            "25/25 [==============================] - 2s 92ms/step - loss: 0.9554 - accuracy: 0.7834 - val_loss: 2.3795 - val_accuracy: 0.3920\n",
            "Epoch 72/200\n",
            "25/25 [==============================] - 2s 93ms/step - loss: 0.9582 - accuracy: 0.7814 - val_loss: 1.9895 - val_accuracy: 0.4474\n",
            "Epoch 73/200\n",
            "25/25 [==============================] - 2s 93ms/step - loss: 0.9561 - accuracy: 0.7835 - val_loss: 1.9931 - val_accuracy: 0.4644\n",
            "Epoch 74/200\n",
            "25/25 [==============================] - 2s 92ms/step - loss: 0.9483 - accuracy: 0.7854 - val_loss: 2.8394 - val_accuracy: 0.3111\n",
            "Epoch 75/200\n",
            "25/25 [==============================] - 2s 92ms/step - loss: 0.9496 - accuracy: 0.7863 - val_loss: 2.5258 - val_accuracy: 0.3409\n",
            "Epoch 76/200\n",
            "25/25 [==============================] - 2s 92ms/step - loss: 0.9516 - accuracy: 0.7840 - val_loss: 2.2904 - val_accuracy: 0.3840\n",
            "Epoch 77/200\n",
            "25/25 [==============================] - 2s 92ms/step - loss: 0.9502 - accuracy: 0.7872 - val_loss: 2.4878 - val_accuracy: 0.3706\n",
            "Epoch 78/200\n",
            "25/25 [==============================] - 2s 90ms/step - loss: 0.9397 - accuracy: 0.7871 - val_loss: 2.1632 - val_accuracy: 0.4072\n",
            "Epoch 79/200\n",
            "25/25 [==============================] - 2s 91ms/step - loss: 0.9355 - accuracy: 0.7897 - val_loss: 2.6641 - val_accuracy: 0.3219\n",
            "Epoch 80/200\n",
            "25/25 [==============================] - 2s 92ms/step - loss: 0.9340 - accuracy: 0.7908 - val_loss: 2.2366 - val_accuracy: 0.4038\n",
            "Epoch 81/200\n",
            "25/25 [==============================] - 2s 94ms/step - loss: 0.9326 - accuracy: 0.7909 - val_loss: 2.6766 - val_accuracy: 0.3466\n",
            "Epoch 82/200\n",
            "25/25 [==============================] - 2s 92ms/step - loss: 0.9341 - accuracy: 0.7907 - val_loss: 2.3946 - val_accuracy: 0.3895\n",
            "Epoch 83/200\n",
            "25/25 [==============================] - 2s 91ms/step - loss: 0.9316 - accuracy: 0.7916 - val_loss: 2.1208 - val_accuracy: 0.4364\n",
            "Epoch 84/200\n",
            "25/25 [==============================] - 2s 91ms/step - loss: 0.9327 - accuracy: 0.7904 - val_loss: 2.6955 - val_accuracy: 0.3206\n",
            "Epoch 85/200\n",
            "25/25 [==============================] - 2s 92ms/step - loss: 0.9270 - accuracy: 0.7935 - val_loss: 2.9592 - val_accuracy: 0.2922\n",
            "Epoch 86/200\n",
            "25/25 [==============================] - 2s 91ms/step - loss: 0.9257 - accuracy: 0.7926 - val_loss: 2.0150 - val_accuracy: 0.4457\n",
            "Epoch 87/200\n",
            "25/25 [==============================] - 2s 92ms/step - loss: 0.9281 - accuracy: 0.7921 - val_loss: 2.0418 - val_accuracy: 0.4529\n",
            "Epoch 88/200\n",
            "25/25 [==============================] - 2s 92ms/step - loss: 0.9278 - accuracy: 0.7907 - val_loss: 2.0285 - val_accuracy: 0.4740\n",
            "Epoch 89/200\n",
            "25/25 [==============================] - 2s 91ms/step - loss: 0.9221 - accuracy: 0.7951 - val_loss: 2.1742 - val_accuracy: 0.4161\n",
            "Epoch 90/200\n",
            "25/25 [==============================] - 2s 93ms/step - loss: 0.9269 - accuracy: 0.7915 - val_loss: 2.4069 - val_accuracy: 0.3809\n",
            "Epoch 91/200\n",
            "25/25 [==============================] - 2s 90ms/step - loss: 0.9214 - accuracy: 0.7934 - val_loss: 2.2076 - val_accuracy: 0.4245\n",
            "Epoch 92/200\n",
            "25/25 [==============================] - 2s 92ms/step - loss: 0.9132 - accuracy: 0.7974 - val_loss: 2.2480 - val_accuracy: 0.4000\n",
            "Epoch 93/200\n",
            "25/25 [==============================] - 2s 91ms/step - loss: 0.9202 - accuracy: 0.7945 - val_loss: 2.2821 - val_accuracy: 0.4031\n",
            "Epoch 94/200\n",
            "25/25 [==============================] - 2s 91ms/step - loss: 0.9122 - accuracy: 0.7983 - val_loss: 2.7234 - val_accuracy: 0.3442\n",
            "Epoch 95/200\n",
            "25/25 [==============================] - 2s 91ms/step - loss: 0.9206 - accuracy: 0.7939 - val_loss: 1.6395 - val_accuracy: 0.5519\n",
            "Epoch 96/200\n",
            "25/25 [==============================] - 2s 93ms/step - loss: 0.9180 - accuracy: 0.7966 - val_loss: 1.8565 - val_accuracy: 0.5064\n",
            "Epoch 97/200\n",
            "25/25 [==============================] - 2s 92ms/step - loss: 0.9136 - accuracy: 0.7959 - val_loss: 2.1288 - val_accuracy: 0.4355\n",
            "Epoch 98/200\n",
            "25/25 [==============================] - 2s 92ms/step - loss: 0.9082 - accuracy: 0.7992 - val_loss: 2.2825 - val_accuracy: 0.4065\n",
            "Epoch 99/200\n",
            "25/25 [==============================] - 2s 91ms/step - loss: 0.9096 - accuracy: 0.7966 - val_loss: 2.1798 - val_accuracy: 0.4290\n",
            "Epoch 100/200\n",
            "25/25 [==============================] - 2s 91ms/step - loss: 0.9051 - accuracy: 0.7993 - val_loss: 2.2178 - val_accuracy: 0.4173\n",
            "Epoch 101/200\n",
            "25/25 [==============================] - 2s 92ms/step - loss: 0.9082 - accuracy: 0.7981 - val_loss: 2.3692 - val_accuracy: 0.4002\n",
            "Epoch 102/200\n",
            "25/25 [==============================] - 2s 93ms/step - loss: 0.9039 - accuracy: 0.8006 - val_loss: 2.1569 - val_accuracy: 0.4197\n",
            "Epoch 103/200\n",
            "25/25 [==============================] - 2s 91ms/step - loss: 0.9063 - accuracy: 0.7984 - val_loss: 2.5563 - val_accuracy: 0.3745\n",
            "Epoch 104/200\n",
            "25/25 [==============================] - 2s 91ms/step - loss: 0.9010 - accuracy: 0.7996 - val_loss: 1.9591 - val_accuracy: 0.4743\n",
            "Epoch 105/200\n",
            "25/25 [==============================] - 2s 91ms/step - loss: 0.9019 - accuracy: 0.7988 - val_loss: 2.0288 - val_accuracy: 0.4707\n",
            "Epoch 106/200\n",
            "25/25 [==============================] - 2s 92ms/step - loss: 0.9022 - accuracy: 0.7995 - val_loss: 1.8897 - val_accuracy: 0.4999\n",
            "Epoch 107/200\n",
            "25/25 [==============================] - 2s 93ms/step - loss: 0.9042 - accuracy: 0.8008 - val_loss: 2.1200 - val_accuracy: 0.4380\n",
            "Epoch 108/200\n",
            "25/25 [==============================] - 2s 92ms/step - loss: 0.9003 - accuracy: 0.8015 - val_loss: 2.5988 - val_accuracy: 0.3412\n",
            "Epoch 109/200\n",
            "25/25 [==============================] - 2s 92ms/step - loss: 0.8992 - accuracy: 0.7996 - val_loss: 2.3494 - val_accuracy: 0.3880\n",
            "Epoch 110/200\n",
            "25/25 [==============================] - 2s 91ms/step - loss: 0.8987 - accuracy: 0.8002 - val_loss: 2.3941 - val_accuracy: 0.4090\n",
            "Epoch 111/200\n",
            "25/25 [==============================] - 2s 93ms/step - loss: 0.8950 - accuracy: 0.8030 - val_loss: 2.1714 - val_accuracy: 0.4103\n",
            "Epoch 112/200\n",
            "25/25 [==============================] - 2s 93ms/step - loss: 0.8945 - accuracy: 0.8036 - val_loss: 2.1474 - val_accuracy: 0.4366\n",
            "Epoch 113/200\n",
            "25/25 [==============================] - 2s 92ms/step - loss: 0.8929 - accuracy: 0.8030 - val_loss: 2.1629 - val_accuracy: 0.4363\n",
            "Epoch 114/200\n",
            "25/25 [==============================] - 2s 91ms/step - loss: 0.8937 - accuracy: 0.8015 - val_loss: 2.2849 - val_accuracy: 0.3949\n",
            "Epoch 115/200\n",
            "25/25 [==============================] - 2s 93ms/step - loss: 0.8930 - accuracy: 0.8044 - val_loss: 2.1565 - val_accuracy: 0.4299\n",
            "Epoch 116/200\n",
            "25/25 [==============================] - 2s 92ms/step - loss: 0.8872 - accuracy: 0.8057 - val_loss: 2.1454 - val_accuracy: 0.4245\n",
            "Epoch 117/200\n",
            "25/25 [==============================] - 2s 92ms/step - loss: 0.8879 - accuracy: 0.8034 - val_loss: 2.1213 - val_accuracy: 0.4313\n",
            "Epoch 118/200\n",
            "25/25 [==============================] - 2s 91ms/step - loss: 0.8913 - accuracy: 0.8022 - val_loss: 2.4383 - val_accuracy: 0.3840\n",
            "Epoch 119/200\n",
            "25/25 [==============================] - 2s 93ms/step - loss: 0.8864 - accuracy: 0.8057 - val_loss: 2.0861 - val_accuracy: 0.4491\n",
            "Epoch 120/200\n",
            "25/25 [==============================] - 2s 92ms/step - loss: 0.8869 - accuracy: 0.8061 - val_loss: 2.1785 - val_accuracy: 0.4369\n",
            "Epoch 121/200\n",
            "25/25 [==============================] - 2s 93ms/step - loss: 0.8829 - accuracy: 0.8064 - val_loss: 2.0634 - val_accuracy: 0.4443\n",
            "Epoch 122/200\n",
            "25/25 [==============================] - 2s 92ms/step - loss: 0.8804 - accuracy: 0.8075 - val_loss: 2.3601 - val_accuracy: 0.3978\n",
            "Epoch 123/200\n",
            "25/25 [==============================] - 2s 93ms/step - loss: 0.8809 - accuracy: 0.8052 - val_loss: 2.2119 - val_accuracy: 0.4231\n",
            "Epoch 124/200\n",
            "25/25 [==============================] - 2s 93ms/step - loss: 0.8809 - accuracy: 0.8065 - val_loss: 1.7005 - val_accuracy: 0.5454\n",
            "Epoch 125/200\n",
            "25/25 [==============================] - 2s 92ms/step - loss: 0.8797 - accuracy: 0.8067 - val_loss: 2.4131 - val_accuracy: 0.4089\n",
            "Epoch 126/200\n",
            "25/25 [==============================] - 2s 90ms/step - loss: 0.8783 - accuracy: 0.8057 - val_loss: 2.1252 - val_accuracy: 0.4352\n",
            "Epoch 127/200\n",
            "25/25 [==============================] - 2s 92ms/step - loss: 0.8768 - accuracy: 0.8083 - val_loss: 2.0548 - val_accuracy: 0.4704\n",
            "Epoch 128/200\n",
            "25/25 [==============================] - 2s 93ms/step - loss: 0.8741 - accuracy: 0.8075 - val_loss: 2.1963 - val_accuracy: 0.4124\n",
            "Epoch 129/200\n",
            "25/25 [==============================] - 2s 92ms/step - loss: 0.8727 - accuracy: 0.8081 - val_loss: 2.1796 - val_accuracy: 0.4198\n",
            "Epoch 130/200\n",
            "25/25 [==============================] - 2s 91ms/step - loss: 0.8762 - accuracy: 0.8068 - val_loss: 2.2017 - val_accuracy: 0.4321\n",
            "Epoch 131/200\n",
            "25/25 [==============================] - 2s 92ms/step - loss: 0.8700 - accuracy: 0.8110 - val_loss: 2.3765 - val_accuracy: 0.4015\n",
            "Epoch 132/200\n",
            "25/25 [==============================] - 2s 98ms/step - loss: 0.8770 - accuracy: 0.8075 - val_loss: 2.0554 - val_accuracy: 0.4538\n",
            "Epoch 133/200\n",
            "25/25 [==============================] - 2s 91ms/step - loss: 0.8783 - accuracy: 0.8053 - val_loss: 2.2591 - val_accuracy: 0.3932\n",
            "Epoch 134/200\n",
            "25/25 [==============================] - 2s 92ms/step - loss: 0.8708 - accuracy: 0.8094 - val_loss: 2.0960 - val_accuracy: 0.4378\n",
            "Epoch 135/200\n",
            "25/25 [==============================] - 2s 91ms/step - loss: 0.8694 - accuracy: 0.8083 - val_loss: 1.9353 - val_accuracy: 0.4888\n",
            "Epoch 136/200\n",
            "25/25 [==============================] - 2s 92ms/step - loss: 0.8652 - accuracy: 0.8103 - val_loss: 2.1600 - val_accuracy: 0.4400\n",
            "Epoch 137/200\n",
            "25/25 [==============================] - 2s 91ms/step - loss: 0.8709 - accuracy: 0.8084 - val_loss: 2.3634 - val_accuracy: 0.3860\n",
            "Epoch 138/200\n",
            "25/25 [==============================] - 2s 92ms/step - loss: 0.8664 - accuracy: 0.8114 - val_loss: 1.8900 - val_accuracy: 0.4926\n",
            "Epoch 139/200\n",
            "25/25 [==============================] - 2s 98ms/step - loss: 0.8609 - accuracy: 0.8129 - val_loss: 2.1614 - val_accuracy: 0.4361\n",
            "Epoch 140/200\n",
            "25/25 [==============================] - 2s 92ms/step - loss: 0.8693 - accuracy: 0.8104 - val_loss: 2.4952 - val_accuracy: 0.3627\n",
            "Epoch 141/200\n",
            "25/25 [==============================] - 2s 91ms/step - loss: 0.8643 - accuracy: 0.8097 - val_loss: 1.7945 - val_accuracy: 0.5024\n",
            "Epoch 142/200\n",
            "25/25 [==============================] - 2s 92ms/step - loss: 0.8599 - accuracy: 0.8135 - val_loss: 2.2660 - val_accuracy: 0.4234\n",
            "Epoch 143/200\n",
            "25/25 [==============================] - 2s 92ms/step - loss: 0.8642 - accuracy: 0.8101 - val_loss: 2.1374 - val_accuracy: 0.4438\n",
            "Epoch 144/200\n",
            "25/25 [==============================] - 2s 90ms/step - loss: 0.8622 - accuracy: 0.8125 - val_loss: 2.0660 - val_accuracy: 0.4495\n",
            "Epoch 145/200\n",
            "25/25 [==============================] - 2s 91ms/step - loss: 0.8621 - accuracy: 0.8109 - val_loss: 2.1723 - val_accuracy: 0.4318\n",
            "Epoch 146/200\n",
            "25/25 [==============================] - 2s 91ms/step - loss: 0.8619 - accuracy: 0.8118 - val_loss: 1.8504 - val_accuracy: 0.4955\n",
            "Epoch 147/200\n",
            "25/25 [==============================] - 2s 90ms/step - loss: 0.8632 - accuracy: 0.8126 - val_loss: 2.3079 - val_accuracy: 0.4301\n",
            "Epoch 148/200\n",
            "25/25 [==============================] - 2s 93ms/step - loss: 0.8586 - accuracy: 0.8141 - val_loss: 2.2841 - val_accuracy: 0.4281\n",
            "Epoch 149/200\n",
            "25/25 [==============================] - 2s 93ms/step - loss: 0.8652 - accuracy: 0.8110 - val_loss: 1.9343 - val_accuracy: 0.4835\n",
            "Epoch 150/200\n",
            "25/25 [==============================] - 2s 90ms/step - loss: 0.8596 - accuracy: 0.8136 - val_loss: 1.8551 - val_accuracy: 0.5212\n",
            "Epoch 151/200\n",
            "25/25 [==============================] - 2s 91ms/step - loss: 0.8552 - accuracy: 0.8142 - val_loss: 2.2789 - val_accuracy: 0.4181\n",
            "Epoch 152/200\n",
            "25/25 [==============================] - 2s 91ms/step - loss: 0.8552 - accuracy: 0.8138 - val_loss: 2.5252 - val_accuracy: 0.3750\n",
            "Epoch 153/200\n",
            "25/25 [==============================] - 2s 92ms/step - loss: 0.8553 - accuracy: 0.8141 - val_loss: 2.2484 - val_accuracy: 0.4250\n",
            "Epoch 154/200\n",
            "25/25 [==============================] - 2s 91ms/step - loss: 0.8517 - accuracy: 0.8147 - val_loss: 2.1301 - val_accuracy: 0.4538\n",
            "Epoch 155/200\n",
            "25/25 [==============================] - 2s 93ms/step - loss: 0.8517 - accuracy: 0.8127 - val_loss: 2.0397 - val_accuracy: 0.4686\n",
            "Epoch 156/200\n",
            "25/25 [==============================] - 2s 92ms/step - loss: 0.8475 - accuracy: 0.8173 - val_loss: 2.5711 - val_accuracy: 0.3681\n",
            "Epoch 157/200\n",
            "25/25 [==============================] - 2s 92ms/step - loss: 0.8567 - accuracy: 0.8125 - val_loss: 2.1624 - val_accuracy: 0.4449\n",
            "Epoch 158/200\n",
            "25/25 [==============================] - 2s 92ms/step - loss: 0.8575 - accuracy: 0.8139 - val_loss: 1.9042 - val_accuracy: 0.4864\n",
            "Epoch 159/200\n",
            "25/25 [==============================] - 2s 90ms/step - loss: 0.8520 - accuracy: 0.8137 - val_loss: 1.7722 - val_accuracy: 0.5231\n",
            "Epoch 160/200\n",
            "25/25 [==============================] - 2s 91ms/step - loss: 0.8492 - accuracy: 0.8152 - val_loss: 2.0203 - val_accuracy: 0.4765\n",
            "Epoch 161/200\n",
            "25/25 [==============================] - 2s 94ms/step - loss: 0.8545 - accuracy: 0.8124 - val_loss: 2.0917 - val_accuracy: 0.4605\n",
            "Epoch 162/200\n",
            "25/25 [==============================] - 2s 93ms/step - loss: 0.8467 - accuracy: 0.8159 - val_loss: 2.1288 - val_accuracy: 0.4376\n",
            "Epoch 163/200\n",
            "25/25 [==============================] - 2s 91ms/step - loss: 0.8425 - accuracy: 0.8173 - val_loss: 1.8201 - val_accuracy: 0.5105\n",
            "Epoch 164/200\n",
            "25/25 [==============================] - 2s 92ms/step - loss: 0.8418 - accuracy: 0.8179 - val_loss: 1.9408 - val_accuracy: 0.4711\n",
            "Epoch 165/200\n",
            "25/25 [==============================] - 2s 92ms/step - loss: 0.8413 - accuracy: 0.8181 - val_loss: 2.1167 - val_accuracy: 0.4512\n",
            "Epoch 166/200\n",
            "25/25 [==============================] - 2s 91ms/step - loss: 0.8414 - accuracy: 0.8164 - val_loss: 1.9911 - val_accuracy: 0.4674\n",
            "Epoch 167/200\n",
            "25/25 [==============================] - 2s 92ms/step - loss: 0.8412 - accuracy: 0.8204 - val_loss: 2.5239 - val_accuracy: 0.3768\n",
            "Epoch 168/200\n",
            "25/25 [==============================] - 2s 92ms/step - loss: 0.8488 - accuracy: 0.8135 - val_loss: 2.2003 - val_accuracy: 0.4300\n",
            "Epoch 169/200\n",
            "25/25 [==============================] - 2s 93ms/step - loss: 0.8447 - accuracy: 0.8175 - val_loss: 2.0799 - val_accuracy: 0.4621\n",
            "Epoch 170/200\n",
            "25/25 [==============================] - 2s 91ms/step - loss: 0.8449 - accuracy: 0.8173 - val_loss: 2.1683 - val_accuracy: 0.4445\n",
            "Epoch 171/200\n",
            "25/25 [==============================] - 2s 93ms/step - loss: 0.8422 - accuracy: 0.8183 - val_loss: 2.1410 - val_accuracy: 0.4401\n",
            "Epoch 172/200\n",
            "25/25 [==============================] - 2s 93ms/step - loss: 0.8376 - accuracy: 0.8184 - val_loss: 2.1865 - val_accuracy: 0.4390\n",
            "Epoch 173/200\n",
            "25/25 [==============================] - 2s 92ms/step - loss: 0.8369 - accuracy: 0.8181 - val_loss: 2.2206 - val_accuracy: 0.4332\n",
            "Epoch 174/200\n",
            "25/25 [==============================] - 2s 90ms/step - loss: 0.8434 - accuracy: 0.8166 - val_loss: 2.2212 - val_accuracy: 0.4307\n",
            "Epoch 175/200\n",
            "25/25 [==============================] - 2s 91ms/step - loss: 0.8425 - accuracy: 0.8175 - val_loss: 1.9488 - val_accuracy: 0.5001\n",
            "Epoch 176/200\n",
            "25/25 [==============================] - 2s 92ms/step - loss: 0.8304 - accuracy: 0.8223 - val_loss: 1.8786 - val_accuracy: 0.5001\n",
            "Epoch 177/200\n",
            "25/25 [==============================] - 2s 90ms/step - loss: 0.8332 - accuracy: 0.8198 - val_loss: 2.1575 - val_accuracy: 0.4481\n",
            "Epoch 178/200\n",
            "25/25 [==============================] - 2s 92ms/step - loss: 0.8336 - accuracy: 0.8204 - val_loss: 2.3434 - val_accuracy: 0.4319\n",
            "Epoch 179/200\n",
            "25/25 [==============================] - 2s 91ms/step - loss: 0.8354 - accuracy: 0.8205 - val_loss: 1.9697 - val_accuracy: 0.4729\n",
            "Epoch 180/200\n",
            "25/25 [==============================] - 2s 91ms/step - loss: 0.8307 - accuracy: 0.8218 - val_loss: 1.8357 - val_accuracy: 0.5159\n",
            "Epoch 181/200\n",
            "25/25 [==============================] - 2s 93ms/step - loss: 0.8354 - accuracy: 0.8204 - val_loss: 1.9836 - val_accuracy: 0.4871\n",
            "Epoch 182/200\n",
            "25/25 [==============================] - 2s 90ms/step - loss: 0.8399 - accuracy: 0.8180 - val_loss: 2.2793 - val_accuracy: 0.4305\n",
            "Epoch 183/200\n",
            "25/25 [==============================] - 2s 90ms/step - loss: 0.8318 - accuracy: 0.8211 - val_loss: 2.1276 - val_accuracy: 0.4413\n",
            "Epoch 184/200\n",
            "25/25 [==============================] - 2s 92ms/step - loss: 0.8344 - accuracy: 0.8199 - val_loss: 2.0571 - val_accuracy: 0.4647\n",
            "Epoch 185/200\n",
            "25/25 [==============================] - 2s 93ms/step - loss: 0.8336 - accuracy: 0.8207 - val_loss: 1.7530 - val_accuracy: 0.5333\n",
            "Epoch 186/200\n",
            "25/25 [==============================] - 2s 92ms/step - loss: 0.8276 - accuracy: 0.8217 - val_loss: 2.2233 - val_accuracy: 0.4407\n",
            "Epoch 187/200\n",
            "25/25 [==============================] - 2s 92ms/step - loss: 0.8249 - accuracy: 0.8218 - val_loss: 2.8411 - val_accuracy: 0.3403\n",
            "Epoch 188/200\n",
            "25/25 [==============================] - 2s 91ms/step - loss: 0.8322 - accuracy: 0.8206 - val_loss: 2.1553 - val_accuracy: 0.4506\n",
            "Epoch 189/200\n",
            "25/25 [==============================] - 2s 90ms/step - loss: 0.8336 - accuracy: 0.8196 - val_loss: 2.2055 - val_accuracy: 0.4335\n",
            "Epoch 190/200\n",
            "25/25 [==============================] - 2s 91ms/step - loss: 0.8395 - accuracy: 0.8177 - val_loss: 2.0755 - val_accuracy: 0.4725\n",
            "Epoch 191/200\n",
            "25/25 [==============================] - 2s 91ms/step - loss: 0.8307 - accuracy: 0.8204 - val_loss: 1.7691 - val_accuracy: 0.5272\n",
            "Epoch 192/200\n",
            "25/25 [==============================] - 2s 91ms/step - loss: 0.8304 - accuracy: 0.8213 - val_loss: 1.9500 - val_accuracy: 0.4934\n",
            "Epoch 193/200\n",
            "25/25 [==============================] - 2s 90ms/step - loss: 0.8340 - accuracy: 0.8197 - val_loss: 2.0549 - val_accuracy: 0.4783\n",
            "Epoch 194/200\n",
            "25/25 [==============================] - 2s 91ms/step - loss: 0.8286 - accuracy: 0.8221 - val_loss: 2.3076 - val_accuracy: 0.4342\n",
            "Epoch 195/200\n",
            "25/25 [==============================] - 2s 92ms/step - loss: 0.8328 - accuracy: 0.8209 - val_loss: 1.7817 - val_accuracy: 0.5369\n",
            "Epoch 196/200\n",
            "25/25 [==============================] - 2s 93ms/step - loss: 0.8283 - accuracy: 0.8235 - val_loss: 1.9462 - val_accuracy: 0.4910\n",
            "Epoch 197/200\n",
            "25/25 [==============================] - 2s 92ms/step - loss: 0.8213 - accuracy: 0.8255 - val_loss: 2.1383 - val_accuracy: 0.4426\n",
            "Epoch 198/200\n",
            "25/25 [==============================] - 2s 94ms/step - loss: 0.8202 - accuracy: 0.8242 - val_loss: 1.8689 - val_accuracy: 0.5150\n",
            "Epoch 199/200\n",
            "25/25 [==============================] - 2s 91ms/step - loss: 0.8259 - accuracy: 0.8241 - val_loss: 1.8403 - val_accuracy: 0.5258\n",
            "Epoch 200/200\n",
            "25/25 [==============================] - 2s 92ms/step - loss: 0.8176 - accuracy: 0.8257 - val_loss: 2.0323 - val_accuracy: 0.4734\n"
          ]
        }
      ],
      "source": [
        "model.compile(  optimizer= 'adam',\n",
        "                loss= tf.keras.losses.SparseCategoricalCrossentropy(from_logits= True),\n",
        "                metrics= ['accuracy'])\n",
        "\n",
        "history = model.fit(train_images, train_labels, batch_size=2000, epochs=200, validation_data=(test_images, test_labels), verbose = 1)"
      ]
    },
    {
      "cell_type": "markdown",
      "metadata": {
        "id": "XqJI-4YU2MZH"
      },
      "source": [
        "\n",
        "Epoch 50/50\n",
        "1563/1563 [==============================] - 8s 5ms/step - loss: 0.0716 - accuracy: 0.9769 - val_loss: 2.3869 - val_accuracy: 0.6806"
      ]
    },
    {
      "cell_type": "code",
      "execution_count": null,
      "metadata": {
        "colab": {
          "base_uri": "https://localhost:8080/"
        },
        "id": "uQZyZCSd_2Sx",
        "outputId": "e3493463-1ccb-43d6-f748-957ea55e5989"
      },
      "outputs": [
        {
          "name": "stdout",
          "output_type": "stream",
          "text": [
            "1563/1563 - 4s - loss: 1.9364 - accuracy: 0.4849 - 4s/epoch - 3ms/step\n",
            "313/313 - 1s - loss: 2.0323 - accuracy: 0.4734 - 758ms/epoch - 2ms/step\n",
            "Train Loss: 1.94 | Train Acc: 0.48\n",
            "Val Loss: 2.03 | Val Acc: 0.47\n"
          ]
        }
      ],
      "source": [
        "train_loss, train_acc = model.evaluate(train_images, train_labels, verbose=2)\n",
        "test_loss, test_acc = model.evaluate(test_images, test_labels, verbose=2)\n",
        "\n",
        "print(f'Train Loss: {train_loss:.2f} | Train Acc: {train_acc:.2f}')\n",
        "print(f'Val Loss: {test_loss:.2f} | Val Acc: {test_acc:.2f}')"
      ]
    },
    {
      "cell_type": "code",
      "execution_count": null,
      "metadata": {
        "colab": {
          "base_uri": "https://localhost:8080/",
          "height": 299
        },
        "id": "OhzB4elL_2S0",
        "outputId": "47ae2987-ad25-42c1-8a8d-e63daffb6e95"
      },
      "outputs": [
        {
          "data": {
            "image/png": "[encoded data removed]",
            "text/plain": [
              "<Figure size 432x288 with 1 Axes>"
            ]
          },
          "metadata": {},
          "output_type": "display_data"
        }
      ],
      "source": [
        "#@title\n",
        "plt.style.use('ggplot')\n",
        "plt.plot(history.history['accuracy'], label = 'accuracy')\n",
        "plt.plot(history.history['val_accuracy'], label='val accuracy')\n",
        "plt.title(\"Accuracy vs Val_Accuracy\")\n",
        "plt.xlabel(\"Epochs\")\n",
        "plt.ylabel(\"Accuracy\")\n",
        "plt.legend()\n",
        "plt.show()"
      ]
    },
    {
      "cell_type": "code",
      "execution_count": null,
      "metadata": {
        "colab": {
          "base_uri": "https://localhost:8080/",
          "height": 299
        },
        "id": "XvwlpMgk_2S2",
        "outputId": "e58f0f55-50dc-47f4-d18f-20ab63fae416"
      },
      "outputs": [
        {
          "data": {
            "image/png": "[encoded data removed]",
            "text/plain": [
              "<Figure size 432x288 with 1 Axes>"
            ]
          },
          "metadata": {},
          "output_type": "display_data"
        }
      ],
      "source": [
        "#@title\n",
        "plt.style.use('ggplot')\n",
        "plt.plot(history.history['loss'], label = 'loss')\n",
        "plt.plot(history.history['val_loss'], label='val loss')\n",
        "plt.title(\"Loss vs Val_Loss\")\n",
        "plt.xlabel(\"Epochs\")\n",
        "plt.ylabel(\"Loss\")\n",
        "plt.legend()\n",
        "plt.show()"
      ]
    },
    {
      "cell_type": "markdown",
      "metadata": {
        "id": "AG85pis3tU7c"
      },
      "source": [
        "# **Data Augmentation**"
      ]
    },
    {
      "cell_type": "markdown",
      "metadata": {
        "id": "UKXuJ9WHtn40"
      },
      "source": [
        "datagen = ImageDataGenerator(\n",
        "    rotation_range= 40,\n",
        "    width_shift_range= 0.2,\n",
        "    height_shift_range= 0.2,\n",
        "    shear_range= 0.2,\n",
        "    zoom_range= 0.2,\n",
        "    horizontal_flip= True,\n",
        "    fill_mode= 'nearest'\n",
        ")\n",
        "\n",
        "augmented_history = model.fit(datagen.flow(train_images, train_labels, batch_size=32), epochs= 10, validation_data=(test_images, test_labels), verbose=1)"
      ]
    },
    {
      "cell_type": "code",
      "execution_count": null,
      "metadata": {
        "colab": {
          "base_uri": "https://localhost:8080/"
        },
        "id": "r3EY8pSHvbPc",
        "outputId": "deb0c333-e42b-4401-a6b8-a6b9412e0688"
      },
      "outputs": [
        {
          "name": "stdout",
          "output_type": "stream",
          "text": [
            "(50000, 32, 32, 3)\n",
            "(50000, 32, 32, 3) (100000, 32, 32, 3)\n"
          ]
        }
      ],
      "source": [
        "datagen = ImageDataGenerator( rotation_range= 40, \n",
        "                              width_shift_range= 0.2, \n",
        "                              height_shift_range= 0.2, \n",
        "                              shear_range= 0.2, \n",
        "                              zoom_range= 0.2,\n",
        "                              horizontal_flip= True,\n",
        "                              fill_mode= 'nearest' )\n",
        "\n",
        "datagen.fit(train_images)\n",
        "\n",
        "train_images_augmented = np.copy(train_images)\n",
        "print(train_images_augmented.shape)\n",
        "train_labels_augmented = np.copy(train_labels)\n",
        "\n",
        "for X_train, X_labels in datagen.flow(train_images, train_labels, batch_size=50000):\n",
        "  train_images_augmented = np.append(train_images_augmented, X_train, axis=0)\n",
        "  print(X_train.shape, train_images_augmented.shape)\n",
        "  train_labels_augmented = np.append(train_labels_augmented, X_labels, axis=0)\n",
        "  break\n"
      ]
    },
    {
      "cell_type": "markdown",
      "metadata": {
        "id": "sosvGLjj8FBz"
      },
      "source": [
        "augmented_history = model.fit(datagen.flow(train_images, train_labels, batch_size=1000), epochs= 100, validation_data=(test_images, test_labels), verbose=1)"
      ]
    },
    {
      "cell_type": "code",
      "execution_count": null,
      "metadata": {
        "colab": {
          "base_uri": "https://localhost:8080/"
        },
        "id": "AV437eAgBt9u",
        "outputId": "b3f81a6f-bdfa-40bf-d418-b56acf17a982"
      },
      "outputs": [
        {
          "name": "stdout",
          "output_type": "stream",
          "text": [
            "Epoch 1/200\n",
            "50/50 [==============================] - 5s 93ms/step - loss: 1.2642 - accuracy: 0.6685 - val_loss: 2.1691 - val_accuracy: 0.4079\n",
            "Epoch 2/200\n",
            "50/50 [==============================] - 4s 88ms/step - loss: 1.1882 - accuracy: 0.6860 - val_loss: 2.4080 - val_accuracy: 0.3648\n",
            "Epoch 3/200\n",
            "50/50 [==============================] - 4s 88ms/step - loss: 1.1688 - accuracy: 0.6910 - val_loss: 2.4818 - val_accuracy: 0.3299\n",
            "Epoch 4/200\n",
            "50/50 [==============================] - 4s 89ms/step - loss: 1.1580 - accuracy: 0.6931 - val_loss: 2.1844 - val_accuracy: 0.3895\n",
            "Epoch 5/200\n",
            "50/50 [==============================] - 5s 90ms/step - loss: 1.1484 - accuracy: 0.6968 - val_loss: 1.8700 - val_accuracy: 0.4731\n",
            "Epoch 6/200\n",
            "50/50 [==============================] - 4s 88ms/step - loss: 1.1472 - accuracy: 0.6971 - val_loss: 2.2490 - val_accuracy: 0.3760\n",
            "Epoch 7/200\n",
            "50/50 [==============================] - 5s 91ms/step - loss: 1.1444 - accuracy: 0.6978 - val_loss: 1.7357 - val_accuracy: 0.4958\n",
            "Epoch 8/200\n",
            "50/50 [==============================] - 4s 89ms/step - loss: 1.1450 - accuracy: 0.6967 - val_loss: 2.7051 - val_accuracy: 0.3125\n",
            "Epoch 9/200\n",
            "50/50 [==============================] - 4s 88ms/step - loss: 1.1385 - accuracy: 0.7001 - val_loss: 2.3527 - val_accuracy: 0.3712\n",
            "Epoch 10/200\n",
            "50/50 [==============================] - 5s 91ms/step - loss: 1.1348 - accuracy: 0.7019 - val_loss: 2.1587 - val_accuracy: 0.3905\n",
            "Epoch 11/200\n",
            "50/50 [==============================] - 4s 89ms/step - loss: 1.1364 - accuracy: 0.7014 - val_loss: 1.9135 - val_accuracy: 0.4636\n",
            "Epoch 12/200\n",
            "50/50 [==============================] - 5s 92ms/step - loss: 1.1325 - accuracy: 0.7015 - val_loss: 1.8532 - val_accuracy: 0.4628\n",
            "Epoch 13/200\n",
            "50/50 [==============================] - 4s 89ms/step - loss: 1.1344 - accuracy: 0.7016 - val_loss: 1.9945 - val_accuracy: 0.4440\n",
            "Epoch 14/200\n",
            "50/50 [==============================] - 4s 89ms/step - loss: 1.1284 - accuracy: 0.7039 - val_loss: 1.5669 - val_accuracy: 0.5580\n",
            "Epoch 15/200\n",
            "50/50 [==============================] - 5s 91ms/step - loss: 1.1249 - accuracy: 0.7051 - val_loss: 1.8594 - val_accuracy: 0.4638\n",
            "Epoch 16/200\n",
            "50/50 [==============================] - 4s 90ms/step - loss: 1.1314 - accuracy: 0.7016 - val_loss: 2.3792 - val_accuracy: 0.3505\n",
            "Epoch 17/200\n",
            "50/50 [==============================] - 4s 89ms/step - loss: 1.1276 - accuracy: 0.7031 - val_loss: 1.9947 - val_accuracy: 0.4504\n",
            "Epoch 18/200\n",
            "50/50 [==============================] - 4s 88ms/step - loss: 1.1222 - accuracy: 0.7056 - val_loss: 2.0914 - val_accuracy: 0.4109\n",
            "Epoch 19/200\n",
            "50/50 [==============================] - 4s 90ms/step - loss: 1.1241 - accuracy: 0.7043 - val_loss: 1.9920 - val_accuracy: 0.4398\n",
            "Epoch 20/200\n",
            "50/50 [==============================] - 4s 90ms/step - loss: 1.1232 - accuracy: 0.7059 - val_loss: 1.8874 - val_accuracy: 0.4640\n",
            "Epoch 21/200\n",
            "50/50 [==============================] - 4s 89ms/step - loss: 1.1213 - accuracy: 0.7051 - val_loss: 1.9922 - val_accuracy: 0.4418\n",
            "Epoch 22/200\n",
            "50/50 [==============================] - 4s 89ms/step - loss: 1.1199 - accuracy: 0.7053 - val_loss: 1.7949 - val_accuracy: 0.4984\n",
            "Epoch 23/200\n",
            "50/50 [==============================] - 4s 90ms/step - loss: 1.1177 - accuracy: 0.7049 - val_loss: 2.2972 - val_accuracy: 0.3679\n",
            "Epoch 24/200\n",
            "50/50 [==============================] - 4s 89ms/step - loss: 1.1190 - accuracy: 0.7068 - val_loss: 2.1400 - val_accuracy: 0.4103\n",
            "Epoch 25/200\n",
            "50/50 [==============================] - 4s 90ms/step - loss: 1.1196 - accuracy: 0.7065 - val_loss: 1.7842 - val_accuracy: 0.4879\n",
            "Epoch 26/200\n",
            "50/50 [==============================] - 5s 90ms/step - loss: 1.1185 - accuracy: 0.7063 - val_loss: 2.1131 - val_accuracy: 0.4009\n",
            "Epoch 27/200\n",
            "50/50 [==============================] - 4s 90ms/step - loss: 1.1186 - accuracy: 0.7067 - val_loss: 2.0428 - val_accuracy: 0.4194\n",
            "Epoch 28/200\n",
            "50/50 [==============================] - 4s 89ms/step - loss: 1.1117 - accuracy: 0.7096 - val_loss: 1.9441 - val_accuracy: 0.4407\n",
            "Epoch 29/200\n",
            "50/50 [==============================] - 4s 89ms/step - loss: 1.1111 - accuracy: 0.7088 - val_loss: 1.8984 - val_accuracy: 0.4607\n",
            "Epoch 30/200\n",
            "50/50 [==============================] - 4s 89ms/step - loss: 1.1122 - accuracy: 0.7100 - val_loss: 2.1177 - val_accuracy: 0.4111\n",
            "Epoch 31/200\n",
            "50/50 [==============================] - 4s 89ms/step - loss: 1.1063 - accuracy: 0.7112 - val_loss: 1.7089 - val_accuracy: 0.5010\n",
            "Epoch 32/200\n",
            "50/50 [==============================] - 4s 90ms/step - loss: 1.1133 - accuracy: 0.7068 - val_loss: 1.8200 - val_accuracy: 0.4872\n",
            "Epoch 33/200\n",
            "50/50 [==============================] - 4s 89ms/step - loss: 1.1119 - accuracy: 0.7080 - val_loss: 1.5521 - val_accuracy: 0.5621\n",
            "Epoch 34/200\n",
            "50/50 [==============================] - 4s 89ms/step - loss: 1.1135 - accuracy: 0.7072 - val_loss: 2.0256 - val_accuracy: 0.4332\n",
            "Epoch 35/200\n",
            "50/50 [==============================] - 4s 88ms/step - loss: 1.1072 - accuracy: 0.7102 - val_loss: 1.7357 - val_accuracy: 0.4955\n",
            "Epoch 36/200\n",
            "50/50 [==============================] - 4s 88ms/step - loss: 1.1063 - accuracy: 0.7103 - val_loss: 1.5901 - val_accuracy: 0.5536\n",
            "Epoch 37/200\n",
            "50/50 [==============================] - 4s 90ms/step - loss: 1.1064 - accuracy: 0.7115 - val_loss: 1.9600 - val_accuracy: 0.4431\n",
            "Epoch 38/200\n",
            "50/50 [==============================] - 4s 89ms/step - loss: 1.1072 - accuracy: 0.7100 - val_loss: 2.0642 - val_accuracy: 0.4271\n",
            "Epoch 39/200\n",
            "50/50 [==============================] - 5s 90ms/step - loss: 1.1047 - accuracy: 0.7117 - val_loss: 1.6570 - val_accuracy: 0.5239\n",
            "Epoch 40/200\n",
            "50/50 [==============================] - 4s 89ms/step - loss: 1.1072 - accuracy: 0.7111 - val_loss: 2.0594 - val_accuracy: 0.4257\n",
            "Epoch 41/200\n",
            "50/50 [==============================] - 4s 88ms/step - loss: 1.0982 - accuracy: 0.7110 - val_loss: 1.5759 - val_accuracy: 0.5603\n",
            "Epoch 42/200\n",
            "50/50 [==============================] - 4s 88ms/step - loss: 1.0995 - accuracy: 0.7117 - val_loss: 2.1098 - val_accuracy: 0.4261\n",
            "Epoch 43/200\n",
            "50/50 [==============================] - 4s 89ms/step - loss: 1.0999 - accuracy: 0.7133 - val_loss: 1.9571 - val_accuracy: 0.4535\n",
            "Epoch 44/200\n",
            "50/50 [==============================] - 5s 90ms/step - loss: 1.1020 - accuracy: 0.7111 - val_loss: 1.9495 - val_accuracy: 0.4534\n",
            "Epoch 45/200\n",
            "50/50 [==============================] - 4s 89ms/step - loss: 1.1013 - accuracy: 0.7131 - val_loss: 2.1045 - val_accuracy: 0.4117\n",
            "Epoch 46/200\n",
            "50/50 [==============================] - 4s 88ms/step - loss: 1.1036 - accuracy: 0.7117 - val_loss: 1.6915 - val_accuracy: 0.5205\n",
            "Epoch 47/200\n",
            "50/50 [==============================] - 4s 88ms/step - loss: 1.0951 - accuracy: 0.7145 - val_loss: 1.8214 - val_accuracy: 0.4802\n",
            "Epoch 48/200\n",
            "50/50 [==============================] - 4s 90ms/step - loss: 1.0960 - accuracy: 0.7127 - val_loss: 1.6101 - val_accuracy: 0.5370\n",
            "Epoch 49/200\n",
            "50/50 [==============================] - 4s 90ms/step - loss: 1.0938 - accuracy: 0.7155 - val_loss: 2.0776 - val_accuracy: 0.4205\n",
            "Epoch 50/200\n",
            "50/50 [==============================] - 4s 88ms/step - loss: 1.1021 - accuracy: 0.7104 - val_loss: 1.6907 - val_accuracy: 0.5262\n",
            "Epoch 51/200\n",
            "50/50 [==============================] - 4s 89ms/step - loss: 1.0997 - accuracy: 0.7130 - val_loss: 1.5918 - val_accuracy: 0.5403\n",
            "Epoch 52/200\n",
            "50/50 [==============================] - 5s 90ms/step - loss: 1.0934 - accuracy: 0.7141 - val_loss: 1.6102 - val_accuracy: 0.5469\n",
            "Epoch 53/200\n",
            "50/50 [==============================] - 4s 89ms/step - loss: 1.0900 - accuracy: 0.7150 - val_loss: 2.3362 - val_accuracy: 0.3696\n",
            "Epoch 54/200\n",
            "50/50 [==============================] - 4s 89ms/step - loss: 1.0901 - accuracy: 0.7150 - val_loss: 2.2500 - val_accuracy: 0.3879\n",
            "Epoch 55/200\n",
            "50/50 [==============================] - 4s 90ms/step - loss: 1.0974 - accuracy: 0.7128 - val_loss: 2.3111 - val_accuracy: 0.3714\n",
            "Epoch 56/200\n",
            "50/50 [==============================] - 5s 90ms/step - loss: 1.0962 - accuracy: 0.7129 - val_loss: 2.1892 - val_accuracy: 0.3994\n",
            "Epoch 57/200\n",
            "50/50 [==============================] - 4s 90ms/step - loss: 1.0950 - accuracy: 0.7128 - val_loss: 2.1693 - val_accuracy: 0.4060\n",
            "Epoch 58/200\n",
            "50/50 [==============================] - 4s 89ms/step - loss: 1.0939 - accuracy: 0.7141 - val_loss: 2.3220 - val_accuracy: 0.3643\n",
            "Epoch 59/200\n",
            "50/50 [==============================] - 4s 88ms/step - loss: 1.0952 - accuracy: 0.7137 - val_loss: 1.9712 - val_accuracy: 0.4420\n",
            "Epoch 60/200\n",
            "50/50 [==============================] - 4s 89ms/step - loss: 1.0884 - accuracy: 0.7169 - val_loss: 1.7760 - val_accuracy: 0.5006\n",
            "Epoch 61/200\n",
            "50/50 [==============================] - 4s 89ms/step - loss: 1.0955 - accuracy: 0.7146 - val_loss: 1.7290 - val_accuracy: 0.5059\n",
            "Epoch 62/200\n",
            "50/50 [==============================] - 4s 89ms/step - loss: 1.0916 - accuracy: 0.7150 - val_loss: 2.2510 - val_accuracy: 0.3911\n",
            "Epoch 63/200\n",
            "50/50 [==============================] - 4s 88ms/step - loss: 1.0897 - accuracy: 0.7161 - val_loss: 2.0311 - val_accuracy: 0.4309\n",
            "Epoch 64/200\n",
            "50/50 [==============================] - 4s 88ms/step - loss: 1.0907 - accuracy: 0.7151 - val_loss: 1.8591 - val_accuracy: 0.4652\n",
            "Epoch 65/200\n",
            "50/50 [==============================] - 4s 89ms/step - loss: 1.0852 - accuracy: 0.7173 - val_loss: 1.8367 - val_accuracy: 0.4815\n",
            "Epoch 66/200\n",
            "50/50 [==============================] - 4s 90ms/step - loss: 1.0890 - accuracy: 0.7157 - val_loss: 1.7948 - val_accuracy: 0.4928\n",
            "Epoch 67/200\n",
            "50/50 [==============================] - 4s 89ms/step - loss: 1.0874 - accuracy: 0.7154 - val_loss: 1.7837 - val_accuracy: 0.4925\n",
            "Epoch 68/200\n",
            "50/50 [==============================] - 5s 90ms/step - loss: 1.0919 - accuracy: 0.7151 - val_loss: 1.9044 - val_accuracy: 0.4617\n",
            "Epoch 69/200\n",
            "50/50 [==============================] - 4s 89ms/step - loss: 1.0911 - accuracy: 0.7142 - val_loss: 1.9386 - val_accuracy: 0.4599\n",
            "Epoch 70/200\n",
            "50/50 [==============================] - 4s 89ms/step - loss: 1.0866 - accuracy: 0.7169 - val_loss: 2.4805 - val_accuracy: 0.3551\n",
            "Epoch 71/200\n",
            "50/50 [==============================] - 4s 88ms/step - loss: 1.0888 - accuracy: 0.7164 - val_loss: 1.6119 - val_accuracy: 0.5332\n",
            "Epoch 72/200\n",
            "50/50 [==============================] - 4s 89ms/step - loss: 1.0813 - accuracy: 0.7190 - val_loss: 1.7998 - val_accuracy: 0.4896\n",
            "Epoch 73/200\n",
            "50/50 [==============================] - 4s 90ms/step - loss: 1.0852 - accuracy: 0.7164 - val_loss: 1.3771 - val_accuracy: 0.6072\n",
            "Epoch 74/200\n",
            "50/50 [==============================] - 4s 89ms/step - loss: 1.0866 - accuracy: 0.7155 - val_loss: 1.5871 - val_accuracy: 0.5445\n",
            "Epoch 75/200\n",
            "50/50 [==============================] - 4s 90ms/step - loss: 1.0860 - accuracy: 0.7167 - val_loss: 1.5003 - val_accuracy: 0.5722\n",
            "Epoch 76/200\n",
            "50/50 [==============================] - 4s 89ms/step - loss: 1.0835 - accuracy: 0.7171 - val_loss: 1.5539 - val_accuracy: 0.5361\n",
            "Epoch 77/200\n",
            "50/50 [==============================] - 4s 88ms/step - loss: 1.0789 - accuracy: 0.7192 - val_loss: 1.4823 - val_accuracy: 0.5941\n",
            "Epoch 78/200\n",
            "50/50 [==============================] - 4s 89ms/step - loss: 1.0940 - accuracy: 0.7135 - val_loss: 1.8268 - val_accuracy: 0.4747\n",
            "Epoch 79/200\n",
            "50/50 [==============================] - 4s 88ms/step - loss: 1.0783 - accuracy: 0.7195 - val_loss: 1.9073 - val_accuracy: 0.4844\n",
            "Epoch 80/200\n",
            "50/50 [==============================] - 4s 89ms/step - loss: 1.0841 - accuracy: 0.7164 - val_loss: 1.9606 - val_accuracy: 0.4464\n",
            "Epoch 81/200\n",
            "50/50 [==============================] - 4s 90ms/step - loss: 1.0794 - accuracy: 0.7180 - val_loss: 1.7162 - val_accuracy: 0.5091\n",
            "Epoch 82/200\n",
            "50/50 [==============================] - 4s 89ms/step - loss: 1.0836 - accuracy: 0.7163 - val_loss: 1.5124 - val_accuracy: 0.5747\n",
            "Epoch 83/200\n",
            "50/50 [==============================] - 4s 90ms/step - loss: 1.0772 - accuracy: 0.7197 - val_loss: 1.5570 - val_accuracy: 0.5500\n",
            "Epoch 84/200\n",
            "50/50 [==============================] - 4s 89ms/step - loss: 1.0824 - accuracy: 0.7186 - val_loss: 1.7789 - val_accuracy: 0.5071\n",
            "Epoch 85/200\n",
            "50/50 [==============================] - 4s 90ms/step - loss: 1.0805 - accuracy: 0.7196 - val_loss: 1.9170 - val_accuracy: 0.4492\n",
            "Epoch 86/200\n",
            "50/50 [==============================] - 5s 90ms/step - loss: 1.0779 - accuracy: 0.7192 - val_loss: 1.7251 - val_accuracy: 0.5345\n",
            "Epoch 87/200\n",
            "50/50 [==============================] - 4s 90ms/step - loss: 1.0751 - accuracy: 0.7199 - val_loss: 1.5491 - val_accuracy: 0.5581\n",
            "Epoch 88/200\n",
            "50/50 [==============================] - 4s 89ms/step - loss: 1.0787 - accuracy: 0.7203 - val_loss: 1.7329 - val_accuracy: 0.5060\n",
            "Epoch 89/200\n",
            "50/50 [==============================] - 4s 90ms/step - loss: 1.0765 - accuracy: 0.7199 - val_loss: 2.0554 - val_accuracy: 0.4237\n",
            "Epoch 90/200\n",
            "50/50 [==============================] - 4s 89ms/step - loss: 1.0802 - accuracy: 0.7182 - val_loss: 1.7983 - val_accuracy: 0.4922\n",
            "Epoch 91/200\n",
            "50/50 [==============================] - 4s 90ms/step - loss: 1.0781 - accuracy: 0.7195 - val_loss: 1.6472 - val_accuracy: 0.5289\n",
            "Epoch 92/200\n",
            "50/50 [==============================] - 4s 89ms/step - loss: 1.0742 - accuracy: 0.7212 - val_loss: 1.8223 - val_accuracy: 0.4749\n",
            "Epoch 93/200\n",
            "50/50 [==============================] - 4s 89ms/step - loss: 1.0772 - accuracy: 0.7211 - val_loss: 1.4267 - val_accuracy: 0.5871\n",
            "Epoch 94/200\n",
            "50/50 [==============================] - 4s 89ms/step - loss: 1.0786 - accuracy: 0.7189 - val_loss: 1.7827 - val_accuracy: 0.4888\n",
            "Epoch 95/200\n",
            "50/50 [==============================] - 4s 89ms/step - loss: 1.0770 - accuracy: 0.7192 - val_loss: 1.8671 - val_accuracy: 0.4650\n",
            "Epoch 96/200\n",
            "50/50 [==============================] - 4s 89ms/step - loss: 1.0770 - accuracy: 0.7184 - val_loss: 1.6625 - val_accuracy: 0.5148\n",
            "Epoch 97/200\n",
            "50/50 [==============================] - 4s 89ms/step - loss: 1.0737 - accuracy: 0.7186 - val_loss: 1.7378 - val_accuracy: 0.4997\n",
            "Epoch 98/200\n",
            "50/50 [==============================] - 4s 89ms/step - loss: 1.0734 - accuracy: 0.7194 - val_loss: 1.5768 - val_accuracy: 0.5339\n",
            "Epoch 99/200\n",
            "50/50 [==============================] - 4s 89ms/step - loss: 1.0725 - accuracy: 0.7200 - val_loss: 1.9762 - val_accuracy: 0.4452\n",
            "Epoch 100/200\n",
            "50/50 [==============================] - 4s 89ms/step - loss: 1.0794 - accuracy: 0.7176 - val_loss: 1.3776 - val_accuracy: 0.6072\n",
            "Epoch 101/200\n",
            "50/50 [==============================] - 4s 90ms/step - loss: 1.0720 - accuracy: 0.7209 - val_loss: 1.7134 - val_accuracy: 0.4975\n",
            "Epoch 102/200\n",
            "50/50 [==============================] - 4s 89ms/step - loss: 1.0730 - accuracy: 0.7197 - val_loss: 2.0134 - val_accuracy: 0.4302\n",
            "Epoch 103/200\n",
            "50/50 [==============================] - 4s 90ms/step - loss: 1.0716 - accuracy: 0.7195 - val_loss: 1.7293 - val_accuracy: 0.5154\n",
            "Epoch 104/200\n",
            "50/50 [==============================] - 4s 89ms/step - loss: 1.0672 - accuracy: 0.7226 - val_loss: 1.9942 - val_accuracy: 0.4313\n",
            "Epoch 105/200\n",
            "50/50 [==============================] - 4s 89ms/step - loss: 1.0716 - accuracy: 0.7195 - val_loss: 1.9611 - val_accuracy: 0.4373\n",
            "Epoch 106/200\n",
            "50/50 [==============================] - 4s 89ms/step - loss: 1.0720 - accuracy: 0.7193 - val_loss: 1.8562 - val_accuracy: 0.4820\n",
            "Epoch 107/200\n",
            "50/50 [==============================] - 4s 89ms/step - loss: 1.0689 - accuracy: 0.7214 - val_loss: 1.7918 - val_accuracy: 0.4908\n",
            "Epoch 108/200\n",
            "50/50 [==============================] - 4s 88ms/step - loss: 1.0675 - accuracy: 0.7215 - val_loss: 1.6625 - val_accuracy: 0.5213\n",
            "Epoch 109/200\n",
            "50/50 [==============================] - 4s 88ms/step - loss: 1.0684 - accuracy: 0.7215 - val_loss: 1.5795 - val_accuracy: 0.5408\n",
            "Epoch 110/200\n",
            "50/50 [==============================] - 4s 89ms/step - loss: 1.0798 - accuracy: 0.7167 - val_loss: 1.9270 - val_accuracy: 0.4583\n",
            "Epoch 111/200\n",
            "50/50 [==============================] - 4s 89ms/step - loss: 1.0713 - accuracy: 0.7217 - val_loss: 1.9873 - val_accuracy: 0.4416\n",
            "Epoch 112/200\n",
            "50/50 [==============================] - 4s 88ms/step - loss: 1.0674 - accuracy: 0.7222 - val_loss: 1.6315 - val_accuracy: 0.5389\n",
            "Epoch 113/200\n",
            "50/50 [==============================] - 4s 88ms/step - loss: 1.0704 - accuracy: 0.7191 - val_loss: 2.2061 - val_accuracy: 0.3922\n",
            "Epoch 114/200\n",
            "50/50 [==============================] - 4s 89ms/step - loss: 1.0672 - accuracy: 0.7219 - val_loss: 1.7396 - val_accuracy: 0.5066\n",
            "Epoch 115/200\n",
            "50/50 [==============================] - 4s 89ms/step - loss: 1.0736 - accuracy: 0.7196 - val_loss: 1.8609 - val_accuracy: 0.4790\n",
            "Epoch 116/200\n",
            "50/50 [==============================] - 4s 88ms/step - loss: 1.0708 - accuracy: 0.7203 - val_loss: 1.3195 - val_accuracy: 0.6286\n",
            "Epoch 117/200\n",
            "50/50 [==============================] - 4s 88ms/step - loss: 1.0688 - accuracy: 0.7207 - val_loss: 1.4814 - val_accuracy: 0.5732\n",
            "Epoch 118/200\n",
            "50/50 [==============================] - 4s 89ms/step - loss: 1.0713 - accuracy: 0.7200 - val_loss: 1.7019 - val_accuracy: 0.5278\n",
            "Epoch 119/200\n",
            "50/50 [==============================] - 4s 90ms/step - loss: 1.0637 - accuracy: 0.7229 - val_loss: 1.7868 - val_accuracy: 0.4987\n",
            "Epoch 120/200\n",
            "50/50 [==============================] - 5s 92ms/step - loss: 1.0635 - accuracy: 0.7235 - val_loss: 1.5732 - val_accuracy: 0.5422\n",
            "Epoch 121/200\n",
            "50/50 [==============================] - 4s 89ms/step - loss: 1.0668 - accuracy: 0.7220 - val_loss: 1.9541 - val_accuracy: 0.4459\n",
            "Epoch 122/200\n",
            "50/50 [==============================] - 5s 90ms/step - loss: 1.0665 - accuracy: 0.7211 - val_loss: 1.4960 - val_accuracy: 0.5672\n",
            "Epoch 123/200\n",
            "50/50 [==============================] - 4s 90ms/step - loss: 1.0588 - accuracy: 0.7240 - val_loss: 1.7397 - val_accuracy: 0.4999\n",
            "Epoch 124/200\n",
            "50/50 [==============================] - 5s 90ms/step - loss: 1.0668 - accuracy: 0.7224 - val_loss: 1.6530 - val_accuracy: 0.5312\n",
            "Epoch 125/200\n",
            "50/50 [==============================] - 4s 89ms/step - loss: 1.0626 - accuracy: 0.7237 - val_loss: 1.7285 - val_accuracy: 0.4989\n",
            "Epoch 126/200\n",
            "50/50 [==============================] - 4s 89ms/step - loss: 1.0658 - accuracy: 0.7225 - val_loss: 1.5272 - val_accuracy: 0.5697\n",
            "Epoch 127/200\n",
            "50/50 [==============================] - 4s 89ms/step - loss: 1.0617 - accuracy: 0.7225 - val_loss: 2.3206 - val_accuracy: 0.3813\n",
            "Epoch 128/200\n",
            "50/50 [==============================] - 4s 88ms/step - loss: 1.0674 - accuracy: 0.7214 - val_loss: 1.7490 - val_accuracy: 0.5009\n",
            "Epoch 129/200\n",
            "50/50 [==============================] - 4s 89ms/step - loss: 1.0670 - accuracy: 0.7219 - val_loss: 1.8149 - val_accuracy: 0.4774\n",
            "Epoch 130/200\n",
            "50/50 [==============================] - 4s 89ms/step - loss: 1.0647 - accuracy: 0.7207 - val_loss: 1.6973 - val_accuracy: 0.5112\n",
            "Epoch 131/200\n",
            "50/50 [==============================] - 4s 89ms/step - loss: 1.0598 - accuracy: 0.7240 - val_loss: 1.7621 - val_accuracy: 0.4862\n",
            "Epoch 132/200\n",
            "50/50 [==============================] - 4s 89ms/step - loss: 1.0618 - accuracy: 0.7225 - val_loss: 2.1568 - val_accuracy: 0.4085\n",
            "Epoch 133/200\n",
            "50/50 [==============================] - 4s 89ms/step - loss: 1.0613 - accuracy: 0.7250 - val_loss: 1.5403 - val_accuracy: 0.5583\n",
            "Epoch 134/200\n",
            "50/50 [==============================] - 4s 89ms/step - loss: 1.0621 - accuracy: 0.7234 - val_loss: 1.5669 - val_accuracy: 0.5437\n",
            "Epoch 135/200\n",
            "50/50 [==============================] - 4s 89ms/step - loss: 1.0593 - accuracy: 0.7224 - val_loss: 1.6087 - val_accuracy: 0.5292\n",
            "Epoch 136/200\n",
            "50/50 [==============================] - 4s 89ms/step - loss: 1.0611 - accuracy: 0.7242 - val_loss: 1.8039 - val_accuracy: 0.4975\n",
            "Epoch 137/200\n",
            "50/50 [==============================] - 4s 89ms/step - loss: 1.0609 - accuracy: 0.7229 - val_loss: 1.7962 - val_accuracy: 0.4815\n",
            "Epoch 138/200\n",
            "50/50 [==============================] - 4s 89ms/step - loss: 1.0593 - accuracy: 0.7242 - val_loss: 2.0627 - val_accuracy: 0.4344\n",
            "Epoch 139/200\n",
            "50/50 [==============================] - 4s 88ms/step - loss: 1.0632 - accuracy: 0.7225 - val_loss: 1.6023 - val_accuracy: 0.5454\n",
            "Epoch 140/200\n",
            "50/50 [==============================] - 4s 89ms/step - loss: 1.0591 - accuracy: 0.7233 - val_loss: 1.5815 - val_accuracy: 0.5571\n",
            "Epoch 141/200\n",
            "50/50 [==============================] - 4s 88ms/step - loss: 1.0566 - accuracy: 0.7238 - val_loss: 1.6422 - val_accuracy: 0.5291\n",
            "Epoch 142/200\n",
            "50/50 [==============================] - 4s 89ms/step - loss: 1.0644 - accuracy: 0.7223 - val_loss: 1.6656 - val_accuracy: 0.5311\n",
            "Epoch 143/200\n",
            "50/50 [==============================] - 4s 89ms/step - loss: 1.0553 - accuracy: 0.7252 - val_loss: 1.7435 - val_accuracy: 0.5075\n",
            "Epoch 144/200\n",
            "50/50 [==============================] - 4s 88ms/step - loss: 1.0566 - accuracy: 0.7248 - val_loss: 1.5706 - val_accuracy: 0.5560\n",
            "Epoch 145/200\n",
            "50/50 [==============================] - 4s 89ms/step - loss: 1.0564 - accuracy: 0.7232 - val_loss: 1.4823 - val_accuracy: 0.5839\n",
            "Epoch 146/200\n",
            "50/50 [==============================] - 5s 91ms/step - loss: 1.0557 - accuracy: 0.7253 - val_loss: 1.6204 - val_accuracy: 0.5427\n",
            "Epoch 147/200\n",
            "50/50 [==============================] - 4s 90ms/step - loss: 1.0596 - accuracy: 0.7229 - val_loss: 1.9415 - val_accuracy: 0.4369\n",
            "Epoch 148/200\n",
            "50/50 [==============================] - 4s 88ms/step - loss: 1.0621 - accuracy: 0.7225 - val_loss: 1.5902 - val_accuracy: 0.5422\n",
            "Epoch 149/200\n",
            "50/50 [==============================] - 4s 89ms/step - loss: 1.0587 - accuracy: 0.7235 - val_loss: 1.7813 - val_accuracy: 0.4985\n",
            "Epoch 150/200\n",
            "50/50 [==============================] - 4s 89ms/step - loss: 1.0597 - accuracy: 0.7226 - val_loss: 1.6929 - val_accuracy: 0.5171\n",
            "Epoch 151/200\n",
            "50/50 [==============================] - 4s 89ms/step - loss: 1.0575 - accuracy: 0.7244 - val_loss: 1.8199 - val_accuracy: 0.4928\n",
            "Epoch 152/200\n",
            "50/50 [==============================] - 4s 90ms/step - loss: 1.0580 - accuracy: 0.7229 - val_loss: 1.9882 - val_accuracy: 0.4439\n",
            "Epoch 153/200\n",
            "50/50 [==============================] - 4s 90ms/step - loss: 1.0556 - accuracy: 0.7254 - val_loss: 1.5022 - val_accuracy: 0.5688\n",
            "Epoch 154/200\n",
            "50/50 [==============================] - 4s 88ms/step - loss: 1.0561 - accuracy: 0.7248 - val_loss: 1.7626 - val_accuracy: 0.5088\n",
            "Epoch 155/200\n",
            "50/50 [==============================] - 4s 89ms/step - loss: 1.0541 - accuracy: 0.7266 - val_loss: 1.6541 - val_accuracy: 0.5260\n",
            "Epoch 156/200\n",
            "50/50 [==============================] - 4s 89ms/step - loss: 1.0548 - accuracy: 0.7241 - val_loss: 1.5173 - val_accuracy: 0.5572\n",
            "Epoch 157/200\n",
            "50/50 [==============================] - 4s 88ms/step - loss: 1.0555 - accuracy: 0.7251 - val_loss: 1.2827 - val_accuracy: 0.6417\n",
            "Epoch 158/200\n",
            "50/50 [==============================] - 4s 90ms/step - loss: 1.0541 - accuracy: 0.7254 - val_loss: 1.7139 - val_accuracy: 0.5088\n",
            "Epoch 159/200\n",
            "50/50 [==============================] - 4s 89ms/step - loss: 1.0591 - accuracy: 0.7239 - val_loss: 2.0336 - val_accuracy: 0.4418\n",
            "Epoch 160/200\n",
            "50/50 [==============================] - 4s 89ms/step - loss: 1.0532 - accuracy: 0.7256 - val_loss: 1.3270 - val_accuracy: 0.6248\n",
            "Epoch 161/200\n",
            "50/50 [==============================] - 4s 89ms/step - loss: 1.0529 - accuracy: 0.7256 - val_loss: 1.5383 - val_accuracy: 0.5621\n",
            "Epoch 162/200\n",
            "50/50 [==============================] - 4s 88ms/step - loss: 1.0518 - accuracy: 0.7264 - val_loss: 1.6708 - val_accuracy: 0.5092\n",
            "Epoch 163/200\n",
            "50/50 [==============================] - 4s 89ms/step - loss: 1.0459 - accuracy: 0.7267 - val_loss: 1.5401 - val_accuracy: 0.5449\n",
            "Epoch 164/200\n",
            "50/50 [==============================] - 4s 89ms/step - loss: 1.0532 - accuracy: 0.7250 - val_loss: 1.7052 - val_accuracy: 0.5040\n",
            "Epoch 165/200\n",
            "50/50 [==============================] - 4s 90ms/step - loss: 1.0482 - accuracy: 0.7274 - val_loss: 1.8815 - val_accuracy: 0.4677\n",
            "Epoch 166/200\n",
            "50/50 [==============================] - 4s 89ms/step - loss: 1.0489 - accuracy: 0.7265 - val_loss: 1.8253 - val_accuracy: 0.4940\n",
            "Epoch 167/200\n",
            "50/50 [==============================] - 4s 89ms/step - loss: 1.0540 - accuracy: 0.7243 - val_loss: 1.7951 - val_accuracy: 0.4868\n",
            "Epoch 168/200\n",
            "50/50 [==============================] - 4s 89ms/step - loss: 1.0510 - accuracy: 0.7260 - val_loss: 2.0268 - val_accuracy: 0.4438\n",
            "Epoch 169/200\n",
            "50/50 [==============================] - 4s 90ms/step - loss: 1.0496 - accuracy: 0.7263 - val_loss: 1.7654 - val_accuracy: 0.5008\n",
            "Epoch 170/200\n",
            "50/50 [==============================] - 4s 89ms/step - loss: 1.0518 - accuracy: 0.7249 - val_loss: 1.7942 - val_accuracy: 0.5060\n",
            "Epoch 171/200\n",
            "50/50 [==============================] - 4s 90ms/step - loss: 1.0482 - accuracy: 0.7266 - val_loss: 1.6500 - val_accuracy: 0.5256\n",
            "Epoch 172/200\n",
            "50/50 [==============================] - 4s 89ms/step - loss: 1.0506 - accuracy: 0.7256 - val_loss: 1.6551 - val_accuracy: 0.5340\n",
            "Epoch 173/200\n",
            "50/50 [==============================] - 4s 89ms/step - loss: 1.0517 - accuracy: 0.7253 - val_loss: 1.6915 - val_accuracy: 0.5245\n",
            "Epoch 174/200\n",
            "50/50 [==============================] - 5s 91ms/step - loss: 1.0530 - accuracy: 0.7251 - val_loss: 1.4901 - val_accuracy: 0.5704\n",
            "Epoch 175/200\n",
            "50/50 [==============================] - 4s 90ms/step - loss: 1.0475 - accuracy: 0.7262 - val_loss: 1.3824 - val_accuracy: 0.6069\n",
            "Epoch 176/200\n",
            "50/50 [==============================] - 4s 90ms/step - loss: 1.0480 - accuracy: 0.7273 - val_loss: 1.5354 - val_accuracy: 0.5652\n",
            "Epoch 177/200\n",
            "50/50 [==============================] - 5s 91ms/step - loss: 1.0510 - accuracy: 0.7264 - val_loss: 1.8880 - val_accuracy: 0.4963\n",
            "Epoch 178/200\n",
            "50/50 [==============================] - 5s 90ms/step - loss: 1.0473 - accuracy: 0.7269 - val_loss: 1.3472 - val_accuracy: 0.6205\n",
            "Epoch 179/200\n",
            "50/50 [==============================] - 4s 89ms/step - loss: 1.0437 - accuracy: 0.7285 - val_loss: 1.7269 - val_accuracy: 0.5237\n",
            "Epoch 180/200\n",
            "50/50 [==============================] - 5s 91ms/step - loss: 1.0449 - accuracy: 0.7281 - val_loss: 1.3896 - val_accuracy: 0.6082\n",
            "Epoch 181/200\n",
            "50/50 [==============================] - 4s 89ms/step - loss: 1.0487 - accuracy: 0.7264 - val_loss: 1.7613 - val_accuracy: 0.5017\n",
            "Epoch 182/200\n",
            "50/50 [==============================] - 4s 90ms/step - loss: 1.0479 - accuracy: 0.7259 - val_loss: 1.7935 - val_accuracy: 0.4951\n",
            "Epoch 183/200\n",
            "50/50 [==============================] - 4s 89ms/step - loss: 1.0510 - accuracy: 0.7260 - val_loss: 1.7088 - val_accuracy: 0.5071\n",
            "Epoch 184/200\n",
            "50/50 [==============================] - 4s 88ms/step - loss: 1.0464 - accuracy: 0.7279 - val_loss: 1.4268 - val_accuracy: 0.5852\n",
            "Epoch 185/200\n",
            "50/50 [==============================] - 4s 89ms/step - loss: 1.0513 - accuracy: 0.7251 - val_loss: 1.6605 - val_accuracy: 0.5179\n",
            "Epoch 186/200\n",
            "50/50 [==============================] - 4s 88ms/step - loss: 1.0454 - accuracy: 0.7261 - val_loss: 1.8237 - val_accuracy: 0.4871\n",
            "Epoch 187/200\n",
            "50/50 [==============================] - 4s 89ms/step - loss: 1.0445 - accuracy: 0.7280 - val_loss: 1.6200 - val_accuracy: 0.5445\n",
            "Epoch 188/200\n",
            "50/50 [==============================] - 4s 89ms/step - loss: 1.0462 - accuracy: 0.7275 - val_loss: 1.4483 - val_accuracy: 0.5956\n",
            "Epoch 189/200\n",
            "50/50 [==============================] - 4s 90ms/step - loss: 1.0484 - accuracy: 0.7258 - val_loss: 1.7574 - val_accuracy: 0.4940\n",
            "Epoch 190/200\n",
            "50/50 [==============================] - 4s 89ms/step - loss: 1.0435 - accuracy: 0.7277 - val_loss: 1.8625 - val_accuracy: 0.4876\n",
            "Epoch 191/200\n",
            "50/50 [==============================] - 4s 89ms/step - loss: 1.0467 - accuracy: 0.7283 - val_loss: 1.8845 - val_accuracy: 0.4679\n",
            "Epoch 192/200\n",
            "50/50 [==============================] - 4s 89ms/step - loss: 1.0465 - accuracy: 0.7278 - val_loss: 1.6143 - val_accuracy: 0.5309\n",
            "Epoch 193/200\n",
            "50/50 [==============================] - 4s 89ms/step - loss: 1.0432 - accuracy: 0.7279 - val_loss: 1.8325 - val_accuracy: 0.4825\n",
            "Epoch 194/200\n",
            "50/50 [==============================] - 4s 88ms/step - loss: 1.0426 - accuracy: 0.7283 - val_loss: 1.8238 - val_accuracy: 0.4969\n",
            "Epoch 195/200\n",
            "50/50 [==============================] - 4s 89ms/step - loss: 1.0512 - accuracy: 0.7251 - val_loss: 2.4782 - val_accuracy: 0.3521\n",
            "Epoch 196/200\n",
            "50/50 [==============================] - 4s 89ms/step - loss: 1.0416 - accuracy: 0.7284 - val_loss: 1.4615 - val_accuracy: 0.5770\n",
            "Epoch 197/200\n",
            "50/50 [==============================] - 4s 89ms/step - loss: 1.0469 - accuracy: 0.7271 - val_loss: 1.5066 - val_accuracy: 0.5660\n",
            "Epoch 198/200\n",
            "50/50 [==============================] - 4s 89ms/step - loss: 1.0494 - accuracy: 0.7262 - val_loss: 1.6169 - val_accuracy: 0.5423\n",
            "Epoch 199/200\n",
            "50/50 [==============================] - 5s 91ms/step - loss: 1.0491 - accuracy: 0.7272 - val_loss: 1.6168 - val_accuracy: 0.5346\n",
            "Epoch 200/200\n",
            "50/50 [==============================] - 4s 90ms/step - loss: 1.0504 - accuracy: 0.7258 - val_loss: 1.5130 - val_accuracy: 0.5805\n"
          ]
        }
      ],
      "source": [
        "history_augmented = model.fit(train_images_augmented, train_labels_augmented, batch_size=2000, epochs=200, validation_data=(test_images, test_labels), verbose = 1)"
      ]
    },
    {
      "cell_type": "code",
      "execution_count": null,
      "metadata": {
        "colab": {
          "base_uri": "https://localhost:8080/"
        },
        "id": "d-n87-Yl_gPD",
        "outputId": "7b96ca2a-044d-4f96-fb93-59a706462201"
      },
      "outputs": [
        {
          "name": "stdout",
          "output_type": "stream",
          "text": [
            "3125/3125 - 8s - loss: 1.8504 - accuracy: 0.4884 - 8s/epoch - 3ms/step\n",
            "313/313 - 1s - loss: 1.5130 - accuracy: 0.5805 - 791ms/epoch - 3ms/step\n",
            "Train Loss: 1.85 | Train Acc: 0.49\n",
            "Val Loss: 1.51 | Val Acc: 0.58\n"
          ]
        }
      ],
      "source": [
        "train_augmented_loss, train_augmented_acc = model.evaluate(train_images_augmented, train_labels_augmented, verbose=2)\n",
        "test_augmented_loss, test_augmented_acc = model.evaluate(test_images, test_labels, verbose=2)\n",
        "\n",
        "print(f'Train Loss: {train_augmented_loss:.2f} | Train Acc: {train_augmented_acc:.2f}')\n",
        "print(f'Val Loss: {test_augmented_loss:.2f} | Val Acc: {test_augmented_acc:.2f}')"
      ]
    },
    {
      "cell_type": "code",
      "execution_count": null,
      "metadata": {
        "id": "GzYHISC1_gz7"
      },
      "outputs": [],
      "source": [
        "plt.style.use('ggplot')\n",
        "plt.plot(history_augmented.history['accuracy'], label = 'accuracy')\n",
        "plt.plot(history_augmented.history['val_accuracy'], label='val accuracy')\n",
        "plt.title(\"Accuracy vs Val_Accuracy\")\n",
        "plt.xlabel(\"Epochs\")\n",
        "plt.ylabel(\"Accuracy\")\n",
        "plt.legend()\n",
        "plt.show()"
      ]
    },
    {
      "cell_type": "code",
      "execution_count": null,
      "metadata": {
        "colab": {
          "base_uri": "https://localhost:8080/",
          "height": 299
        },
        "id": "sZuXiDSN_h1s",
        "outputId": "030dbd87-e79e-4bcc-e1b4-00f751a708de"
      },
      "outputs": [
        {
          "data": {
            "image/png": "[encoded data removed]",
            "text/plain": [
              "<Figure size 432x288 with 1 Axes>"
            ]
          },
          "metadata": {},
          "output_type": "display_data"
        }
      ],
      "source": [
        "plt.style.use('ggplot')\n",
        "plt.plot(history_augmented.history['loss'], label = 'loss')\n",
        "plt.plot(history_augmented.history['val_loss'], label='val loss')\n",
        "plt.title(\"Loss vs Val_Loss\")\n",
        "plt.xlabel(\"Epochs\")\n",
        "plt.ylabel(\"Loss\")\n",
        "plt.legend()\n",
        "plt.show()"
      ]
    },
    {
      "cell_type": "markdown",
      "metadata": {
        "id": "utxyKtZDt5PG"
      },
      "source": [
        "# **Making Predictions**"
      ]
    },
    {
      "cell_type": "code",
      "execution_count": null,
      "metadata": {
        "colab": {
          "base_uri": "https://localhost:8080/",
          "height": 237
        },
        "id": "apFvZEtmt8Hy",
        "outputId": "796e360e-9fb7-4bdd-87eb-0801756e1749"
      },
      "outputs": [
        {
          "ename": "NameError",
          "evalue": "ignored",
          "output_type": "error",
          "traceback": [
            "\u001b[0;31m---------------------------------------------------------------------------\u001b[0m",
            "\u001b[0;31mNameError\u001b[0m                                 Traceback (most recent call last)",
            "\u001b[0;32m<ipython-input-1-700e8ed14775>\u001b[0m in \u001b[0;36m<module>\u001b[0;34m\u001b[0m\n\u001b[0;32m----> 1\u001b[0;31m \u001b[0mpredictions\u001b[0m \u001b[0;34m=\u001b[0m \u001b[0mmodel\u001b[0m\u001b[0;34m.\u001b[0m\u001b[0mpredict\u001b[0m\u001b[0;34m(\u001b[0m\u001b[0mtest_images\u001b[0m\u001b[0;34m)\u001b[0m\u001b[0;34m\u001b[0m\u001b[0;34m\u001b[0m\u001b[0m\n\u001b[0m\u001b[1;32m      2\u001b[0m \u001b[0;34m\u001b[0m\u001b[0m\n\u001b[1;32m      3\u001b[0m \u001b[0mimg_selector\u001b[0m \u001b[0;34m=\u001b[0m \u001b[0;36m10000\u001b[0m\u001b[0;34m\u001b[0m\u001b[0;34m\u001b[0m\u001b[0m\n\u001b[1;32m      4\u001b[0m \u001b[0;34m\u001b[0m\u001b[0m\n\u001b[1;32m      5\u001b[0m \u001b[0mplt\u001b[0m\u001b[0;34m.\u001b[0m\u001b[0mimshow\u001b[0m\u001b[0;34m(\u001b[0m\u001b[0mtest_images\u001b[0m\u001b[0;34m[\u001b[0m\u001b[0mimg_selector\u001b[0m\u001b[0;34m]\u001b[0m\u001b[0;34m,\u001b[0m \u001b[0mcmap\u001b[0m\u001b[0;34m=\u001b[0m \u001b[0mplt\u001b[0m\u001b[0;34m.\u001b[0m\u001b[0mcm\u001b[0m\u001b[0;34m.\u001b[0m\u001b[0mbinary\u001b[0m\u001b[0;34m)\u001b[0m\u001b[0;34m\u001b[0m\u001b[0;34m\u001b[0m\u001b[0m\n",
            "\u001b[0;31mNameError\u001b[0m: name 'model' is not defined"
          ]
        }
      ],
      "source": [
        "predictions = model.predict(test_images)\n",
        "\n",
        "img_selector = 10000\n",
        "\n",
        "plt.imshow(test_images[img_selector], cmap= plt.cm.binary)\n",
        "plt.title('Expected: '+ class_names[test_labels[img_selector][0]])\n",
        "plt.xlabel('Predicted: '+ class_names[np.argmax(predictions[img_selector])])\n",
        "\n",
        "plt.show()"
      ]
    },
    {
      "cell_type": "code",
      "execution_count": null,
      "metadata": {
        "id": "rW1EiCGhuRIB"
      },
      "outputs": [],
      "source": [
        "!nvidia-smi"
      ]
    },
    {
      "cell_type": "code",
      "execution_count": null,
      "metadata": {
        "id": "Gyy54k1UuSFA"
      },
      "outputs": [],
      "source": []
    }
  ],
  "metadata": {
    "accelerator": "GPU",
    "colab": {
      "collapsed_sections": [
        "0iZEiJeG2Dsp"
      ],
      "provenance": []
    },
    "gpuClass": "standard",
    "kernelspec": {
      "display_name": "Python 3.10.6 ('work_env')",
      "language": "python",
      "name": "python3"
    },
    "language_info": {
      "codemirror_mode": {
        "name": "ipython",
        "version": 3
      },
      "file_extension": ".py",
      "mimetype": "text/x-python",
      "name": "python",
      "nbconvert_exporter": "python",
      "pygments_lexer": "ipython3",
      "version": "3.10.6"
    },
    "orig_nbformat": 4,
    "vscode": {
      "interpreter": {
        "hash": "72dcb3faa37ade2020a234990edafe6daa1b6e37ccadfe6b1095b7450ad07f30"
      }
    }
  },
  "nbformat": 4,
  "nbformat_minor": 0
}
