{
 "cells": [
  {
   "cell_type": "markdown",
   "metadata": {},
   "source": [
    "# **Imports**"
   ]
  },
  {
   "cell_type": "code",
   "execution_count": 2,
   "metadata": {},
   "outputs": [
    {
     "ename": "KeyboardInterrupt",
     "evalue": "",
     "output_type": "error",
     "traceback": [
      "\u001b[0;31m---------------------------------------------------------------------------\u001b[0m",
      "\u001b[0;31mKeyboardInterrupt\u001b[0m                         Traceback (most recent call last)",
      "Cell \u001b[0;32mIn [2], line 4\u001b[0m\n\u001b[1;32m      1\u001b[0m \u001b[39mimport\u001b[39;00m \u001b[39mos\u001b[39;00m\n\u001b[1;32m      2\u001b[0m os\u001b[39m.\u001b[39menviron[\u001b[39m'\u001b[39m\u001b[39mTF_CPP_MIN_LOG_LEVEL\u001b[39m\u001b[39m'\u001b[39m] \u001b[39m=\u001b[39m \u001b[39m'\u001b[39m\u001b[39m2\u001b[39m\u001b[39m'\u001b[39m\n\u001b[0;32m----> 4\u001b[0m \u001b[39mimport\u001b[39;00m \u001b[39mtensorflow\u001b[39;00m \u001b[39mas\u001b[39;00m \u001b[39mtf\u001b[39;00m\n\u001b[1;32m      6\u001b[0m \u001b[39mfrom\u001b[39;00m \u001b[39mtensorflow\u001b[39;00m\u001b[39m.\u001b[39;00m\u001b[39mkeras\u001b[39;00m \u001b[39mimport\u001b[39;00m datasets, layers, models \u001b[39m# type: ignore\u001b[39;00m\n\u001b[1;32m      8\u001b[0m \u001b[39mimport\u001b[39;00m \u001b[39mmatplotlib\u001b[39;00m\u001b[39m.\u001b[39;00m\u001b[39mpyplot\u001b[39;00m \u001b[39mas\u001b[39;00m \u001b[39mplt\u001b[39;00m\n",
      "File \u001b[0;32m~/Documents/VirtualEnvs/work_env/lib/python3.10/site-packages/tensorflow/__init__.py:37\u001b[0m\n\u001b[1;32m     34\u001b[0m \u001b[39mimport\u001b[39;00m \u001b[39msys\u001b[39;00m \u001b[39mas\u001b[39;00m \u001b[39m_sys\u001b[39;00m\n\u001b[1;32m     35\u001b[0m \u001b[39mimport\u001b[39;00m \u001b[39mtyping\u001b[39;00m \u001b[39mas\u001b[39;00m \u001b[39m_typing\u001b[39;00m\n\u001b[0;32m---> 37\u001b[0m \u001b[39mfrom\u001b[39;00m \u001b[39mtensorflow\u001b[39;00m\u001b[39m.\u001b[39;00m\u001b[39mpython\u001b[39;00m\u001b[39m.\u001b[39;00m\u001b[39mtools\u001b[39;00m \u001b[39mimport\u001b[39;00m module_util \u001b[39mas\u001b[39;00m _module_util\n\u001b[1;32m     38\u001b[0m \u001b[39mfrom\u001b[39;00m \u001b[39mtensorflow\u001b[39;00m\u001b[39m.\u001b[39;00m\u001b[39mpython\u001b[39;00m\u001b[39m.\u001b[39;00m\u001b[39mutil\u001b[39;00m\u001b[39m.\u001b[39;00m\u001b[39mlazy_loader\u001b[39;00m \u001b[39mimport\u001b[39;00m LazyLoader \u001b[39mas\u001b[39;00m _LazyLoader\n\u001b[1;32m     40\u001b[0m \u001b[39m# Make sure code inside the TensorFlow codebase can use tf2.enabled() at import.\u001b[39;00m\n",
      "File \u001b[0;32m~/Documents/VirtualEnvs/work_env/lib/python3.10/site-packages/tensorflow/python/__init__.py:37\u001b[0m\n\u001b[1;32m     29\u001b[0m \u001b[39m# We aim to keep this file minimal and ideally remove completely.\u001b[39;00m\n\u001b[1;32m     30\u001b[0m \u001b[39m# If you are adding a new file with @tf_export decorators,\u001b[39;00m\n\u001b[1;32m     31\u001b[0m \u001b[39m# import it in modules_with_exports.py instead.\u001b[39;00m\n\u001b[1;32m     32\u001b[0m \n\u001b[1;32m     33\u001b[0m \u001b[39m# go/tf-wildcard-import\u001b[39;00m\n\u001b[1;32m     34\u001b[0m \u001b[39m# pylint: disable=wildcard-import,g-bad-import-order,g-import-not-at-top\u001b[39;00m\n\u001b[1;32m     36\u001b[0m \u001b[39mfrom\u001b[39;00m \u001b[39mtensorflow\u001b[39;00m\u001b[39m.\u001b[39;00m\u001b[39mpython\u001b[39;00m \u001b[39mimport\u001b[39;00m pywrap_tensorflow \u001b[39mas\u001b[39;00m _pywrap_tensorflow\n\u001b[0;32m---> 37\u001b[0m \u001b[39mfrom\u001b[39;00m \u001b[39mtensorflow\u001b[39;00m\u001b[39m.\u001b[39;00m\u001b[39mpython\u001b[39;00m\u001b[39m.\u001b[39;00m\u001b[39meager\u001b[39;00m \u001b[39mimport\u001b[39;00m context\n\u001b[1;32m     39\u001b[0m \u001b[39m# pylint: enable=wildcard-import\u001b[39;00m\n\u001b[1;32m     40\u001b[0m \n\u001b[1;32m     41\u001b[0m \u001b[39m# Bring in subpackages.\u001b[39;00m\n\u001b[1;32m     42\u001b[0m \u001b[39mfrom\u001b[39;00m \u001b[39mtensorflow\u001b[39;00m\u001b[39m.\u001b[39;00m\u001b[39mpython\u001b[39;00m \u001b[39mimport\u001b[39;00m data\n",
      "File \u001b[0;32m~/Documents/VirtualEnvs/work_env/lib/python3.10/site-packages/tensorflow/python/eager/context.py:26\u001b[0m\n\u001b[1;32m     23\u001b[0m \u001b[39mimport\u001b[39;00m \u001b[39mthreading\u001b[39;00m\n\u001b[1;32m     25\u001b[0m \u001b[39mfrom\u001b[39;00m \u001b[39mabsl\u001b[39;00m \u001b[39mimport\u001b[39;00m logging\n\u001b[0;32m---> 26\u001b[0m \u001b[39mimport\u001b[39;00m \u001b[39mnumpy\u001b[39;00m \u001b[39mas\u001b[39;00m \u001b[39mnp\u001b[39;00m\n\u001b[1;32m     27\u001b[0m \u001b[39mimport\u001b[39;00m \u001b[39msix\u001b[39;00m\n\u001b[1;32m     29\u001b[0m \u001b[39mfrom\u001b[39;00m \u001b[39mtensorflow\u001b[39;00m\u001b[39m.\u001b[39;00m\u001b[39mcore\u001b[39;00m\u001b[39m.\u001b[39;00m\u001b[39mframework\u001b[39;00m \u001b[39mimport\u001b[39;00m function_pb2\n",
      "File \u001b[0;32m~/Documents/VirtualEnvs/work_env/lib/python3.10/site-packages/numpy/__init__.py:140\u001b[0m\n\u001b[1;32m    137\u001b[0m \u001b[39m# Allow distributors to run custom init code\u001b[39;00m\n\u001b[1;32m    138\u001b[0m \u001b[39mfrom\u001b[39;00m \u001b[39m.\u001b[39;00m \u001b[39mimport\u001b[39;00m _distributor_init\n\u001b[0;32m--> 140\u001b[0m \u001b[39mfrom\u001b[39;00m \u001b[39m.\u001b[39;00m \u001b[39mimport\u001b[39;00m core\n\u001b[1;32m    141\u001b[0m \u001b[39mfrom\u001b[39;00m \u001b[39m.\u001b[39;00m\u001b[39mcore\u001b[39;00m \u001b[39mimport\u001b[39;00m \u001b[39m*\u001b[39m\n\u001b[1;32m    142\u001b[0m \u001b[39mfrom\u001b[39;00m \u001b[39m.\u001b[39;00m \u001b[39mimport\u001b[39;00m compat\n",
      "File \u001b[0;32m~/Documents/VirtualEnvs/work_env/lib/python3.10/site-packages/numpy/core/__init__.py:73\u001b[0m\n\u001b[1;32m     71\u001b[0m \u001b[39mfrom\u001b[39;00m \u001b[39m.\u001b[39;00m \u001b[39mimport\u001b[39;00m numerictypes \u001b[39mas\u001b[39;00m nt\n\u001b[1;32m     72\u001b[0m multiarray\u001b[39m.\u001b[39mset_typeDict(nt\u001b[39m.\u001b[39msctypeDict)\n\u001b[0;32m---> 73\u001b[0m \u001b[39mfrom\u001b[39;00m \u001b[39m.\u001b[39;00m \u001b[39mimport\u001b[39;00m numeric\n\u001b[1;32m     74\u001b[0m \u001b[39mfrom\u001b[39;00m \u001b[39m.\u001b[39;00m\u001b[39mnumeric\u001b[39;00m \u001b[39mimport\u001b[39;00m \u001b[39m*\u001b[39m\n\u001b[1;32m     75\u001b[0m \u001b[39mfrom\u001b[39;00m \u001b[39m.\u001b[39;00m \u001b[39mimport\u001b[39;00m fromnumeric\n",
      "File \u001b[0;32m~/Documents/VirtualEnvs/work_env/lib/python3.10/site-packages/numpy/core/numeric.py:24\u001b[0m\n\u001b[1;32m     22\u001b[0m \u001b[39mfrom\u001b[39;00m \u001b[39m.\u001b[39;00m \u001b[39mimport\u001b[39;00m overrides\n\u001b[1;32m     23\u001b[0m \u001b[39mfrom\u001b[39;00m \u001b[39m.\u001b[39;00m \u001b[39mimport\u001b[39;00m umath\n\u001b[0;32m---> 24\u001b[0m \u001b[39mfrom\u001b[39;00m \u001b[39m.\u001b[39;00m \u001b[39mimport\u001b[39;00m shape_base\n\u001b[1;32m     25\u001b[0m \u001b[39mfrom\u001b[39;00m \u001b[39m.\u001b[39;00m\u001b[39moverrides\u001b[39;00m \u001b[39mimport\u001b[39;00m set_array_function_like_doc, set_module\n\u001b[1;32m     26\u001b[0m \u001b[39mfrom\u001b[39;00m \u001b[39m.\u001b[39;00m\u001b[39mumath\u001b[39;00m \u001b[39mimport\u001b[39;00m (multiply, invert, sin, PINF, NAN)\n",
      "File \u001b[0;32m~/Documents/VirtualEnvs/work_env/lib/python3.10/site-packages/numpy/core/shape_base.py:12\u001b[0m\n\u001b[1;32m     10\u001b[0m \u001b[39mfrom\u001b[39;00m \u001b[39m.\u001b[39;00m \u001b[39mimport\u001b[39;00m overrides\n\u001b[1;32m     11\u001b[0m \u001b[39mfrom\u001b[39;00m \u001b[39m.\u001b[39;00m\u001b[39mmultiarray\u001b[39;00m \u001b[39mimport\u001b[39;00m array, asanyarray, normalize_axis_index\n\u001b[0;32m---> 12\u001b[0m \u001b[39mfrom\u001b[39;00m \u001b[39m.\u001b[39;00m \u001b[39mimport\u001b[39;00m fromnumeric \u001b[39mas\u001b[39;00m _from_nx\n\u001b[1;32m     15\u001b[0m array_function_dispatch \u001b[39m=\u001b[39m functools\u001b[39m.\u001b[39mpartial(\n\u001b[1;32m     16\u001b[0m     overrides\u001b[39m.\u001b[39marray_function_dispatch, module\u001b[39m=\u001b[39m\u001b[39m'\u001b[39m\u001b[39mnumpy\u001b[39m\u001b[39m'\u001b[39m)\n\u001b[1;32m     19\u001b[0m \u001b[39mdef\u001b[39;00m \u001b[39m_atleast_1d_dispatcher\u001b[39m(\u001b[39m*\u001b[39marys):\n",
      "File \u001b[0;32m~/Documents/VirtualEnvs/work_env/lib/python3.10/site-packages/numpy/core/fromnumeric.py:14\u001b[0m\n\u001b[1;32m     12\u001b[0m \u001b[39mfrom\u001b[39;00m \u001b[39m.\u001b[39;00m \u001b[39mimport\u001b[39;00m numerictypes \u001b[39mas\u001b[39;00m nt\n\u001b[1;32m     13\u001b[0m \u001b[39mfrom\u001b[39;00m \u001b[39m.\u001b[39;00m\u001b[39mmultiarray\u001b[39;00m \u001b[39mimport\u001b[39;00m asarray, array, asanyarray, concatenate\n\u001b[0;32m---> 14\u001b[0m \u001b[39mfrom\u001b[39;00m \u001b[39m.\u001b[39;00m \u001b[39mimport\u001b[39;00m _methods\n\u001b[1;32m     16\u001b[0m _dt_ \u001b[39m=\u001b[39m nt\u001b[39m.\u001b[39msctype2char\n\u001b[1;32m     18\u001b[0m \u001b[39m# functions that are methods\u001b[39;00m\n",
      "File \u001b[0;32m~/Documents/VirtualEnvs/work_env/lib/python3.10/site-packages/numpy/core/_methods.py:13\u001b[0m\n\u001b[1;32m     11\u001b[0m \u001b[39mfrom\u001b[39;00m \u001b[39mnumpy\u001b[39;00m\u001b[39m.\u001b[39;00m\u001b[39mcore\u001b[39;00m\u001b[39m.\u001b[39;00m\u001b[39mmultiarray\u001b[39;00m \u001b[39mimport\u001b[39;00m asanyarray\n\u001b[1;32m     12\u001b[0m \u001b[39mfrom\u001b[39;00m \u001b[39mnumpy\u001b[39;00m\u001b[39m.\u001b[39;00m\u001b[39mcore\u001b[39;00m \u001b[39mimport\u001b[39;00m numerictypes \u001b[39mas\u001b[39;00m nt\n\u001b[0;32m---> 13\u001b[0m \u001b[39mfrom\u001b[39;00m \u001b[39mnumpy\u001b[39;00m\u001b[39m.\u001b[39;00m\u001b[39mcore\u001b[39;00m \u001b[39mimport\u001b[39;00m _exceptions\n\u001b[1;32m     14\u001b[0m \u001b[39mfrom\u001b[39;00m \u001b[39mnumpy\u001b[39;00m\u001b[39m.\u001b[39;00m\u001b[39m_globals\u001b[39;00m \u001b[39mimport\u001b[39;00m _NoValue\n\u001b[1;32m     15\u001b[0m \u001b[39mfrom\u001b[39;00m \u001b[39mnumpy\u001b[39;00m\u001b[39m.\u001b[39;00m\u001b[39mcompat\u001b[39;00m \u001b[39mimport\u001b[39;00m pickle, os_fspath\n",
      "File \u001b[0;32m<frozen importlib._bootstrap>:1027\u001b[0m, in \u001b[0;36m_find_and_load\u001b[0;34m(name, import_)\u001b[0m\n",
      "File \u001b[0;32m<frozen importlib._bootstrap>:1002\u001b[0m, in \u001b[0;36m_find_and_load_unlocked\u001b[0;34m(name, import_)\u001b[0m\n",
      "File \u001b[0;32m<frozen importlib._bootstrap>:945\u001b[0m, in \u001b[0;36m_find_spec\u001b[0;34m(name, path, target)\u001b[0m\n",
      "File \u001b[0;32m<frozen importlib._bootstrap_external>:1439\u001b[0m, in \u001b[0;36mfind_spec\u001b[0;34m(cls, fullname, path, target)\u001b[0m\n",
      "File \u001b[0;32m<frozen importlib._bootstrap_external>:1411\u001b[0m, in \u001b[0;36m_get_spec\u001b[0;34m(cls, fullname, path, target)\u001b[0m\n",
      "File \u001b[0;32m<frozen importlib._bootstrap_external>:1547\u001b[0m, in \u001b[0;36mfind_spec\u001b[0;34m(self, fullname, target)\u001b[0m\n",
      "\u001b[0;31mKeyboardInterrupt\u001b[0m: "
     ]
    }
   ],
   "source": [
    "import os\n",
    "os.environ['TF_CPP_MIN_LOG_LEVEL'] = '2'\n",
    "\n",
    "import tensorflow as tf\n",
    "\n",
    "from tensorflow.keras import datasets, layers, models # type: ignore\n",
    "\n",
    "import matplotlib.pyplot as plt\n",
    "\n",
    "import numpy as np\n",
    "\n",
    "from keras.preprocessing import image\n",
    "from keras.preprocessing.image import ImageDataGenerator"
   ]
  },
  {
   "cell_type": "markdown",
   "metadata": {},
   "source": [
    "## **Importing CIFAR Dataset**"
   ]
  },
  {
   "cell_type": "code",
   "execution_count": null,
   "metadata": {},
   "outputs": [],
   "source": [
    "# This has 60,000 32x32 color images with 10 classes and 6000 images for each class.\n",
    "\n",
    "(train_images, train_labels), (test_images, test_labels) = datasets.cifar10.load_data()"
   ]
  },
  {
   "cell_type": "markdown",
   "metadata": {},
   "source": [
    "### **Normalizing Data**"
   ]
  },
  {
   "cell_type": "code",
   "execution_count": null,
   "metadata": {},
   "outputs": [],
   "source": [
    "train_images = train_images / 255.0\n",
    "\n",
    "test_images = test_images / 255.0"
   ]
  },
  {
   "cell_type": "markdown",
   "metadata": {},
   "source": [
    "## **Class Names**"
   ]
  },
  {
   "cell_type": "code",
   "execution_count": null,
   "metadata": {},
   "outputs": [],
   "source": [
    "class_names = ['airplane', 'automobile', 'bird', 'cat', 'deer', 'dog', 'frog', 'horse', 'ship', 'truck']"
   ]
  },
  {
   "cell_type": "markdown",
   "metadata": {},
   "source": [
    "## **Show Image**"
   ]
  },
  {
   "cell_type": "code",
   "execution_count": null,
   "metadata": {},
   "outputs": [
    {
     "data": {
      "image/png": "[encoded data removed]",
      "text/plain": [
       "<Figure size 640x480 with 1 Axes>"
      ]
     },
     "metadata": {},
     "output_type": "display_data"
    }
   ],
   "source": [
    "img_selector = 0\n",
    "\n",
    "plt.imshow(test_images[img_selector], cmap= plt.cm.binary)\n",
    "\n",
    "plt.xlabel(class_names[test_labels[img_selector][0]])\n",
    "\n",
    "plt.show()"
   ]
  },
  {
   "cell_type": "markdown",
   "metadata": {},
   "source": [
    "# **Building Model**"
   ]
  },
  {
   "cell_type": "code",
   "execution_count": null,
   "metadata": {},
   "outputs": [],
   "source": [
    "model = models.Sequential()"
   ]
  },
  {
   "cell_type": "markdown",
   "metadata": {},
   "source": [
    "## **Convoluted Layers**"
   ]
  },
  {
   "cell_type": "code",
   "execution_count": null,
   "metadata": {},
   "outputs": [],
   "source": [
    "model.add(layers.Conv2D(30, (3, 3), activation= 'relu', input_shape= (32, 32, 3)))\n",
    "model.add(layers.MaxPooling2D((2, 2)))\n",
    "\n",
    "model.add(layers.Conv2D(60, (3, 3), activation= 'relu'))\n",
    "model.add(layers.MaxPooling2D((2, 2)))\n",
    "\n",
    "model.add(layers.Conv2D(60, (3, 3), activation= 'relu'))"
   ]
  },
  {
   "cell_type": "code",
   "execution_count": null,
   "metadata": {},
   "outputs": [
    {
     "name": "stdout",
     "output_type": "stream",
     "text": [
      "Model: \"sequential_2\"\n",
      "_________________________________________________________________\n",
      " Layer (type)                Output Shape              Param #   \n",
      "=================================================================\n",
      " conv2d_6 (Conv2D)           (None, 30, 30, 30)        840       \n",
      "                                                                 \n",
      " max_pooling2d_4 (MaxPooling  (None, 15, 15, 30)       0         \n",
      " 2D)                                                             \n",
      "                                                                 \n",
      " conv2d_7 (Conv2D)           (None, 13, 13, 60)        16260     \n",
      "                                                                 \n",
      " max_pooling2d_5 (MaxPooling  (None, 6, 6, 60)         0         \n",
      " 2D)                                                             \n",
      "                                                                 \n",
      " conv2d_8 (Conv2D)           (None, 4, 4, 60)          32460     \n",
      "                                                                 \n",
      "=================================================================\n",
      "Total params: 49,560\n",
      "Trainable params: 49,560\n",
      "Non-trainable params: 0\n",
      "_________________________________________________________________\n"
     ]
    }
   ],
   "source": [
    "model.summary()"
   ]
  },
  {
   "cell_type": "markdown",
   "metadata": {},
   "source": [
    "## **Dense Layers**"
   ]
  },
  {
   "cell_type": "code",
   "execution_count": null,
   "metadata": {},
   "outputs": [],
   "source": [
    "model.add(layers.Flatten())\n",
    "model.add(layers.Dense(100, activation= 'relu'))\n",
    "model.add(layers.Dense(50, activation= 'relu'))\n",
    "model.add(layers.Dense(10))"
   ]
  },
  {
   "cell_type": "code",
   "execution_count": null,
   "metadata": {},
   "outputs": [
    {
     "name": "stdout",
     "output_type": "stream",
     "text": [
      "Model: \"sequential_2\"\n",
      "_________________________________________________________________\n",
      " Layer (type)                Output Shape              Param #   \n",
      "=================================================================\n",
      " conv2d_6 (Conv2D)           (None, 30, 30, 30)        840       \n",
      "                                                                 \n",
      " max_pooling2d_4 (MaxPooling  (None, 15, 15, 30)       0         \n",
      " 2D)                                                             \n",
      "                                                                 \n",
      " conv2d_7 (Conv2D)           (None, 13, 13, 60)        16260     \n",
      "                                                                 \n",
      " max_pooling2d_5 (MaxPooling  (None, 6, 6, 60)         0         \n",
      " 2D)                                                             \n",
      "                                                                 \n",
      " conv2d_8 (Conv2D)           (None, 4, 4, 60)          32460     \n",
      "                                                                 \n",
      " flatten_2 (Flatten)         (None, 960)               0         \n",
      "                                                                 \n",
      " dense_6 (Dense)             (None, 100)               96100     \n",
      "                                                                 \n",
      " dense_7 (Dense)             (None, 50)                5050      \n",
      "                                                                 \n",
      " dense_8 (Dense)             (None, 10)                510       \n",
      "                                                                 \n",
      "=================================================================\n",
      "Total params: 151,220\n",
      "Trainable params: 151,220\n",
      "Non-trainable params: 0\n",
      "_________________________________________________________________\n"
     ]
    }
   ],
   "source": [
    "model.summary()"
   ]
  },
  {
   "cell_type": "markdown",
   "metadata": {},
   "source": [
    "# **Compile Model**"
   ]
  },
  {
   "cell_type": "code",
   "execution_count": null,
   "metadata": {},
   "outputs": [
    {
     "name": "stdout",
     "output_type": "stream",
     "text": [
      "Epoch 1/50\n",
      "1563/1563 [==============================] - 20s 13ms/step - loss: 1.5497 - accuracy: 0.4302 - val_loss: 1.2950 - val_accuracy: 0.5259\n",
      "Epoch 2/50\n",
      "1563/1563 [==============================] - 20s 13ms/step - loss: 1.1702 - accuracy: 0.5840 - val_loss: 1.0603 - val_accuracy: 0.6275\n",
      "Epoch 3/50\n",
      "1563/1563 [==============================] - 20s 13ms/step - loss: 1.0077 - accuracy: 0.6458 - val_loss: 0.9676 - val_accuracy: 0.6550\n",
      "Epoch 4/50\n",
      "1563/1563 [==============================] - 21s 13ms/step - loss: 0.9040 - accuracy: 0.6809 - val_loss: 0.9358 - val_accuracy: 0.6647\n",
      "Epoch 5/50\n",
      "1563/1563 [==============================] - 23s 15ms/step - loss: 0.8327 - accuracy: 0.7066 - val_loss: 0.8943 - val_accuracy: 0.6920\n",
      "Epoch 6/50\n",
      "1563/1563 [==============================] - 21s 13ms/step - loss: 0.7704 - accuracy: 0.7305 - val_loss: 0.9284 - val_accuracy: 0.6779\n",
      "Epoch 7/50\n",
      "1563/1563 [==============================] - 21s 13ms/step - loss: 0.7204 - accuracy: 0.7471 - val_loss: 0.8694 - val_accuracy: 0.7005\n",
      "Epoch 8/50\n",
      "1563/1563 [==============================] - 23s 15ms/step - loss: 0.6785 - accuracy: 0.7628 - val_loss: 0.8989 - val_accuracy: 0.6953\n",
      "Epoch 9/50\n",
      "1563/1563 [==============================] - 20s 13ms/step - loss: 0.6309 - accuracy: 0.7788 - val_loss: 0.8835 - val_accuracy: 0.7006\n",
      "Epoch 10/50\n",
      "1563/1563 [==============================] - 20s 13ms/step - loss: 0.5916 - accuracy: 0.7925 - val_loss: 0.8930 - val_accuracy: 0.6981\n",
      "Epoch 11/50\n",
      "1563/1563 [==============================] - 21s 13ms/step - loss: 0.5584 - accuracy: 0.8025 - val_loss: 0.8995 - val_accuracy: 0.6984\n",
      "Epoch 12/50\n",
      "1563/1563 [==============================] - 21s 13ms/step - loss: 0.5206 - accuracy: 0.8181 - val_loss: 0.9101 - val_accuracy: 0.7029\n",
      "Epoch 13/50\n",
      "1563/1563 [==============================] - 21s 13ms/step - loss: 0.4912 - accuracy: 0.8257 - val_loss: 1.0055 - val_accuracy: 0.6950\n",
      "Epoch 14/50\n",
      "1563/1563 [==============================] - 20s 13ms/step - loss: 0.4609 - accuracy: 0.8350 - val_loss: 0.9598 - val_accuracy: 0.7110\n",
      "Epoch 15/50\n",
      "1563/1563 [==============================] - 20s 13ms/step - loss: 0.4302 - accuracy: 0.8478 - val_loss: 1.0574 - val_accuracy: 0.6976\n",
      "Epoch 16/50\n",
      "1563/1563 [==============================] - 22s 14ms/step - loss: 0.4036 - accuracy: 0.8563 - val_loss: 1.0228 - val_accuracy: 0.7041\n",
      "Epoch 17/50\n",
      "1563/1563 [==============================] - 20s 13ms/step - loss: 0.3786 - accuracy: 0.8639 - val_loss: 1.0706 - val_accuracy: 0.7016\n",
      "Epoch 18/50\n",
      "1563/1563 [==============================] - 20s 13ms/step - loss: 0.3537 - accuracy: 0.8741 - val_loss: 1.1581 - val_accuracy: 0.6936\n",
      "Epoch 19/50\n",
      "1563/1563 [==============================] - 20s 13ms/step - loss: 0.3363 - accuracy: 0.8798 - val_loss: 1.1411 - val_accuracy: 0.7053\n",
      "Epoch 20/50\n",
      "1563/1563 [==============================] - 21s 14ms/step - loss: 0.3134 - accuracy: 0.8883 - val_loss: 1.1879 - val_accuracy: 0.6996\n",
      "Epoch 21/50\n",
      "1563/1563 [==============================] - 21s 14ms/step - loss: 0.2944 - accuracy: 0.8939 - val_loss: 1.2880 - val_accuracy: 0.6917\n",
      "Epoch 22/50\n",
      "1563/1563 [==============================] - 20s 13ms/step - loss: 0.2782 - accuracy: 0.9005 - val_loss: 1.4476 - val_accuracy: 0.6751\n",
      "Epoch 23/50\n",
      "1563/1563 [==============================] - 20s 13ms/step - loss: 0.2667 - accuracy: 0.9051 - val_loss: 1.3895 - val_accuracy: 0.6853\n",
      "Epoch 24/50\n",
      "1563/1563 [==============================] - 21s 13ms/step - loss: 0.2496 - accuracy: 0.9116 - val_loss: 1.3853 - val_accuracy: 0.6913\n",
      "Epoch 25/50\n",
      "1563/1563 [==============================] - 20s 13ms/step - loss: 0.2384 - accuracy: 0.9159 - val_loss: 1.4959 - val_accuracy: 0.6862\n",
      "Epoch 26/50\n",
      "1563/1563 [==============================] - 20s 13ms/step - loss: 0.2276 - accuracy: 0.9176 - val_loss: 1.5915 - val_accuracy: 0.6725\n",
      "Epoch 27/50\n",
      "1563/1563 [==============================] - 20s 12ms/step - loss: 0.2140 - accuracy: 0.9238 - val_loss: 1.5053 - val_accuracy: 0.6945\n",
      "Epoch 28/50\n",
      "1563/1563 [==============================] - 20s 13ms/step - loss: 0.2048 - accuracy: 0.9280 - val_loss: 1.5561 - val_accuracy: 0.6936\n",
      "Epoch 29/50\n",
      "1563/1563 [==============================] - 20s 13ms/step - loss: 0.1949 - accuracy: 0.9310 - val_loss: 1.6956 - val_accuracy: 0.6907\n",
      "Epoch 30/50\n",
      "1563/1563 [==============================] - 20s 13ms/step - loss: 0.1924 - accuracy: 0.9311 - val_loss: 1.6480 - val_accuracy: 0.6958\n",
      "Epoch 31/50\n",
      "1563/1563 [==============================] - 21s 13ms/step - loss: 0.1843 - accuracy: 0.9343 - val_loss: 1.7040 - val_accuracy: 0.6892\n",
      "Epoch 32/50\n",
      "1563/1563 [==============================] - 20s 13ms/step - loss: 0.1740 - accuracy: 0.9382 - val_loss: 1.7400 - val_accuracy: 0.6945\n",
      "Epoch 33/50\n",
      "1563/1563 [==============================] - 20s 13ms/step - loss: 0.1705 - accuracy: 0.9390 - val_loss: 1.9015 - val_accuracy: 0.6887\n",
      "Epoch 34/50\n",
      "1563/1563 [==============================] - 20s 13ms/step - loss: 0.1664 - accuracy: 0.9413 - val_loss: 1.9046 - val_accuracy: 0.6778\n",
      "Epoch 35/50\n",
      "1563/1563 [==============================] - 20s 13ms/step - loss: 0.1647 - accuracy: 0.9416 - val_loss: 1.8885 - val_accuracy: 0.6818\n",
      "Epoch 36/50\n",
      "1563/1563 [==============================] - 20s 13ms/step - loss: 0.1639 - accuracy: 0.9429 - val_loss: 1.9372 - val_accuracy: 0.6923\n",
      "Epoch 37/50\n",
      "1563/1563 [==============================] - 20s 13ms/step - loss: 0.1493 - accuracy: 0.9470 - val_loss: 2.0000 - val_accuracy: 0.6704\n",
      "Epoch 38/50\n",
      "1563/1563 [==============================] - 20s 13ms/step - loss: 0.1521 - accuracy: 0.9457 - val_loss: 1.9520 - val_accuracy: 0.6816\n",
      "Epoch 39/50\n",
      "1563/1563 [==============================] - 20s 13ms/step - loss: 0.1443 - accuracy: 0.9488 - val_loss: 2.0935 - val_accuracy: 0.6922\n",
      "Epoch 40/50\n",
      "1563/1563 [==============================] - 20s 13ms/step - loss: 0.1435 - accuracy: 0.9506 - val_loss: 2.0236 - val_accuracy: 0.6800\n",
      "Epoch 41/50\n",
      "1563/1563 [==============================] - 22s 14ms/step - loss: 0.1416 - accuracy: 0.9507 - val_loss: 2.1516 - val_accuracy: 0.6890\n",
      "Epoch 42/50\n",
      "1563/1563 [==============================] - 21s 14ms/step - loss: 0.1407 - accuracy: 0.9515 - val_loss: 2.1218 - val_accuracy: 0.6791\n",
      "Epoch 43/50\n",
      "1563/1563 [==============================] - 21s 14ms/step - loss: 0.1273 - accuracy: 0.9550 - val_loss: 2.1701 - val_accuracy: 0.6844\n",
      "Epoch 44/50\n",
      "1563/1563 [==============================] - 21s 14ms/step - loss: 0.1343 - accuracy: 0.9537 - val_loss: 2.0966 - val_accuracy: 0.6881\n",
      "Epoch 45/50\n",
      "1563/1563 [==============================] - 21s 14ms/step - loss: 0.1214 - accuracy: 0.9571 - val_loss: 2.1307 - val_accuracy: 0.6860\n",
      "Epoch 46/50\n",
      "1563/1563 [==============================] - 21s 14ms/step - loss: 0.1248 - accuracy: 0.9566 - val_loss: 2.1897 - val_accuracy: 0.6892\n",
      "Epoch 47/50\n",
      "1563/1563 [==============================] - 21s 14ms/step - loss: 0.1213 - accuracy: 0.9584 - val_loss: 2.3306 - val_accuracy: 0.6902\n",
      "Epoch 48/50\n",
      "1563/1563 [==============================] - 22s 14ms/step - loss: 0.1260 - accuracy: 0.9562 - val_loss: 2.3199 - val_accuracy: 0.6881\n",
      "Epoch 49/50\n",
      "1563/1563 [==============================] - 22s 14ms/step - loss: 0.1202 - accuracy: 0.9598 - val_loss: 2.4125 - val_accuracy: 0.6846\n",
      "Epoch 50/50\n",
      "1563/1563 [==============================] - 22s 14ms/step - loss: 0.1107 - accuracy: 0.9621 - val_loss: 2.3140 - val_accuracy: 0.6890\n"
     ]
    }
   ],
   "source": [
    "model.compile(  optimizer= 'adam',\n",
    "                loss= tf.keras.losses.SparseCategoricalCrossentropy(from_logits= True),\n",
    "                metrics= ['accuracy'])\n",
    "\n",
    "history = model.fit(train_images, train_labels, epochs= 50, validation_data=(test_images, test_labels), verbose= 1)"
   ]
  },
  {
   "cell_type": "code",
   "execution_count": null,
   "metadata": {},
   "outputs": [
    {
     "name": "stdout",
     "output_type": "stream",
     "text": [
      "313/313 - 1s - loss: 2.3140 - accuracy: 0.6890 - 1s/epoch - 4ms/step\n",
      "2.31 | 0.69\n"
     ]
    }
   ],
   "source": [
    "test_loss, test_acc = model.evaluate(test_images, test_labels, verbose=2)\n",
    "\n",
    "print(f'{test_loss:.2f} | {test_acc:.2f}')"
   ]
  },
  {
   "cell_type": "markdown",
   "metadata": {},
   "source": [
    "# **Data Augmentation**"
   ]
  },
  {
   "cell_type": "code",
   "execution_count": null,
   "metadata": {},
   "outputs": [
    {
     "name": "stdout",
     "output_type": "stream",
     "text": [
      "Epoch 1/50\n",
      "1563/1563 [==============================] - 33s 21ms/step - loss: 1.5958 - accuracy: 0.4523 - val_loss: 1.1953 - val_accuracy: 0.5991\n",
      "Epoch 2/50\n",
      "1563/1563 [==============================] - 34s 21ms/step - loss: 1.3810 - accuracy: 0.5110 - val_loss: 1.0852 - val_accuracy: 0.6289\n",
      "Epoch 3/50\n",
      "1563/1563 [==============================] - 34s 22ms/step - loss: 1.3114 - accuracy: 0.5378 - val_loss: 1.0283 - val_accuracy: 0.6420\n",
      "Epoch 4/50\n",
      "1563/1563 [==============================] - 33s 21ms/step - loss: 1.2788 - accuracy: 0.5489 - val_loss: 1.1228 - val_accuracy: 0.6263\n",
      "Epoch 5/50\n",
      "1563/1563 [==============================] - 33s 21ms/step - loss: 1.2378 - accuracy: 0.5658 - val_loss: 1.0469 - val_accuracy: 0.6442\n",
      "Epoch 6/50\n",
      "1563/1563 [==============================] - 33s 21ms/step - loss: 1.2124 - accuracy: 0.5721 - val_loss: 1.1584 - val_accuracy: 0.6166\n",
      "Epoch 7/50\n",
      "1563/1563 [==============================] - 33s 21ms/step - loss: 1.1862 - accuracy: 0.5796 - val_loss: 0.9768 - val_accuracy: 0.6681\n",
      "Epoch 8/50\n",
      "1563/1563 [==============================] - 33s 21ms/step - loss: 1.1695 - accuracy: 0.5905 - val_loss: 0.9967 - val_accuracy: 0.6633\n",
      "Epoch 9/50\n",
      "1563/1563 [==============================] - 34s 22ms/step - loss: 1.1555 - accuracy: 0.5950 - val_loss: 1.0291 - val_accuracy: 0.6471\n",
      "Epoch 10/50\n",
      "1563/1563 [==============================] - 34s 21ms/step - loss: 1.1436 - accuracy: 0.5985 - val_loss: 0.9797 - val_accuracy: 0.6720\n",
      "Epoch 11/50\n",
      "1563/1563 [==============================] - 34s 22ms/step - loss: 1.1286 - accuracy: 0.6031 - val_loss: 0.9358 - val_accuracy: 0.6724\n",
      "Epoch 12/50\n",
      "1563/1563 [==============================] - 34s 22ms/step - loss: 1.1185 - accuracy: 0.6086 - val_loss: 0.9259 - val_accuracy: 0.6795\n",
      "Epoch 13/50\n",
      "1563/1563 [==============================] - 34s 21ms/step - loss: 1.1085 - accuracy: 0.6114 - val_loss: 0.9191 - val_accuracy: 0.6881\n",
      "Epoch 14/50\n",
      "1563/1563 [==============================] - 34s 22ms/step - loss: 1.0987 - accuracy: 0.6133 - val_loss: 0.9140 - val_accuracy: 0.6862\n",
      "Epoch 15/50\n",
      "1563/1563 [==============================] - 34s 22ms/step - loss: 1.0852 - accuracy: 0.6183 - val_loss: 0.9198 - val_accuracy: 0.6821\n",
      "Epoch 16/50\n",
      "1563/1563 [==============================] - 34s 22ms/step - loss: 1.0786 - accuracy: 0.6238 - val_loss: 0.8714 - val_accuracy: 0.6984\n",
      "Epoch 17/50\n",
      "1563/1563 [==============================] - 34s 22ms/step - loss: 1.0729 - accuracy: 0.6257 - val_loss: 0.8545 - val_accuracy: 0.7002\n",
      "Epoch 18/50\n",
      "1563/1563 [==============================] - 34s 22ms/step - loss: 1.0696 - accuracy: 0.6276 - val_loss: 0.9109 - val_accuracy: 0.6903\n",
      "Epoch 19/50\n",
      "1563/1563 [==============================] - 34s 22ms/step - loss: 1.0648 - accuracy: 0.6266 - val_loss: 0.8578 - val_accuracy: 0.7025\n",
      "Epoch 20/50\n",
      "1563/1563 [==============================] - 34s 22ms/step - loss: 1.0524 - accuracy: 0.6329 - val_loss: 0.8778 - val_accuracy: 0.6974\n",
      "Epoch 21/50\n",
      "1563/1563 [==============================] - 34s 22ms/step - loss: 1.0490 - accuracy: 0.6342 - val_loss: 0.9114 - val_accuracy: 0.6912\n",
      "Epoch 22/50\n",
      "1563/1563 [==============================] - 34s 22ms/step - loss: 1.0396 - accuracy: 0.6362 - val_loss: 0.9131 - val_accuracy: 0.6961\n",
      "Epoch 23/50\n",
      "1563/1563 [==============================] - 34s 22ms/step - loss: 1.0354 - accuracy: 0.6362 - val_loss: 0.8427 - val_accuracy: 0.7091\n",
      "Epoch 24/50\n",
      "1563/1563 [==============================] - 34s 22ms/step - loss: 1.0285 - accuracy: 0.6407 - val_loss: 0.9793 - val_accuracy: 0.6764\n",
      "Epoch 25/50\n",
      "1563/1563 [==============================] - 34s 22ms/step - loss: 1.0323 - accuracy: 0.6397 - val_loss: 0.8650 - val_accuracy: 0.7127\n",
      "Epoch 26/50\n",
      "1563/1563 [==============================] - 34s 21ms/step - loss: 1.0208 - accuracy: 0.6441 - val_loss: 0.8996 - val_accuracy: 0.6898\n",
      "Epoch 27/50\n",
      "1563/1563 [==============================] - 34s 22ms/step - loss: 1.0100 - accuracy: 0.6483 - val_loss: 0.9402 - val_accuracy: 0.6851\n",
      "Epoch 28/50\n",
      "1563/1563 [==============================] - 34s 21ms/step - loss: 1.0085 - accuracy: 0.6461 - val_loss: 0.8351 - val_accuracy: 0.7138\n",
      "Epoch 29/50\n",
      "1563/1563 [==============================] - 34s 22ms/step - loss: 1.0135 - accuracy: 0.6475 - val_loss: 0.8528 - val_accuracy: 0.7139\n",
      "Epoch 30/50\n",
      "1563/1563 [==============================] - 34s 22ms/step - loss: 0.9985 - accuracy: 0.6509 - val_loss: 0.9189 - val_accuracy: 0.6886\n",
      "Epoch 31/50\n",
      "1563/1563 [==============================] - 34s 22ms/step - loss: 1.0014 - accuracy: 0.6491 - val_loss: 0.8776 - val_accuracy: 0.7034\n",
      "Epoch 32/50\n",
      "1563/1563 [==============================] - 34s 22ms/step - loss: 0.9956 - accuracy: 0.6539 - val_loss: 0.9361 - val_accuracy: 0.6884\n",
      "Epoch 33/50\n",
      "1563/1563 [==============================] - 34s 22ms/step - loss: 0.9870 - accuracy: 0.6537 - val_loss: 0.8290 - val_accuracy: 0.7172\n",
      "Epoch 34/50\n",
      "1563/1563 [==============================] - 34s 22ms/step - loss: 0.9945 - accuracy: 0.6532 - val_loss: 0.8781 - val_accuracy: 0.7056\n",
      "Epoch 35/50\n",
      "1563/1563 [==============================] - 34s 22ms/step - loss: 0.9894 - accuracy: 0.6568 - val_loss: 0.7982 - val_accuracy: 0.7273\n",
      "Epoch 36/50\n",
      "1563/1563 [==============================] - 34s 22ms/step - loss: 0.9781 - accuracy: 0.6586 - val_loss: 0.8252 - val_accuracy: 0.7211\n",
      "Epoch 37/50\n",
      "1563/1563 [==============================] - 34s 22ms/step - loss: 0.9830 - accuracy: 0.6601 - val_loss: 0.8638 - val_accuracy: 0.7068\n",
      "Epoch 38/50\n",
      "1563/1563 [==============================] - 34s 22ms/step - loss: 0.9776 - accuracy: 0.6588 - val_loss: 0.8066 - val_accuracy: 0.7224\n",
      "Epoch 39/50\n",
      "1563/1563 [==============================] - 34s 22ms/step - loss: 0.9748 - accuracy: 0.6612 - val_loss: 0.8618 - val_accuracy: 0.7087\n",
      "Epoch 40/50\n",
      "1563/1563 [==============================] - 34s 22ms/step - loss: 0.9733 - accuracy: 0.6599 - val_loss: 0.7685 - val_accuracy: 0.7385\n",
      "Epoch 41/50\n",
      "1563/1563 [==============================] - 34s 22ms/step - loss: 0.9627 - accuracy: 0.6633 - val_loss: 0.8590 - val_accuracy: 0.7152\n",
      "Epoch 42/50\n",
      "1563/1563 [==============================] - 34s 22ms/step - loss: 0.9642 - accuracy: 0.6660 - val_loss: 0.8092 - val_accuracy: 0.7267\n",
      "Epoch 43/50\n",
      "1563/1563 [==============================] - 35s 22ms/step - loss: 0.9613 - accuracy: 0.6651 - val_loss: 0.8167 - val_accuracy: 0.7299\n",
      "Epoch 44/50\n",
      "1563/1563 [==============================] - 34s 22ms/step - loss: 0.9656 - accuracy: 0.6633 - val_loss: 0.8618 - val_accuracy: 0.7136\n",
      "Epoch 45/50\n",
      "1563/1563 [==============================] - 35s 22ms/step - loss: 0.9601 - accuracy: 0.6660 - val_loss: 0.8369 - val_accuracy: 0.7210\n",
      "Epoch 46/50\n",
      "1563/1563 [==============================] - 35s 22ms/step - loss: 0.9526 - accuracy: 0.6684 - val_loss: 0.8456 - val_accuracy: 0.7198\n",
      "Epoch 47/50\n",
      "1563/1563 [==============================] - 34s 22ms/step - loss: 0.9559 - accuracy: 0.6669 - val_loss: 0.9012 - val_accuracy: 0.7024\n",
      "Epoch 48/50\n",
      "1563/1563 [==============================] - 34s 22ms/step - loss: 0.9572 - accuracy: 0.6680 - val_loss: 0.8296 - val_accuracy: 0.7201\n",
      "Epoch 49/50\n",
      "1563/1563 [==============================] - 34s 22ms/step - loss: 0.9507 - accuracy: 0.6679 - val_loss: 0.8657 - val_accuracy: 0.7133\n",
      "Epoch 50/50\n",
      "1563/1563 [==============================] - 34s 22ms/step - loss: 0.9451 - accuracy: 0.6717 - val_loss: 0.9229 - val_accuracy: 0.6898\n"
     ]
    }
   ],
   "source": [
    "datagen = ImageDataGenerator(\n",
    "    rotation_range= 40,\n",
    "    width_shift_range= 0.2,\n",
    "    height_shift_range= 0.2,\n",
    "    shear_range= 0.2,\n",
    "    zoom_range= 0.2,\n",
    "    horizontal_flip= True,\n",
    "    fill_mode= 'nearest'\n",
    ")\n",
    "\n",
    "augmented_history = model.fit(datagen.flow(train_images, train_labels, batch_size=32), epochs= 50, validation_data=(test_images, test_labels), verbose=1)"
   ]
  },
  {
   "cell_type": "markdown",
   "metadata": {},
   "source": [
    "# **Making Predictions**"
   ]
  },
  {
   "cell_type": "code",
   "execution_count": null,
   "metadata": {},
   "outputs": [
    {
     "ename": "NameError",
     "evalue": "name 'model' is not defined",
     "output_type": "error",
     "traceback": [
      "\u001b[0;31m---------------------------------------------------------------------------\u001b[0m",
      "\u001b[0;31mNameError\u001b[0m                                 Traceback (most recent call last)",
      "Cell \u001b[0;32mIn [1], line 1\u001b[0m\n\u001b[0;32m----> 1\u001b[0m predictions \u001b[39m=\u001b[39m model\u001b[39m.\u001b[39mpredict(test_images)\n\u001b[1;32m      3\u001b[0m img_selector \u001b[39m=\u001b[39m \u001b[39m10\u001b[39m\n\u001b[1;32m      5\u001b[0m plt\u001b[39m.\u001b[39mimshow(test_images[img_selector], cmap\u001b[39m=\u001b[39m plt\u001b[39m.\u001b[39mcm\u001b[39m.\u001b[39mbinary)\n",
      "\u001b[0;31mNameError\u001b[0m: name 'model' is not defined"
     ]
    }
   ],
   "source": [
    "predictions = model.predict(test_images)\n",
    "\n",
    "img_selector = 10\n",
    "\n",
    "plt.imshow(test_images[img_selector], cmap= plt.cm.binary)\n",
    "plt.title('Expected: '+ class_names[test_labels[img_selector][0]])\n",
    "plt.xlabel('Predicted: '+ class_names[np.argmax(predictions[img_selector])])\n",
    "\n",
    "plt.show()"
   ]
  },
  {
   "cell_type": "code",
   "execution_count": null,
   "metadata": {},
   "outputs": [],
   "source": []
  }
 ],
 "metadata": {
  "kernelspec": {
   "display_name": "Python 3.10.6 ('work_env')",
   "language": "python",
   "name": "python3"
  },
  "language_info": {
   "codemirror_mode": {
    "name": "ipython",
    "version": 3
   },
   "file_extension": ".py",
   "mimetype": "text/x-python",
   "name": "python",
   "nbconvert_exporter": "python",
   "pygments_lexer": "ipython3",
   "version": "3.10.6"
  },
  "orig_nbformat": 4,
  "vscode": {
   "interpreter": {
    "hash": "72dcb3faa37ade2020a234990edafe6daa1b6e37ccadfe6b1095b7450ad07f30"
   }
  }
 },
 "nbformat": 4,
 "nbformat_minor": 2
}
