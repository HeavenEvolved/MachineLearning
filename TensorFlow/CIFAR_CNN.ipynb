{
 "cells": [
  {
   "cell_type": "markdown",
   "metadata": {},
   "source": [
    "# **Imports**"
   ]
  },
  {
   "cell_type": "code",
   "execution_count": 12,
   "metadata": {},
   "outputs": [],
   "source": [
    "import os\n",
    "os.environ['TF_CPP_MIN_LOG_LEVEL'] = '2'\n",
    "\n",
    "import tensorflow as tf\n",
    "\n",
    "from tensorflow.keras import datasets, layers, models # type: ignore\n",
    "\n",
    "import matplotlib.pyplot as plt\n",
    "\n",
    "import numpy as np\n",
    "\n",
    "from keras.preprocessing import image\n",
    "from keras.preprocessing.image import ImageDataGenerator"
   ]
  },
  {
   "cell_type": "markdown",
   "metadata": {},
   "source": [
    "## **Importing CIFAR Dataset**"
   ]
  },
  {
   "cell_type": "code",
   "execution_count": 13,
   "metadata": {},
   "outputs": [],
   "source": [
    "# This has 60,000 32x32 color images with 10 classes and 6000 images for each class.\n",
    "\n",
    "(train_images, train_labels), (test_images, test_labels) = datasets.cifar10.load_data()"
   ]
  },
  {
   "cell_type": "markdown",
   "metadata": {},
   "source": [
    "### **Normalizing Data**"
   ]
  },
  {
   "cell_type": "code",
   "execution_count": 14,
   "metadata": {},
   "outputs": [],
   "source": [
    "train_images = train_images / 255.0\n",
    "\n",
    "test_images = test_images / 255.0"
   ]
  },
  {
   "cell_type": "markdown",
   "metadata": {},
   "source": [
    "## **Class Names**"
   ]
  },
  {
   "cell_type": "code",
   "execution_count": 15,
   "metadata": {},
   "outputs": [],
   "source": [
    "class_names = ['airplane', 'automobile', 'bird', 'cat', 'deer', 'dog', 'frog', 'horse', 'ship', 'truck']"
   ]
  },
  {
   "cell_type": "markdown",
   "metadata": {},
   "source": [
    "## **Show Image**"
   ]
  },
  {
   "cell_type": "code",
   "execution_count": 16,
   "metadata": {},
   "outputs": [
    {
     "data": {
      "image/png": "[encoded data removed]",
      "text/plain": [
       "<Figure size 640x480 with 1 Axes>"
      ]
     },
     "metadata": {},
     "output_type": "display_data"
    }
   ],
   "source": [
    "img_selector = 0\n",
    "\n",
    "plt.imshow(test_images[img_selector], cmap= plt.cm.binary)\n",
    "\n",
    "plt.xlabel(class_names[test_labels[img_selector][0]])\n",
    "\n",
    "plt.show()"
   ]
  },
  {
   "cell_type": "markdown",
   "metadata": {},
   "source": [
    "# **Building Model**"
   ]
  },
  {
   "cell_type": "code",
   "execution_count": 17,
   "metadata": {},
   "outputs": [],
   "source": [
    "model = models.Sequential()"
   ]
  },
  {
   "cell_type": "markdown",
   "metadata": {},
   "source": [
    "## **Convoluted Layers**"
   ]
  },
  {
   "cell_type": "code",
   "execution_count": 18,
   "metadata": {},
   "outputs": [],
   "source": [
    "model.add(layers.Conv2D(30, (3, 3), activation= 'relu', input_shape= (32, 32, 3)))\n",
    "model.add(layers.MaxPooling2D((2, 2)))\n",
    "\n",
    "model.add(layers.Conv2D(60, (3, 3), activation= 'relu'))\n",
    "model.add(layers.MaxPooling2D((2, 2)))\n",
    "\n",
    "model.add(layers.Conv2D(60, (3, 3), activation= 'relu'))"
   ]
  },
  {
   "cell_type": "code",
   "execution_count": 19,
   "metadata": {},
   "outputs": [
    {
     "name": "stdout",
     "output_type": "stream",
     "text": [
      "Model: \"sequential_1\"\n",
      "_________________________________________________________________\n",
      " Layer (type)                Output Shape              Param #   \n",
      "=================================================================\n",
      " conv2d_3 (Conv2D)           (None, 30, 30, 30)        840       \n",
      "                                                                 \n",
      " max_pooling2d_2 (MaxPooling  (None, 15, 15, 30)       0         \n",
      " 2D)                                                             \n",
      "                                                                 \n",
      " conv2d_4 (Conv2D)           (None, 13, 13, 60)        16260     \n",
      "                                                                 \n",
      " max_pooling2d_3 (MaxPooling  (None, 6, 6, 60)         0         \n",
      " 2D)                                                             \n",
      "                                                                 \n",
      " conv2d_5 (Conv2D)           (None, 4, 4, 60)          32460     \n",
      "                                                                 \n",
      "=================================================================\n",
      "Total params: 49,560\n",
      "Trainable params: 49,560\n",
      "Non-trainable params: 0\n",
      "_________________________________________________________________\n"
     ]
    }
   ],
   "source": [
    "model.summary()"
   ]
  },
  {
   "cell_type": "markdown",
   "metadata": {},
   "source": [
    "## **Dense Layers**"
   ]
  },
  {
   "cell_type": "code",
   "execution_count": 20,
   "metadata": {},
   "outputs": [],
   "source": [
    "model.add(layers.Flatten())\n",
    "model.add(layers.Dense(100, activation= 'relu'))\n",
    "model.add(layers.Dense(50, activation= 'relu'))\n",
    "model.add(layers.Dense(10))"
   ]
  },
  {
   "cell_type": "code",
   "execution_count": 21,
   "metadata": {},
   "outputs": [
    {
     "name": "stdout",
     "output_type": "stream",
     "text": [
      "Model: \"sequential_1\"\n",
      "_________________________________________________________________\n",
      " Layer (type)                Output Shape              Param #   \n",
      "=================================================================\n",
      " conv2d_3 (Conv2D)           (None, 30, 30, 30)        840       \n",
      "                                                                 \n",
      " max_pooling2d_2 (MaxPooling  (None, 15, 15, 30)       0         \n",
      " 2D)                                                             \n",
      "                                                                 \n",
      " conv2d_4 (Conv2D)           (None, 13, 13, 60)        16260     \n",
      "                                                                 \n",
      " max_pooling2d_3 (MaxPooling  (None, 6, 6, 60)         0         \n",
      " 2D)                                                             \n",
      "                                                                 \n",
      " conv2d_5 (Conv2D)           (None, 4, 4, 60)          32460     \n",
      "                                                                 \n",
      " flatten_1 (Flatten)         (None, 960)               0         \n",
      "                                                                 \n",
      " dense_3 (Dense)             (None, 100)               96100     \n",
      "                                                                 \n",
      " dense_4 (Dense)             (None, 58)                5858      \n",
      "                                                                 \n",
      " dense_5 (Dense)             (None, 10)                590       \n",
      "                                                                 \n",
      "=================================================================\n",
      "Total params: 152,108\n",
      "Trainable params: 152,108\n",
      "Non-trainable params: 0\n",
      "_________________________________________________________________\n"
     ]
    }
   ],
   "source": [
    "model.summary()"
   ]
  },
  {
   "cell_type": "markdown",
   "metadata": {},
   "source": [
    "# **Compile Model**"
   ]
  },
  {
   "cell_type": "code",
   "execution_count": 22,
   "metadata": {},
   "outputs": [
    {
     "name": "stdout",
     "output_type": "stream",
     "text": [
      "Epoch 1/10\n",
      "1563/1563 [==============================] - 21s 13ms/step - loss: 1.5671 - accuracy: 0.4219 - val_loss: 1.3785 - val_accuracy: 0.5079\n",
      "Epoch 2/10\n",
      "1563/1563 [==============================] - 21s 13ms/step - loss: 1.1923 - accuracy: 0.5764 - val_loss: 1.1764 - val_accuracy: 0.5852\n",
      "Epoch 3/10\n",
      "1563/1563 [==============================] - 20s 13ms/step - loss: 1.0352 - accuracy: 0.6337 - val_loss: 1.0403 - val_accuracy: 0.6324\n",
      "Epoch 4/10\n",
      "1563/1563 [==============================] - 20s 13ms/step - loss: 0.9340 - accuracy: 0.6704 - val_loss: 0.9539 - val_accuracy: 0.6663\n",
      "Epoch 5/10\n",
      "1236/1563 [======================>.......] - ETA: 4s - loss: 0.8501 - accuracy: 0.7008"
     ]
    },
    {
     "ename": "KeyboardInterrupt",
     "evalue": "",
     "output_type": "error",
     "traceback": [
      "\u001b[0;31m---------------------------------------------------------------------------\u001b[0m",
      "\u001b[0;31mKeyboardInterrupt\u001b[0m                         Traceback (most recent call last)",
      "Cell \u001b[0;32mIn [22], line 5\u001b[0m\n\u001b[1;32m      1\u001b[0m model\u001b[39m.\u001b[39mcompile(  optimizer\u001b[39m=\u001b[39m \u001b[39m'\u001b[39m\u001b[39madam\u001b[39m\u001b[39m'\u001b[39m,\n\u001b[1;32m      2\u001b[0m                 loss\u001b[39m=\u001b[39m tf\u001b[39m.\u001b[39mkeras\u001b[39m.\u001b[39mlosses\u001b[39m.\u001b[39mSparseCategoricalCrossentropy(from_logits\u001b[39m=\u001b[39m \u001b[39mTrue\u001b[39;00m),\n\u001b[1;32m      3\u001b[0m                 metrics\u001b[39m=\u001b[39m [\u001b[39m'\u001b[39m\u001b[39maccuracy\u001b[39m\u001b[39m'\u001b[39m])\n\u001b[0;32m----> 5\u001b[0m history \u001b[39m=\u001b[39m model\u001b[39m.\u001b[39;49mfit(train_images, train_labels, epochs\u001b[39m=\u001b[39;49m \u001b[39m10\u001b[39;49m, validation_data\u001b[39m=\u001b[39;49m(test_images, test_labels), verbose\u001b[39m=\u001b[39;49m \u001b[39m1\u001b[39;49m)\n",
      "File \u001b[0;32m~/Documents/VirtualEnvs/work_env/lib/python3.10/site-packages/keras/utils/traceback_utils.py:64\u001b[0m, in \u001b[0;36mfilter_traceback.<locals>.error_handler\u001b[0;34m(*args, **kwargs)\u001b[0m\n\u001b[1;32m     62\u001b[0m filtered_tb \u001b[39m=\u001b[39m \u001b[39mNone\u001b[39;00m\n\u001b[1;32m     63\u001b[0m \u001b[39mtry\u001b[39;00m:\n\u001b[0;32m---> 64\u001b[0m   \u001b[39mreturn\u001b[39;00m fn(\u001b[39m*\u001b[39;49margs, \u001b[39m*\u001b[39;49m\u001b[39m*\u001b[39;49mkwargs)\n\u001b[1;32m     65\u001b[0m \u001b[39mexcept\u001b[39;00m \u001b[39mException\u001b[39;00m \u001b[39mas\u001b[39;00m e:  \u001b[39m# pylint: disable=broad-except\u001b[39;00m\n\u001b[1;32m     66\u001b[0m   filtered_tb \u001b[39m=\u001b[39m _process_traceback_frames(e\u001b[39m.\u001b[39m__traceback__)\n",
      "File \u001b[0;32m~/Documents/VirtualEnvs/work_env/lib/python3.10/site-packages/keras/engine/training.py:1409\u001b[0m, in \u001b[0;36mModel.fit\u001b[0;34m(self, x, y, batch_size, epochs, verbose, callbacks, validation_split, validation_data, shuffle, class_weight, sample_weight, initial_epoch, steps_per_epoch, validation_steps, validation_batch_size, validation_freq, max_queue_size, workers, use_multiprocessing)\u001b[0m\n\u001b[1;32m   1402\u001b[0m \u001b[39mwith\u001b[39;00m tf\u001b[39m.\u001b[39mprofiler\u001b[39m.\u001b[39mexperimental\u001b[39m.\u001b[39mTrace(\n\u001b[1;32m   1403\u001b[0m     \u001b[39m'\u001b[39m\u001b[39mtrain\u001b[39m\u001b[39m'\u001b[39m,\n\u001b[1;32m   1404\u001b[0m     epoch_num\u001b[39m=\u001b[39mepoch,\n\u001b[1;32m   1405\u001b[0m     step_num\u001b[39m=\u001b[39mstep,\n\u001b[1;32m   1406\u001b[0m     batch_size\u001b[39m=\u001b[39mbatch_size,\n\u001b[1;32m   1407\u001b[0m     _r\u001b[39m=\u001b[39m\u001b[39m1\u001b[39m):\n\u001b[1;32m   1408\u001b[0m   callbacks\u001b[39m.\u001b[39mon_train_batch_begin(step)\n\u001b[0;32m-> 1409\u001b[0m   tmp_logs \u001b[39m=\u001b[39m \u001b[39mself\u001b[39;49m\u001b[39m.\u001b[39;49mtrain_function(iterator)\n\u001b[1;32m   1410\u001b[0m   \u001b[39mif\u001b[39;00m data_handler\u001b[39m.\u001b[39mshould_sync:\n\u001b[1;32m   1411\u001b[0m     context\u001b[39m.\u001b[39masync_wait()\n",
      "File \u001b[0;32m~/Documents/VirtualEnvs/work_env/lib/python3.10/site-packages/tensorflow/python/util/traceback_utils.py:150\u001b[0m, in \u001b[0;36mfilter_traceback.<locals>.error_handler\u001b[0;34m(*args, **kwargs)\u001b[0m\n\u001b[1;32m    148\u001b[0m filtered_tb \u001b[39m=\u001b[39m \u001b[39mNone\u001b[39;00m\n\u001b[1;32m    149\u001b[0m \u001b[39mtry\u001b[39;00m:\n\u001b[0;32m--> 150\u001b[0m   \u001b[39mreturn\u001b[39;00m fn(\u001b[39m*\u001b[39;49margs, \u001b[39m*\u001b[39;49m\u001b[39m*\u001b[39;49mkwargs)\n\u001b[1;32m    151\u001b[0m \u001b[39mexcept\u001b[39;00m \u001b[39mException\u001b[39;00m \u001b[39mas\u001b[39;00m e:\n\u001b[1;32m    152\u001b[0m   filtered_tb \u001b[39m=\u001b[39m _process_traceback_frames(e\u001b[39m.\u001b[39m__traceback__)\n",
      "File \u001b[0;32m~/Documents/VirtualEnvs/work_env/lib/python3.10/site-packages/tensorflow/python/eager/def_function.py:915\u001b[0m, in \u001b[0;36mFunction.__call__\u001b[0;34m(self, *args, **kwds)\u001b[0m\n\u001b[1;32m    912\u001b[0m compiler \u001b[39m=\u001b[39m \u001b[39m\"\u001b[39m\u001b[39mxla\u001b[39m\u001b[39m\"\u001b[39m \u001b[39mif\u001b[39;00m \u001b[39mself\u001b[39m\u001b[39m.\u001b[39m_jit_compile \u001b[39melse\u001b[39;00m \u001b[39m\"\u001b[39m\u001b[39mnonXla\u001b[39m\u001b[39m\"\u001b[39m\n\u001b[1;32m    914\u001b[0m \u001b[39mwith\u001b[39;00m OptionalXlaContext(\u001b[39mself\u001b[39m\u001b[39m.\u001b[39m_jit_compile):\n\u001b[0;32m--> 915\u001b[0m   result \u001b[39m=\u001b[39m \u001b[39mself\u001b[39;49m\u001b[39m.\u001b[39;49m_call(\u001b[39m*\u001b[39;49margs, \u001b[39m*\u001b[39;49m\u001b[39m*\u001b[39;49mkwds)\n\u001b[1;32m    917\u001b[0m new_tracing_count \u001b[39m=\u001b[39m \u001b[39mself\u001b[39m\u001b[39m.\u001b[39mexperimental_get_tracing_count()\n\u001b[1;32m    918\u001b[0m without_tracing \u001b[39m=\u001b[39m (tracing_count \u001b[39m==\u001b[39m new_tracing_count)\n",
      "File \u001b[0;32m~/Documents/VirtualEnvs/work_env/lib/python3.10/site-packages/tensorflow/python/eager/def_function.py:947\u001b[0m, in \u001b[0;36mFunction._call\u001b[0;34m(self, *args, **kwds)\u001b[0m\n\u001b[1;32m    944\u001b[0m   \u001b[39mself\u001b[39m\u001b[39m.\u001b[39m_lock\u001b[39m.\u001b[39mrelease()\n\u001b[1;32m    945\u001b[0m   \u001b[39m# In this case we have created variables on the first call, so we run the\u001b[39;00m\n\u001b[1;32m    946\u001b[0m   \u001b[39m# defunned version which is guaranteed to never create variables.\u001b[39;00m\n\u001b[0;32m--> 947\u001b[0m   \u001b[39mreturn\u001b[39;00m \u001b[39mself\u001b[39;49m\u001b[39m.\u001b[39;49m_stateless_fn(\u001b[39m*\u001b[39;49margs, \u001b[39m*\u001b[39;49m\u001b[39m*\u001b[39;49mkwds)  \u001b[39m# pylint: disable=not-callable\u001b[39;00m\n\u001b[1;32m    948\u001b[0m \u001b[39melif\u001b[39;00m \u001b[39mself\u001b[39m\u001b[39m.\u001b[39m_stateful_fn \u001b[39mis\u001b[39;00m \u001b[39mnot\u001b[39;00m \u001b[39mNone\u001b[39;00m:\n\u001b[1;32m    949\u001b[0m   \u001b[39m# Release the lock early so that multiple threads can perform the call\u001b[39;00m\n\u001b[1;32m    950\u001b[0m   \u001b[39m# in parallel.\u001b[39;00m\n\u001b[1;32m    951\u001b[0m   \u001b[39mself\u001b[39m\u001b[39m.\u001b[39m_lock\u001b[39m.\u001b[39mrelease()\n",
      "File \u001b[0;32m~/Documents/VirtualEnvs/work_env/lib/python3.10/site-packages/tensorflow/python/eager/function.py:2453\u001b[0m, in \u001b[0;36mFunction.__call__\u001b[0;34m(self, *args, **kwargs)\u001b[0m\n\u001b[1;32m   2450\u001b[0m \u001b[39mwith\u001b[39;00m \u001b[39mself\u001b[39m\u001b[39m.\u001b[39m_lock:\n\u001b[1;32m   2451\u001b[0m   (graph_function,\n\u001b[1;32m   2452\u001b[0m    filtered_flat_args) \u001b[39m=\u001b[39m \u001b[39mself\u001b[39m\u001b[39m.\u001b[39m_maybe_define_function(args, kwargs)\n\u001b[0;32m-> 2453\u001b[0m \u001b[39mreturn\u001b[39;00m graph_function\u001b[39m.\u001b[39;49m_call_flat(\n\u001b[1;32m   2454\u001b[0m     filtered_flat_args, captured_inputs\u001b[39m=\u001b[39;49mgraph_function\u001b[39m.\u001b[39;49mcaptured_inputs)\n",
      "File \u001b[0;32m~/Documents/VirtualEnvs/work_env/lib/python3.10/site-packages/tensorflow/python/eager/function.py:1860\u001b[0m, in \u001b[0;36mConcreteFunction._call_flat\u001b[0;34m(self, args, captured_inputs, cancellation_manager)\u001b[0m\n\u001b[1;32m   1856\u001b[0m possible_gradient_type \u001b[39m=\u001b[39m gradients_util\u001b[39m.\u001b[39mPossibleTapeGradientTypes(args)\n\u001b[1;32m   1857\u001b[0m \u001b[39mif\u001b[39;00m (possible_gradient_type \u001b[39m==\u001b[39m gradients_util\u001b[39m.\u001b[39mPOSSIBLE_GRADIENT_TYPES_NONE\n\u001b[1;32m   1858\u001b[0m     \u001b[39mand\u001b[39;00m executing_eagerly):\n\u001b[1;32m   1859\u001b[0m   \u001b[39m# No tape is watching; skip to running the function.\u001b[39;00m\n\u001b[0;32m-> 1860\u001b[0m   \u001b[39mreturn\u001b[39;00m \u001b[39mself\u001b[39m\u001b[39m.\u001b[39m_build_call_outputs(\u001b[39mself\u001b[39;49m\u001b[39m.\u001b[39;49m_inference_function\u001b[39m.\u001b[39;49mcall(\n\u001b[1;32m   1861\u001b[0m       ctx, args, cancellation_manager\u001b[39m=\u001b[39;49mcancellation_manager))\n\u001b[1;32m   1862\u001b[0m forward_backward \u001b[39m=\u001b[39m \u001b[39mself\u001b[39m\u001b[39m.\u001b[39m_select_forward_and_backward_functions(\n\u001b[1;32m   1863\u001b[0m     args,\n\u001b[1;32m   1864\u001b[0m     possible_gradient_type,\n\u001b[1;32m   1865\u001b[0m     executing_eagerly)\n\u001b[1;32m   1866\u001b[0m forward_function, args_with_tangents \u001b[39m=\u001b[39m forward_backward\u001b[39m.\u001b[39mforward()\n",
      "File \u001b[0;32m~/Documents/VirtualEnvs/work_env/lib/python3.10/site-packages/tensorflow/python/eager/function.py:497\u001b[0m, in \u001b[0;36m_EagerDefinedFunction.call\u001b[0;34m(self, ctx, args, cancellation_manager)\u001b[0m\n\u001b[1;32m    495\u001b[0m \u001b[39mwith\u001b[39;00m _InterpolateFunctionError(\u001b[39mself\u001b[39m):\n\u001b[1;32m    496\u001b[0m   \u001b[39mif\u001b[39;00m cancellation_manager \u001b[39mis\u001b[39;00m \u001b[39mNone\u001b[39;00m:\n\u001b[0;32m--> 497\u001b[0m     outputs \u001b[39m=\u001b[39m execute\u001b[39m.\u001b[39;49mexecute(\n\u001b[1;32m    498\u001b[0m         \u001b[39mstr\u001b[39;49m(\u001b[39mself\u001b[39;49m\u001b[39m.\u001b[39;49msignature\u001b[39m.\u001b[39;49mname),\n\u001b[1;32m    499\u001b[0m         num_outputs\u001b[39m=\u001b[39;49m\u001b[39mself\u001b[39;49m\u001b[39m.\u001b[39;49m_num_outputs,\n\u001b[1;32m    500\u001b[0m         inputs\u001b[39m=\u001b[39;49margs,\n\u001b[1;32m    501\u001b[0m         attrs\u001b[39m=\u001b[39;49mattrs,\n\u001b[1;32m    502\u001b[0m         ctx\u001b[39m=\u001b[39;49mctx)\n\u001b[1;32m    503\u001b[0m   \u001b[39melse\u001b[39;00m:\n\u001b[1;32m    504\u001b[0m     outputs \u001b[39m=\u001b[39m execute\u001b[39m.\u001b[39mexecute_with_cancellation(\n\u001b[1;32m    505\u001b[0m         \u001b[39mstr\u001b[39m(\u001b[39mself\u001b[39m\u001b[39m.\u001b[39msignature\u001b[39m.\u001b[39mname),\n\u001b[1;32m    506\u001b[0m         num_outputs\u001b[39m=\u001b[39m\u001b[39mself\u001b[39m\u001b[39m.\u001b[39m_num_outputs,\n\u001b[0;32m   (...)\u001b[0m\n\u001b[1;32m    509\u001b[0m         ctx\u001b[39m=\u001b[39mctx,\n\u001b[1;32m    510\u001b[0m         cancellation_manager\u001b[39m=\u001b[39mcancellation_manager)\n",
      "File \u001b[0;32m~/Documents/VirtualEnvs/work_env/lib/python3.10/site-packages/tensorflow/python/eager/execute.py:54\u001b[0m, in \u001b[0;36mquick_execute\u001b[0;34m(op_name, num_outputs, inputs, attrs, ctx, name)\u001b[0m\n\u001b[1;32m     52\u001b[0m \u001b[39mtry\u001b[39;00m:\n\u001b[1;32m     53\u001b[0m   ctx\u001b[39m.\u001b[39mensure_initialized()\n\u001b[0;32m---> 54\u001b[0m   tensors \u001b[39m=\u001b[39m pywrap_tfe\u001b[39m.\u001b[39;49mTFE_Py_Execute(ctx\u001b[39m.\u001b[39;49m_handle, device_name, op_name,\n\u001b[1;32m     55\u001b[0m                                       inputs, attrs, num_outputs)\n\u001b[1;32m     56\u001b[0m \u001b[39mexcept\u001b[39;00m core\u001b[39m.\u001b[39m_NotOkStatusException \u001b[39mas\u001b[39;00m e:\n\u001b[1;32m     57\u001b[0m   \u001b[39mif\u001b[39;00m name \u001b[39mis\u001b[39;00m \u001b[39mnot\u001b[39;00m \u001b[39mNone\u001b[39;00m:\n",
      "\u001b[0;31mKeyboardInterrupt\u001b[0m: "
     ]
    }
   ],
   "source": [
    "model.compile(  optimizer= 'adam',\n",
    "                loss= tf.keras.losses.SparseCategoricalCrossentropy(from_logits= True),\n",
    "                metrics= ['accuracy'])\n",
    "\n",
    "history = model.fit(train_images, train_labels, epochs= 50, validation_data=(test_images, test_labels), verbose= 1)"
   ]
  },
  {
   "cell_type": "code",
   "execution_count": null,
   "metadata": {},
   "outputs": [
    {
     "name": "stdout",
     "output_type": "stream",
     "text": [
      "313/313 - 1s - loss: 1.7996 - accuracy: 0.6757 - 1s/epoch - 4ms/step\n",
      "1.80 | 0.68\n"
     ]
    }
   ],
   "source": [
    "test_loss, test_acc = model.evaluate(test_images, test_labels, verbose=2)\n",
    "\n",
    "print(f'{test_loss:.2f} | {test_acc:.2f}')"
   ]
  },
  {
   "cell_type": "markdown",
   "metadata": {},
   "source": [
    "# **Data Augmentation**"
   ]
  },
  {
   "cell_type": "code",
   "execution_count": null,
   "metadata": {},
   "outputs": [
    {
     "name": "stdout",
     "output_type": "stream",
     "text": [
      "Epoch 1/50\n",
      "1563/1563 [==============================] - 30s 19ms/step - loss: 1.5887 - accuracy: 0.4583 - val_loss: 1.2329 - val_accuracy: 0.5883\n",
      "Epoch 2/50\n",
      "1563/1563 [==============================] - 29s 19ms/step - loss: 1.3971 - accuracy: 0.5042 - val_loss: 1.0742 - val_accuracy: 0.6338\n",
      "Epoch 3/50\n",
      "1563/1563 [==============================] - 29s 19ms/step - loss: 1.3341 - accuracy: 0.5303 - val_loss: 1.1301 - val_accuracy: 0.6185\n",
      "Epoch 4/50\n",
      "1563/1563 [==============================] - 30s 19ms/step - loss: 1.2856 - accuracy: 0.5454 - val_loss: 1.0949 - val_accuracy: 0.6249\n",
      "Epoch 5/50\n",
      "1563/1563 [==============================] - 30s 19ms/step - loss: 1.2567 - accuracy: 0.5565 - val_loss: 1.0581 - val_accuracy: 0.6394\n",
      "Epoch 6/50\n",
      "1563/1563 [==============================] - 30s 19ms/step - loss: 1.2383 - accuracy: 0.5650 - val_loss: 1.0146 - val_accuracy: 0.6480\n",
      "Epoch 7/50\n",
      "1563/1563 [==============================] - 31s 20ms/step - loss: 1.2124 - accuracy: 0.5699 - val_loss: 0.9960 - val_accuracy: 0.6625\n",
      "Epoch 8/50\n",
      "1563/1563 [==============================] - 31s 20ms/step - loss: 1.1939 - accuracy: 0.5785 - val_loss: 1.0030 - val_accuracy: 0.6496\n",
      "Epoch 9/50\n",
      "1563/1563 [==============================] - 31s 20ms/step - loss: 1.1776 - accuracy: 0.5863 - val_loss: 1.0032 - val_accuracy: 0.6547\n",
      "Epoch 10/50\n",
      "1563/1563 [==============================] - 31s 20ms/step - loss: 1.1708 - accuracy: 0.5881 - val_loss: 0.8903 - val_accuracy: 0.6932\n",
      "Epoch 11/50\n",
      "1563/1563 [==============================] - 31s 20ms/step - loss: 1.1477 - accuracy: 0.5968 - val_loss: 0.9700 - val_accuracy: 0.6667\n",
      "Epoch 12/50\n",
      "1563/1563 [==============================] - 31s 20ms/step - loss: 1.1428 - accuracy: 0.5991 - val_loss: 0.9912 - val_accuracy: 0.6505\n",
      "Epoch 13/50\n",
      "1563/1563 [==============================] - 31s 20ms/step - loss: 1.1312 - accuracy: 0.6046 - val_loss: 0.9430 - val_accuracy: 0.6798\n",
      "Epoch 14/50\n",
      "1563/1563 [==============================] - 31s 20ms/step - loss: 1.1328 - accuracy: 0.6027 - val_loss: 0.9413 - val_accuracy: 0.6677\n",
      "Epoch 15/50\n",
      "1563/1563 [==============================] - 31s 20ms/step - loss: 1.1219 - accuracy: 0.6069 - val_loss: 0.9279 - val_accuracy: 0.6819\n",
      "Epoch 16/50\n",
      "1563/1563 [==============================] - 32s 21ms/step - loss: 1.1101 - accuracy: 0.6085 - val_loss: 0.9116 - val_accuracy: 0.6852\n",
      "Epoch 17/50\n",
      "1563/1563 [==============================] - 31s 20ms/step - loss: 1.0980 - accuracy: 0.6150 - val_loss: 0.9140 - val_accuracy: 0.6850\n",
      "Epoch 18/50\n",
      "1563/1563 [==============================] - 32s 20ms/step - loss: 1.1007 - accuracy: 0.6130 - val_loss: 0.9324 - val_accuracy: 0.6773\n",
      "Epoch 19/50\n",
      "1563/1563 [==============================] - 32s 20ms/step - loss: 1.0918 - accuracy: 0.6163 - val_loss: 0.9034 - val_accuracy: 0.6869\n",
      "Epoch 20/50\n",
      "1563/1563 [==============================] - 31s 20ms/step - loss: 1.0924 - accuracy: 0.6166 - val_loss: 0.9414 - val_accuracy: 0.6833\n",
      "Epoch 21/50\n",
      "1563/1563 [==============================] - 31s 20ms/step - loss: 1.0928 - accuracy: 0.6186 - val_loss: 0.9667 - val_accuracy: 0.6612\n",
      "Epoch 22/50\n",
      "1563/1563 [==============================] - 31s 20ms/step - loss: 1.0835 - accuracy: 0.6198 - val_loss: 0.8975 - val_accuracy: 0.6872\n",
      "Epoch 23/50\n",
      "1563/1563 [==============================] - 31s 20ms/step - loss: 1.0720 - accuracy: 0.6228 - val_loss: 0.9065 - val_accuracy: 0.6877\n",
      "Epoch 24/50\n",
      "1563/1563 [==============================] - 33s 21ms/step - loss: 1.0671 - accuracy: 0.6248 - val_loss: 0.9449 - val_accuracy: 0.6813\n",
      "Epoch 25/50\n",
      "1563/1563 [==============================] - 32s 21ms/step - loss: 1.0694 - accuracy: 0.6233 - val_loss: 0.9414 - val_accuracy: 0.6780\n",
      "Epoch 26/50\n",
      "1563/1563 [==============================] - 33s 21ms/step - loss: 1.0628 - accuracy: 0.6263 - val_loss: 0.9314 - val_accuracy: 0.6821\n",
      "Epoch 27/50\n",
      "1563/1563 [==============================] - 32s 21ms/step - loss: 1.0597 - accuracy: 0.6302 - val_loss: 0.9431 - val_accuracy: 0.6755\n",
      "Epoch 28/50\n",
      "1563/1563 [==============================] - 32s 21ms/step - loss: 1.0546 - accuracy: 0.6291 - val_loss: 0.8892 - val_accuracy: 0.6988\n",
      "Epoch 29/50\n",
      "1563/1563 [==============================] - 33s 21ms/step - loss: 1.0527 - accuracy: 0.6323 - val_loss: 0.8750 - val_accuracy: 0.6998\n",
      "Epoch 30/50\n",
      "1563/1563 [==============================] - 33s 21ms/step - loss: 1.0463 - accuracy: 0.6335 - val_loss: 0.8863 - val_accuracy: 0.7022\n",
      "Epoch 31/50\n",
      "1563/1563 [==============================] - 32s 21ms/step - loss: 1.0422 - accuracy: 0.6315 - val_loss: 0.8879 - val_accuracy: 0.6989\n",
      "Epoch 32/50\n",
      "1563/1563 [==============================] - 33s 21ms/step - loss: 1.0455 - accuracy: 0.6336 - val_loss: 0.8845 - val_accuracy: 0.6974\n",
      "Epoch 33/50\n",
      "1563/1563 [==============================] - 33s 21ms/step - loss: 1.0347 - accuracy: 0.6380 - val_loss: 0.9067 - val_accuracy: 0.6891\n",
      "Epoch 34/50\n",
      "1563/1563 [==============================] - 33s 21ms/step - loss: 1.0321 - accuracy: 0.6382 - val_loss: 0.8462 - val_accuracy: 0.7147\n",
      "Epoch 35/50\n",
      "1563/1563 [==============================] - 32s 21ms/step - loss: 1.0349 - accuracy: 0.6362 - val_loss: 0.9165 - val_accuracy: 0.6820\n",
      "Epoch 36/50\n",
      "1563/1563 [==============================] - 33s 21ms/step - loss: 1.0317 - accuracy: 0.6392 - val_loss: 0.8970 - val_accuracy: 0.6870\n",
      "Epoch 37/50\n",
      "1563/1563 [==============================] - 33s 21ms/step - loss: 1.0273 - accuracy: 0.6407 - val_loss: 0.8705 - val_accuracy: 0.7012\n",
      "Epoch 38/50\n",
      "1563/1563 [==============================] - 33s 21ms/step - loss: 1.0263 - accuracy: 0.6431 - val_loss: 0.9102 - val_accuracy: 0.6934\n",
      "Epoch 39/50\n",
      "1563/1563 [==============================] - 33s 21ms/step - loss: 1.0198 - accuracy: 0.6437 - val_loss: 0.8723 - val_accuracy: 0.7059\n",
      "Epoch 40/50\n",
      "1563/1563 [==============================] - 33s 21ms/step - loss: 1.0228 - accuracy: 0.6430 - val_loss: 0.8177 - val_accuracy: 0.7149\n",
      "Epoch 41/50\n",
      "1563/1563 [==============================] - 33s 21ms/step - loss: 1.0213 - accuracy: 0.6434 - val_loss: 0.9376 - val_accuracy: 0.6813\n",
      "Epoch 42/50\n",
      "1563/1563 [==============================] - 33s 21ms/step - loss: 1.0086 - accuracy: 0.6448 - val_loss: 0.8741 - val_accuracy: 0.7092\n",
      "Epoch 43/50\n",
      "1563/1563 [==============================] - 33s 21ms/step - loss: 1.0115 - accuracy: 0.6472 - val_loss: 0.9172 - val_accuracy: 0.6890\n",
      "Epoch 44/50\n",
      "1563/1563 [==============================] - 33s 21ms/step - loss: 1.0085 - accuracy: 0.6474 - val_loss: 0.8748 - val_accuracy: 0.7047\n",
      "Epoch 45/50\n",
      "1563/1563 [==============================] - 33s 21ms/step - loss: 1.0084 - accuracy: 0.6447 - val_loss: 0.9476 - val_accuracy: 0.6845\n",
      "Epoch 46/50\n",
      "1563/1563 [==============================] - 33s 21ms/step - loss: 1.0028 - accuracy: 0.6500 - val_loss: 0.7963 - val_accuracy: 0.7270\n",
      "Epoch 47/50\n",
      "1563/1563 [==============================] - 36s 23ms/step - loss: 1.0040 - accuracy: 0.6485 - val_loss: 0.8644 - val_accuracy: 0.7091\n",
      "Epoch 48/50\n",
      "1563/1563 [==============================] - 36s 23ms/step - loss: 1.0083 - accuracy: 0.6462 - val_loss: 0.9085 - val_accuracy: 0.6946\n",
      "Epoch 49/50\n",
      "1563/1563 [==============================] - 36s 23ms/step - loss: 1.0023 - accuracy: 0.6479 - val_loss: 0.8768 - val_accuracy: 0.7047\n",
      "Epoch 50/50\n",
      "1563/1563 [==============================] - 36s 23ms/step - loss: 1.0059 - accuracy: 0.6476 - val_loss: 0.8726 - val_accuracy: 0.7055\n"
     ]
    }
   ],
   "source": [
    "datagen = ImageDataGenerator(\n",
    "    rotation_range= 40,\n",
    "    width_shift_range= 0.2,\n",
    "    height_shift_range= 0.2,\n",
    "    shear_range= 0.2,\n",
    "    zoom_range= 0.2,\n",
    "    horizontal_flip= True,\n",
    "    fill_mode= 'nearest'\n",
    ")\n",
    "\n",
    "augmented_history = model.fit(datagen.flow(train_images, train_labels, batch_size=32), epochs= 50, validation_data=(test_images, test_labels), verbose=1)"
   ]
  },
  {
   "cell_type": "markdown",
   "metadata": {},
   "source": [
    "# **Making Predictions**"
   ]
  },
  {
   "cell_type": "code",
   "execution_count": null,
   "metadata": {},
   "outputs": [
    {
     "name": "stdout",
     "output_type": "stream",
     "text": [
      "313/313 [==============================] - 1s 4ms/step\n"
     ]
    },
    {
     "data": {
      "image/png": "[encoded data removed]",
      "text/plain": [
       "<Figure size 640x480 with 1 Axes>"
      ]
     },
     "metadata": {},
     "output_type": "display_data"
    }
   ],
   "source": [
    "predictions = model.predict(test_images)\n",
    "\n",
    "img_selector = 0\n",
    "\n",
    "plt.imshow(test_images[img_selector], cmap= plt.cm.binary)\n",
    "plt.title('Expected: '+ class_names[test_labels[img_selector][0]])\n",
    "plt.xlabel('Predicted: '+ class_names[np.argmax(predictions[img_selector])])\n",
    "\n",
    "plt.show()"
   ]
  },
  {
   "cell_type": "code",
   "execution_count": null,
   "metadata": {},
   "outputs": [],
   "source": []
  }
 ],
 "metadata": {
  "kernelspec": {
   "display_name": "Python 3.10.6 ('work_env')",
   "language": "python",
   "name": "python3"
  },
  "language_info": {
   "codemirror_mode": {
    "name": "ipython",
    "version": 3
   },
   "file_extension": ".py",
   "mimetype": "text/x-python",
   "name": "python",
   "nbconvert_exporter": "python",
   "pygments_lexer": "ipython3",
   "version": "3.10.6"
  },
  "orig_nbformat": 4,
  "vscode": {
   "interpreter": {
    "hash": "72dcb3faa37ade2020a234990edafe6daa1b6e37ccadfe6b1095b7450ad07f30"
   }
  }
 },
 "nbformat": 4,
 "nbformat_minor": 2
}
