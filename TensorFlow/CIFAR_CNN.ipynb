{
  "cells": [
    {
      "cell_type": "markdown",
      "metadata": {
        "id": "As2DJnPztU6n"
      },
      "source": [
        "# **Imports**"
      ]
    },
    {
      "cell_type": "code",
      "execution_count": 45,
      "metadata": {
        "id": "PLVwgaRctU6u",
        "colab": {
          "base_uri": "https://localhost:8080/"
        },
        "outputId": "9559c1f0-98d2-4ea7-d99a-563f85ea5fff"
      },
      "outputs": [
        {
          "output_type": "stream",
          "name": "stdout",
          "text": [
            "Colab only includes TensorFlow 2.x; %tensorflow_version has no effect.\n"
          ]
        }
      ],
      "source": [
        "import os\n",
        "os.environ['TF_CPP_MIN_LOG_LEVEL'] = '2'\n",
        "\n",
        "%tensorflow_version 2.x\n",
        "import tensorflow as tf\n",
        "\n",
        "from tensorflow.keras import datasets, layers, models, regularizers # type: ignore\n",
        "\n",
        "import numpy as np\n",
        "\n",
        "import matplotlib.pyplot as plt\n",
        "\n",
        "from keras.preprocessing import image\n",
        "from keras.preprocessing.image import ImageDataGenerator"
      ]
    },
    {
      "cell_type": "markdown",
      "metadata": {
        "id": "ZM05UUfxtU6x"
      },
      "source": [
        "## **Importing CIFAR Dataset**"
      ]
    },
    {
      "cell_type": "code",
      "execution_count": 46,
      "metadata": {
        "id": "hxJcLkn8tU6y"
      },
      "outputs": [],
      "source": [
        "# This has 60,000 32x32 color images with 10 classes and 6000 images for each class.\n",
        "\n",
        "(train_images, train_labels), (test_images, test_labels) = datasets.cifar10.load_data()"
      ]
    },
    {
      "cell_type": "markdown",
      "metadata": {
        "id": "PbsqzhWltU61"
      },
      "source": [
        "### **Normalizing Data**"
      ]
    },
    {
      "cell_type": "code",
      "execution_count": 47,
      "metadata": {
        "id": "SGGsqayctU62"
      },
      "outputs": [],
      "source": [
        "train_images = train_images / 255.0\n",
        "\n",
        "test_images = test_images / 255.0"
      ]
    },
    {
      "cell_type": "markdown",
      "metadata": {
        "id": "nqwF4LRStU68"
      },
      "source": [
        "## **Class Names**"
      ]
    },
    {
      "cell_type": "code",
      "execution_count": 48,
      "metadata": {
        "id": "UYR19VnqtU6-"
      },
      "outputs": [],
      "source": [
        "class_names = ['airplane', 'automobile', 'bird', 'cat', 'deer', 'dog', 'frog', 'horse', 'ship', 'truck']"
      ]
    },
    {
      "cell_type": "markdown",
      "metadata": {
        "id": "68VP1hfItU6_"
      },
      "source": [
        "## **Show Image**"
      ]
    },
    {
      "cell_type": "code",
      "execution_count": 49,
      "metadata": {
        "colab": {
          "base_uri": "https://localhost:8080/",
          "height": 280
        },
        "id": "Q2TLxtPjtU7C",
        "outputId": "e4b4d9bf-e90c-4574-bc04-a20fd69d7698"
      },
      "outputs": [
        {
          "output_type": "display_data",
          "data": {
            "text/plain": [
              "<Figure size 432x288 with 1 Axes>"
            ],
            "image/png": "[encoded data removed]"
          },
          "metadata": {
            "needs_background": "light"
          }
        }
      ],
      "source": [
        "img_selector = 2\n",
        "\n",
        "plt.imshow(train_images[img_selector], cmap= plt.cm.binary)\n",
        "\n",
        "plt.xlabel(class_names[train_labels[img_selector][0]])\n",
        "\n",
        "plt.show()"
      ]
    },
    {
      "cell_type": "markdown",
      "metadata": {
        "id": "P6X6XOCytU7F"
      },
      "source": [
        "# **Building Model**"
      ]
    },
    {
      "cell_type": "code",
      "execution_count": 50,
      "metadata": {
        "id": "fHRAUnnatU7J"
      },
      "outputs": [],
      "source": [
        "model = models.Sequential()"
      ]
    },
    {
      "cell_type": "markdown",
      "metadata": {
        "id": "qFzT3Y-stU7N"
      },
      "source": [
        "## **Convoluted Layers**"
      ]
    },
    {
      "cell_type": "code",
      "execution_count": 51,
      "metadata": {
        "id": "O4lHRg0ZtU7N"
      },
      "outputs": [],
      "source": [
        "model.add(layers.Conv2D(32, (3, 3), activation= 'relu', input_shape= (32, 32, 3)))\n",
        "model.add(layers.BatchNormalization())\n",
        "model.add(layers.Dropout(0.5))\n",
        "model.add(layers.MaxPooling2D((2, 2)))\n",
        "\n",
        "model.add(layers.Conv2D(64, (3, 3), padding= 'same', kernel_regularizer= regularizers.l2(0.01), activation= 'relu'))\n",
        "model.add(layers.BatchNormalization())\n",
        "model.add(layers.MaxPooling2D((2, 2)))\n",
        "\n",
        "model.add(layers.Conv2D(64, (3, 3), padding= 'same', kernel_regularizer= regularizers.l2(0.01), activation= 'relu'))\n"
      ]
    },
    {
      "cell_type": "code",
      "execution_count": 52,
      "metadata": {
        "colab": {
          "base_uri": "https://localhost:8080/"
        },
        "id": "SR1GMj1xtU7O",
        "outputId": "88b015f8-8467-45b7-b4f1-3f37db6712dd"
      },
      "outputs": [
        {
          "output_type": "stream",
          "name": "stdout",
          "text": [
            "Model: \"sequential_3\"\n",
            "_________________________________________________________________\n",
            " Layer (type)                Output Shape              Param #   \n",
            "=================================================================\n",
            " conv2d_9 (Conv2D)           (None, 30, 30, 32)        896       \n",
            "                                                                 \n",
            " batch_normalization_2 (Batc  (None, 30, 30, 32)       128       \n",
            " hNormalization)                                                 \n",
            "                                                                 \n",
            " dropout_4 (Dropout)         (None, 30, 30, 32)        0         \n",
            "                                                                 \n",
            " max_pooling2d_6 (MaxPooling  (None, 15, 15, 32)       0         \n",
            " 2D)                                                             \n",
            "                                                                 \n",
            " conv2d_10 (Conv2D)          (None, 15, 15, 64)        18496     \n",
            "                                                                 \n",
            " batch_normalization_3 (Batc  (None, 15, 15, 64)       256       \n",
            " hNormalization)                                                 \n",
            "                                                                 \n",
            " max_pooling2d_7 (MaxPooling  (None, 7, 7, 64)         0         \n",
            " 2D)                                                             \n",
            "                                                                 \n",
            " conv2d_11 (Conv2D)          (None, 7, 7, 64)          36928     \n",
            "                                                                 \n",
            "=================================================================\n",
            "Total params: 56,704\n",
            "Trainable params: 56,512\n",
            "Non-trainable params: 192\n",
            "_________________________________________________________________\n"
          ]
        }
      ],
      "source": [
        "model.summary()"
      ]
    },
    {
      "cell_type": "markdown",
      "metadata": {
        "id": "Y5gEl01-tU7P"
      },
      "source": [
        "## **Dense Layers**"
      ]
    },
    {
      "cell_type": "code",
      "execution_count": 53,
      "metadata": {
        "id": "Y6YMZNyytU7Q"
      },
      "outputs": [],
      "source": [
        "model.add(layers.Flatten())\n",
        "model.add(layers.Dense(100, activation= 'relu'))\n",
        "model.add(layers.Dense(50, activation= 'relu'))\n",
        "model.add(layers.Dropout(0.5))\n",
        "model.add(layers.Dense(10))"
      ]
    },
    {
      "cell_type": "code",
      "execution_count": 54,
      "metadata": {
        "colab": {
          "base_uri": "https://localhost:8080/"
        },
        "id": "zFoYqOWutU7S",
        "outputId": "572cdf73-8101-4c15-a537-3fafa952e064"
      },
      "outputs": [
        {
          "output_type": "stream",
          "name": "stdout",
          "text": [
            "Model: \"sequential_3\"\n",
            "_________________________________________________________________\n",
            " Layer (type)                Output Shape              Param #   \n",
            "=================================================================\n",
            " conv2d_9 (Conv2D)           (None, 30, 30, 32)        896       \n",
            "                                                                 \n",
            " batch_normalization_2 (Batc  (None, 30, 30, 32)       128       \n",
            " hNormalization)                                                 \n",
            "                                                                 \n",
            " dropout_4 (Dropout)         (None, 30, 30, 32)        0         \n",
            "                                                                 \n",
            " max_pooling2d_6 (MaxPooling  (None, 15, 15, 32)       0         \n",
            " 2D)                                                             \n",
            "                                                                 \n",
            " conv2d_10 (Conv2D)          (None, 15, 15, 64)        18496     \n",
            "                                                                 \n",
            " batch_normalization_3 (Batc  (None, 15, 15, 64)       256       \n",
            " hNormalization)                                                 \n",
            "                                                                 \n",
            " max_pooling2d_7 (MaxPooling  (None, 7, 7, 64)         0         \n",
            " 2D)                                                             \n",
            "                                                                 \n",
            " conv2d_11 (Conv2D)          (None, 7, 7, 64)          36928     \n",
            "                                                                 \n",
            " flatten_3 (Flatten)         (None, 3136)              0         \n",
            "                                                                 \n",
            " dense_9 (Dense)             (None, 100)               313700    \n",
            "                                                                 \n",
            " dense_10 (Dense)            (None, 50)                5050      \n",
            "                                                                 \n",
            " dropout_5 (Dropout)         (None, 50)                0         \n",
            "                                                                 \n",
            " dense_11 (Dense)            (None, 10)                510       \n",
            "                                                                 \n",
            "=================================================================\n",
            "Total params: 375,964\n",
            "Trainable params: 375,772\n",
            "Non-trainable params: 192\n",
            "_________________________________________________________________\n"
          ]
        }
      ],
      "source": [
        "model.summary()"
      ]
    },
    {
      "cell_type": "markdown",
      "source": [
        "Model: \"sequential\"\n",
        "_________________________________________________________________\n",
        " Layer (type)                Output Shape              Param #   \n",
        "=================================================================\n",
        " conv2d (Conv2D)             (None, 30, 30, 32)        896       \n",
        "                                                                 \n",
        " max_pooling2d (MaxPooling2D  (None, 15, 15, 32)       0         \n",
        " )                                                               \n",
        "                                                                 \n",
        " conv2d_1 (Conv2D)           (None, 13, 13, 64)        18496     \n",
        "                                                                 \n",
        " max_pooling2d_1 (MaxPooling  (None, 6, 6, 64)         0         \n",
        " 2D)                                                             \n",
        "                                                                 \n",
        " conv2d_2 (Conv2D)           (None, 4, 4, 64)          36928     \n",
        "                                                                 \n",
        " flatten (Flatten)           (None, 1024)              0         \n",
        "                                                                 \n",
        " dense (Dense)               (None, 200)               205000    \n",
        "                                                                 \n",
        " dense_1 (Dense)             (None, 100)               20100     \n",
        "                                                                 \n",
        " dense_2 (Dense)             (None, 50)                5050      \n",
        "                                                                 \n",
        " dense_3 (Dense)             (None, 10)                510       \n",
        "                                                                 \n",
        "=================================================================\n",
        "Total params: 286,980\n",
        "Trainable params: 286,980\n",
        "Non-trainable params: 0\n",
        "_________________________________________________________________"
      ],
      "metadata": {
        "id": "0iZEiJeG2Dsp"
      }
    },
    {
      "cell_type": "markdown",
      "metadata": {
        "id": "1FYoZ4mxtU7W"
      },
      "source": [
        "# **Compile Model**"
      ]
    },
    {
      "cell_type": "code",
      "execution_count": null,
      "metadata": {
        "colab": {
          "base_uri": "https://localhost:8080/"
        },
        "id": "uA6olU1rtU7X",
        "outputId": "e7c43c29-2f40-407c-8e58-1e43b709a5cf"
      },
      "outputs": [
        {
          "output_type": "stream",
          "name": "stdout",
          "text": [
            "Epoch 1/100\n",
            "50/50 [==============================] - 5s 66ms/step - loss: 2.9231 - accuracy: 0.2425 - val_loss: 2.8683 - val_accuracy: 0.1245\n",
            "Epoch 2/100\n",
            "50/50 [==============================] - 2s 49ms/step - loss: 2.1128 - accuracy: 0.4013 - val_loss: 2.8737 - val_accuracy: 0.1078\n",
            "Epoch 3/100\n",
            "50/50 [==============================] - 2s 49ms/step - loss: 1.7365 - accuracy: 0.4799 - val_loss: 2.9622 - val_accuracy: 0.1128\n",
            "Epoch 4/100\n",
            "50/50 [==============================] - 3s 52ms/step - loss: 1.5312 - accuracy: 0.5310 - val_loss: 3.0756 - val_accuracy: 0.1139\n",
            "Epoch 5/100\n",
            "50/50 [==============================] - 2s 49ms/step - loss: 1.3707 - accuracy: 0.5770 - val_loss: 2.9189 - val_accuracy: 0.1508\n",
            "Epoch 6/100\n",
            "50/50 [==============================] - 3s 52ms/step - loss: 1.2621 - accuracy: 0.6152 - val_loss: 3.5788 - val_accuracy: 0.1566\n",
            "Epoch 7/100\n",
            "50/50 [==============================] - 2s 49ms/step - loss: 1.1850 - accuracy: 0.6405 - val_loss: 2.7247 - val_accuracy: 0.2292\n",
            "Epoch 8/100\n",
            "50/50 [==============================] - 2s 49ms/step - loss: 1.1157 - accuracy: 0.6634 - val_loss: 2.8956 - val_accuracy: 0.2812\n",
            "Epoch 9/100\n",
            "50/50 [==============================] - 2s 49ms/step - loss: 1.0647 - accuracy: 0.6808 - val_loss: 2.1344 - val_accuracy: 0.3416\n",
            "Epoch 10/100\n",
            "50/50 [==============================] - 2s 50ms/step - loss: 1.0206 - accuracy: 0.6982 - val_loss: 1.8998 - val_accuracy: 0.4308\n",
            "Epoch 11/100\n",
            "50/50 [==============================] - 2s 50ms/step - loss: 0.9717 - accuracy: 0.7162 - val_loss: 1.5155 - val_accuracy: 0.5289\n",
            "Epoch 12/100\n",
            "50/50 [==============================] - 3s 53ms/step - loss: 0.9605 - accuracy: 0.7177 - val_loss: 1.4213 - val_accuracy: 0.5682\n",
            "Epoch 13/100\n",
            "50/50 [==============================] - 2s 50ms/step - loss: 0.9157 - accuracy: 0.7352 - val_loss: 1.2254 - val_accuracy: 0.6269\n",
            "Epoch 14/100\n",
            "50/50 [==============================] - 3s 53ms/step - loss: 0.9085 - accuracy: 0.7369 - val_loss: 1.1898 - val_accuracy: 0.6375\n",
            "Epoch 15/100\n",
            "50/50 [==============================] - 2s 50ms/step - loss: 0.8875 - accuracy: 0.7445 - val_loss: 1.4125 - val_accuracy: 0.5884\n",
            "Epoch 16/100\n",
            "50/50 [==============================] - 3s 53ms/step - loss: 0.8512 - accuracy: 0.7573 - val_loss: 1.4087 - val_accuracy: 0.5848\n",
            "Epoch 17/100\n",
            "50/50 [==============================] - 2s 50ms/step - loss: 0.8405 - accuracy: 0.7629 - val_loss: 1.3903 - val_accuracy: 0.5897\n",
            "Epoch 18/100\n",
            "50/50 [==============================] - 3s 50ms/step - loss: 0.8147 - accuracy: 0.7728 - val_loss: 1.6551 - val_accuracy: 0.5656\n",
            "Epoch 19/100\n",
            "50/50 [==============================] - 3s 53ms/step - loss: 0.8144 - accuracy: 0.7728 - val_loss: 1.1608 - val_accuracy: 0.6561\n",
            "Epoch 20/100\n",
            "50/50 [==============================] - 3s 53ms/step - loss: 0.7977 - accuracy: 0.7807 - val_loss: 1.0441 - val_accuracy: 0.6991\n",
            "Epoch 21/100\n",
            "50/50 [==============================] - 3s 53ms/step - loss: 0.7737 - accuracy: 0.7905 - val_loss: 1.1720 - val_accuracy: 0.6561\n",
            "Epoch 22/100\n",
            "50/50 [==============================] - 3s 54ms/step - loss: 0.7536 - accuracy: 0.7954 - val_loss: 1.0122 - val_accuracy: 0.7103\n",
            "Epoch 23/100\n",
            "50/50 [==============================] - 3s 54ms/step - loss: 0.7511 - accuracy: 0.7984 - val_loss: 1.2483 - val_accuracy: 0.6439\n",
            "Epoch 24/100\n",
            "50/50 [==============================] - 3s 53ms/step - loss: 0.7408 - accuracy: 0.8028 - val_loss: 1.1781 - val_accuracy: 0.6603\n",
            "Epoch 25/100\n",
            "50/50 [==============================] - 3s 53ms/step - loss: 0.7287 - accuracy: 0.8082 - val_loss: 1.1356 - val_accuracy: 0.6740\n",
            "Epoch 26/100\n",
            "50/50 [==============================] - 2s 50ms/step - loss: 0.7038 - accuracy: 0.8156 - val_loss: 1.1564 - val_accuracy: 0.6789\n",
            "Epoch 27/100\n",
            "50/50 [==============================] - 2s 50ms/step - loss: 0.7067 - accuracy: 0.8163 - val_loss: 1.1269 - val_accuracy: 0.6854\n",
            "Epoch 28/100\n",
            "50/50 [==============================] - 2s 49ms/step - loss: 0.6855 - accuracy: 0.8230 - val_loss: 1.0550 - val_accuracy: 0.7097\n",
            "Epoch 29/100\n",
            "50/50 [==============================] - 3s 53ms/step - loss: 0.6807 - accuracy: 0.8257 - val_loss: 1.0153 - val_accuracy: 0.7206\n",
            "Epoch 30/100\n",
            "50/50 [==============================] - 3s 53ms/step - loss: 0.6577 - accuracy: 0.8334 - val_loss: 1.0215 - val_accuracy: 0.7217\n",
            "Epoch 31/100\n",
            "50/50 [==============================] - 3s 53ms/step - loss: 0.6634 - accuracy: 0.8313 - val_loss: 1.0050 - val_accuracy: 0.7225\n",
            "Epoch 32/100\n",
            "50/50 [==============================] - 3s 50ms/step - loss: 0.6488 - accuracy: 0.8378 - val_loss: 1.1245 - val_accuracy: 0.6866\n",
            "Epoch 33/100\n",
            "50/50 [==============================] - 2s 49ms/step - loss: 0.6471 - accuracy: 0.8378 - val_loss: 1.0566 - val_accuracy: 0.7120\n",
            "Epoch 34/100\n",
            "16/50 [========>.....................] - ETA: 1s - loss: 0.6239 - accuracy: 0.8464"
          ]
        }
      ],
      "source": [
        "model.compile(  optimizer= 'adam',\n",
        "                loss= tf.keras.losses.SparseCategoricalCrossentropy(from_logits= True),\n",
        "                metrics= ['accuracy'])\n",
        "\n",
        "history = model.fit(train_images, train_labels, batch_size=1000, epochs= 100, validation_data=(test_images, test_labels), verbose = 1)"
      ]
    },
    {
      "cell_type": "markdown",
      "source": [
        "\n",
        "Epoch 50/50\n",
        "1563/1563 [==============================] - 8s 5ms/step - loss: 0.0716 - accuracy: 0.9769 - val_loss: 2.3869 - val_accuracy: 0.6806"
      ],
      "metadata": {
        "id": "XqJI-4YU2MZH"
      }
    },
    {
      "cell_type": "code",
      "execution_count": null,
      "metadata": {
        "id": "G2Rde-HgtU7b"
      },
      "outputs": [],
      "source": [
        "test_loss, test_acc = model.evaluate(test_images, test_labels, verbose=2)\n",
        "\n",
        "print(f'{test_loss:.2f} | {test_acc:.2f}')"
      ]
    },
    {
      "cell_type": "markdown",
      "metadata": {
        "id": "AG85pis3tU7c"
      },
      "source": [
        "# **Data Augmentation**"
      ]
    },
    {
      "cell_type": "markdown",
      "source": [
        "datagen = ImageDataGenerator(\n",
        "    rotation_range= 40,\n",
        "    width_shift_range= 0.2,\n",
        "    height_shift_range= 0.2,\n",
        "    shear_range= 0.2,\n",
        "    zoom_range= 0.2,\n",
        "    horizontal_flip= True,\n",
        "    fill_mode= 'nearest'\n",
        ")\n",
        "\n",
        "augmented_history = model.fit(datagen.flow(train_images, train_labels, batch_size=32), epochs= 10, validation_data=(test_images, test_labels), verbose=1)"
      ],
      "metadata": {
        "id": "UKXuJ9WHtn40"
      }
    },
    {
      "cell_type": "code",
      "source": [
        "datagen = ImageDataGenerator( rotation_range= 40, \n",
        "                              width_shift_range= 0.2, \n",
        "                              height_shift_range= 0.2, \n",
        "                              shear_range= 0.2, \n",
        "                              zoom_range= 0.2,\n",
        "                              horizontal_flip= True,\n",
        "                              fill_mode= 'nearest' )\n",
        "\n",
        "augmented_history = model.fit(datagen.flow(train_images, train_labels, batch_size=1000), epochs= 100, validation_data=(test_images, test_labels), verbose=1)\n"
      ],
      "metadata": {
        "id": "r3EY8pSHvbPc"
      },
      "execution_count": null,
      "outputs": []
    },
    {
      "cell_type": "markdown",
      "source": [
        "# **Making Predictions**"
      ],
      "metadata": {
        "id": "utxyKtZDt5PG"
      }
    },
    {
      "cell_type": "code",
      "source": [
        "predictions = model.predict(test_images)\n",
        "\n",
        "img_selector = 0\n",
        "\n",
        "plt.imshow(test_images[img_selector], cmap= plt.cm.binary)\n",
        "plt.title('Expected: '+ class_names[test_labels[img_selector][0]])\n",
        "plt.xlabel('Predicted: '+ class_names[np.argmax(predictions[img_selector])])\n",
        "\n",
        "plt.show()"
      ],
      "metadata": {
        "id": "apFvZEtmt8Hy"
      },
      "execution_count": null,
      "outputs": []
    },
    {
      "cell_type": "code",
      "source": [
        "!nvidia-smi"
      ],
      "metadata": {
        "id": "rW1EiCGhuRIB"
      },
      "execution_count": null,
      "outputs": []
    },
    {
      "cell_type": "code",
      "source": [],
      "metadata": {
        "id": "Gyy54k1UuSFA"
      },
      "execution_count": null,
      "outputs": []
    }
  ],
  "metadata": {
    "kernelspec": {
      "display_name": "Python 3.10.6 ('work_env')",
      "language": "python",
      "name": "python3"
    },
    "language_info": {
      "codemirror_mode": {
        "name": "ipython",
        "version": 3
      },
      "file_extension": ".py",
      "mimetype": "text/x-python",
      "name": "python",
      "nbconvert_exporter": "python",
      "pygments_lexer": "ipython3",
      "version": "3.10.6"
    },
    "orig_nbformat": 4,
    "vscode": {
      "interpreter": {
        "hash": "72dcb3faa37ade2020a234990edafe6daa1b6e37ccadfe6b1095b7450ad07f30"
      }
    },
    "colab": {
      "provenance": []
    },
    "accelerator": "GPU",
    "gpuClass": "standard"
  },
  "nbformat": 4,
  "nbformat_minor": 0
}